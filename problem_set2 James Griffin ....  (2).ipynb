{
 "cells": [
  {
   "cell_type": "markdown",
   "metadata": {},
   "source": [
    "# Problem Set 2\n",
    "\n",
    "Many of the concepts needed to complete this homework are introduced in the recitation notebooks and the python tutorials. "
   ]
  },
  {
   "cell_type": "code",
   "execution_count": 86,
   "metadata": {},
   "outputs": [],
   "source": [
    "# use this cell to import the modules you will be using\n",
    "import pandas as pd\n",
    "import seaborn as sns\n",
    "import statsmodels.api as sm\n",
    "import numpy as np\n",
    "from pandas.plotting import scatter_matrix\n",
    "from matplotlib import pyplot as plt"
   ]
  },
  {
   "cell_type": "markdown",
   "metadata": {},
   "source": [
    "### Python Basics\n",
    "\n",
    "#### (1)\n",
    "Based on excercise 12 chapter 4 in ISLR.  \n",
    "$(a)$ write a function called `power` that raises the input to 3rd power. Use the function to calculate $10^3$ "
   ]
  },
  {
   "cell_type": "code",
   "execution_count": 87,
   "metadata": {},
   "outputs": [
    {
     "data": {
      "text/plain": [
       "1000"
      ]
     },
     "execution_count": 87,
     "metadata": {},
     "output_type": "execute_result"
    }
   ],
   "source": [
    "def power(n):\n",
    "    n = n**3\n",
    "    return n\n",
    "power(10)"
   ]
  },
  {
   "cell_type": "markdown",
   "metadata": {},
   "source": [
    "$(b)$ write a function called `power2` that takes two inputs and raises the first number to the power of the second number. Use this function to calculate $10^3$, $8^{17}$ and $131^3$"
   ]
  },
  {
   "cell_type": "code",
   "execution_count": 88,
   "metadata": {},
   "outputs": [
    {
     "name": "stdout",
     "output_type": "stream",
     "text": [
      "1000\n",
      "2251799813685248\n",
      "2248091\n"
     ]
    }
   ],
   "source": [
    "def power2(a,b):\n",
    "    c = a**b\n",
    "    return c\n",
    "\n",
    "print(power2(10,3))\n",
    "print(power2(8,17))\n",
    "print(power2(131,3))\n",
    "\n",
    "\n"
   ]
  },
  {
   "cell_type": "markdown",
   "metadata": {},
   "source": [
    "$(c)$ Create lists of values of squared and cubed vlaues of 1 through 5 using you functions. You can use loops or list comprehensions to do this. Display the curves of the first, second and third powers of the inputs"
   ]
  },
  {
   "cell_type": "code",
   "execution_count": 89,
   "metadata": {},
   "outputs": [
    {
     "data": {
      "text/html": [
       "<div>\n",
       "<style scoped>\n",
       "    .dataframe tbody tr th:only-of-type {\n",
       "        vertical-align: middle;\n",
       "    }\n",
       "\n",
       "    .dataframe tbody tr th {\n",
       "        vertical-align: top;\n",
       "    }\n",
       "\n",
       "    .dataframe thead th {\n",
       "        text-align: right;\n",
       "    }\n",
       "</style>\n",
       "<table border=\"1\" class=\"dataframe\">\n",
       "  <thead>\n",
       "    <tr style=\"text-align: right;\">\n",
       "      <th></th>\n",
       "      <th>first</th>\n",
       "      <th>square</th>\n",
       "      <th>cube</th>\n",
       "    </tr>\n",
       "  </thead>\n",
       "  <tbody>\n",
       "    <tr>\n",
       "      <th>0</th>\n",
       "      <td>0</td>\n",
       "      <td>0</td>\n",
       "      <td>0</td>\n",
       "    </tr>\n",
       "    <tr>\n",
       "      <th>1</th>\n",
       "      <td>1</td>\n",
       "      <td>1</td>\n",
       "      <td>1</td>\n",
       "    </tr>\n",
       "    <tr>\n",
       "      <th>2</th>\n",
       "      <td>2</td>\n",
       "      <td>4</td>\n",
       "      <td>8</td>\n",
       "    </tr>\n",
       "    <tr>\n",
       "      <th>3</th>\n",
       "      <td>3</td>\n",
       "      <td>9</td>\n",
       "      <td>27</td>\n",
       "    </tr>\n",
       "    <tr>\n",
       "      <th>4</th>\n",
       "      <td>4</td>\n",
       "      <td>16</td>\n",
       "      <td>64</td>\n",
       "    </tr>\n",
       "  </tbody>\n",
       "</table>\n",
       "</div>"
      ],
      "text/plain": [
       "   first  square  cube\n",
       "0      0       0     0\n",
       "1      1       1     1\n",
       "2      2       4     8\n",
       "3      3       9    27\n",
       "4      4      16    64"
      ]
     },
     "execution_count": 89,
     "metadata": {},
     "output_type": "execute_result"
    }
   ],
   "source": [
    "f = []\n",
    "s = []\n",
    "th = []\n",
    "\n",
    "for i in range(5):\n",
    "    f.append(i**1)\n",
    "    s.append(i**2)\n",
    "    th.append(i**3)\n",
    "    \n",
    "df = pd.DataFrame({\n",
    "    \"first\": f,\n",
    "    'square': s,\n",
    "    \"cube\": th\n",
    "})\n",
    "df.head()"
   ]
  },
  {
   "cell_type": "markdown",
   "metadata": {},
   "source": [
    "$(d)$ Add a legend to the plot that shows which color corresponds to the power"
   ]
  },
  {
   "cell_type": "code",
   "execution_count": 90,
   "metadata": {},
   "outputs": [
    {
     "data": {
      "text/plain": [
       "<matplotlib.axes._subplots.AxesSubplot at 0x22cf9b7d908>"
      ]
     },
     "execution_count": 90,
     "metadata": {},
     "output_type": "execute_result"
    },
    {
     "data": {
      "image/png": "[encoded data removed]",
      "text/plain": [
       "<Figure size 432x288 with 1 Axes>"
      ]
     },
     "metadata": {
      "needs_background": "light"
     },
     "output_type": "display_data"
    }
   ],
   "source": [
    "sns.lineplot(data=df)"
   ]
  },
  {
   "cell_type": "markdown",
   "metadata": {},
   "source": [
    "$(e)$ create a function called `plot_power` that creates a plot for a range of values that are given as an argument raised to the integer power given. A function call should look something like this `plot_power(low,high,power)` feel free to use different variable names for inputs."
   ]
  },
  {
   "cell_type": "code",
   "execution_count": 91,
   "metadata": {},
   "outputs": [
    {
     "name": "stdout",
     "output_type": "stream",
     "text": [
      "getting here\n",
      "getting here\n",
      "getting here\n"
     ]
    },
    {
     "data": {
      "text/plain": [
       "<matplotlib.axes._subplots.AxesSubplot at 0x22cf9cdcf98>"
      ]
     },
     "execution_count": 91,
     "metadata": {},
     "output_type": "execute_result"
    },
    {
     "data": {
      "image/png": "[encoded data removed]",
      "text/plain": [
       "<Figure size 432x288 with 1 Axes>"
      ]
     },
     "metadata": {
      "needs_background": "light"
     },
     "output_type": "display_data"
    }
   ],
   "source": [
    "def plot_power(low, high, exp):\n",
    "    pv = []\n",
    "    i = low\n",
    "    while i <= high:\n",
    "        pv.append([i, power2(i, exp)])\n",
    "        i += 1\n",
    "        print(\"getting here\")\n",
    "        #print(pv)       \n",
    "    pv = pd.DataFrame(pv, columns = [\"values\", \"powers\"])\n",
    "    return sns.lineplot(x = \"values\", y = \"powers\", data=pv)\n",
    "\n",
    "\n",
    "plot_power(1, 3, 4)   "
   ]
  },
  {
   "cell_type": "markdown",
   "metadata": {},
   "source": [
    "$(f)$ Define a function called `display_power_plots` that plots multiple powers based on a list of them passed as an argument over a range passed in similarly to the one above. Add a legend that shows which curve corresponds to which power. A function call should something look like this `display_power_plots(low,high,[p1,p2,p3])`"
   ]
  },
  {
   "cell_type": "code",
   "execution_count": 92,
   "metadata": {},
   "outputs": [
    {
     "data": {
      "image/png": "[encoded data removed]",
      "text/plain": [
       "<Figure size 432x288 with 1 Axes>"
      ]
     },
     "metadata": {
      "needs_background": "light"
     },
     "output_type": "display_data"
    }
   ],
   "source": [
    "# def display_power_plots(low,high,list(p1,p2,p3):\n",
    "#     first = []\n",
    "#     second = []\n",
    "#     third = []\n",
    "#     while i <= high:\n",
    "#         first.append([i, i**p1])\n",
    "#         second.append([i, i**p2])\n",
    "#         third.append([i, i**p3])\n",
    "#         #pv.append([i, power2(i, exp)])\n",
    "#         i += 1\n",
    "#         #print(\"getting here\")\n",
    "#         #print(pv)       \n",
    "#     first = pd.DataFrame(first, columns = [\"values\", \"powers\"])\n",
    "#     second = pd.DataFrame(second, columns = [\"values\", \"powers\"])\n",
    "#     third = pd.DataFrame(third, columns = [\"values\", \"powers\"])\n",
    "    \n",
    "#     plt.plot(first, label = \"first power\")\n",
    "#     plt.plot(second, label = \"second power\")\n",
    "#     plt.plot(third, label = \"third\")\n",
    "    \n",
    "    \n",
    "#     return plt.show() #sns.lineplot(x = \"values\", y = \"powers\", data=pv)\n",
    "\n",
    "\n",
    "def display_power_plots(low, high, list_of_powers):\n",
    "    for i in list_of_powers:\n",
    "        sns.lineplot(range(low, high+1), [power2(x, i) for x in range(low, high+1)])\n",
    "        \n",
    "list_of_powers = [3,5,7]\n",
    "display_power_plots(3,6, list_of_powers)"
   ]
  },
  {
   "cell_type": "markdown",
   "metadata": {},
   "source": [
    "#### 2\n",
    "In this problem, you will develop a model to predict whether a given car gets high or low gas mileage based on the `Auto` data set.  \n",
    "Look at the dtypes of the variables and correct the problematic values to be the mean of the values that are present. Update the column so python knows to treat the column as a numeric variable and not strings."
   ]
  },
  {
   "cell_type": "code",
   "execution_count": 93,
   "metadata": {},
   "outputs": [
    {
     "data": {
      "text/html": [
       "<div>\n",
       "<style scoped>\n",
       "    .dataframe tbody tr th:only-of-type {\n",
       "        vertical-align: middle;\n",
       "    }\n",
       "\n",
       "    .dataframe tbody tr th {\n",
       "        vertical-align: top;\n",
       "    }\n",
       "\n",
       "    .dataframe thead th {\n",
       "        text-align: right;\n",
       "    }\n",
       "</style>\n",
       "<table border=\"1\" class=\"dataframe\">\n",
       "  <thead>\n",
       "    <tr style=\"text-align: right;\">\n",
       "      <th></th>\n",
       "      <th>mpg</th>\n",
       "      <th>cylinders</th>\n",
       "      <th>displacement</th>\n",
       "      <th>horsepower</th>\n",
       "      <th>weight</th>\n",
       "      <th>acceleration</th>\n",
       "      <th>year</th>\n",
       "      <th>origin</th>\n",
       "      <th>name</th>\n",
       "    </tr>\n",
       "  </thead>\n",
       "  <tbody>\n",
       "    <tr>\n",
       "      <th>0</th>\n",
       "      <td>18.0</td>\n",
       "      <td>8</td>\n",
       "      <td>307.0</td>\n",
       "      <td>130</td>\n",
       "      <td>3504</td>\n",
       "      <td>12.0</td>\n",
       "      <td>70</td>\n",
       "      <td>1</td>\n",
       "      <td>chevrolet chevelle malibu</td>\n",
       "    </tr>\n",
       "    <tr>\n",
       "      <th>1</th>\n",
       "      <td>15.0</td>\n",
       "      <td>8</td>\n",
       "      <td>350.0</td>\n",
       "      <td>165</td>\n",
       "      <td>3693</td>\n",
       "      <td>11.5</td>\n",
       "      <td>70</td>\n",
       "      <td>1</td>\n",
       "      <td>buick skylark 320</td>\n",
       "    </tr>\n",
       "    <tr>\n",
       "      <th>2</th>\n",
       "      <td>18.0</td>\n",
       "      <td>8</td>\n",
       "      <td>318.0</td>\n",
       "      <td>150</td>\n",
       "      <td>3436</td>\n",
       "      <td>11.0</td>\n",
       "      <td>70</td>\n",
       "      <td>1</td>\n",
       "      <td>plymouth satellite</td>\n",
       "    </tr>\n",
       "    <tr>\n",
       "      <th>3</th>\n",
       "      <td>16.0</td>\n",
       "      <td>8</td>\n",
       "      <td>304.0</td>\n",
       "      <td>150</td>\n",
       "      <td>3433</td>\n",
       "      <td>12.0</td>\n",
       "      <td>70</td>\n",
       "      <td>1</td>\n",
       "      <td>amc rebel sst</td>\n",
       "    </tr>\n",
       "    <tr>\n",
       "      <th>4</th>\n",
       "      <td>17.0</td>\n",
       "      <td>8</td>\n",
       "      <td>302.0</td>\n",
       "      <td>140</td>\n",
       "      <td>3449</td>\n",
       "      <td>10.5</td>\n",
       "      <td>70</td>\n",
       "      <td>1</td>\n",
       "      <td>ford torino</td>\n",
       "    </tr>\n",
       "  </tbody>\n",
       "</table>\n",
       "</div>"
      ],
      "text/plain": [
       "    mpg  cylinders  displacement horsepower  weight  acceleration  year  \\\n",
       "0  18.0          8         307.0        130    3504          12.0    70   \n",
       "1  15.0          8         350.0        165    3693          11.5    70   \n",
       "2  18.0          8         318.0        150    3436          11.0    70   \n",
       "3  16.0          8         304.0        150    3433          12.0    70   \n",
       "4  17.0          8         302.0        140    3449          10.5    70   \n",
       "\n",
       "   origin                       name  \n",
       "0       1  chevrolet chevelle malibu  \n",
       "1       1          buick skylark 320  \n",
       "2       1         plymouth satellite  \n",
       "3       1              amc rebel sst  \n",
       "4       1                ford torino  "
      ]
     },
     "execution_count": 93,
     "metadata": {},
     "output_type": "execute_result"
    }
   ],
   "source": [
    "#read in data \n",
    "auto = pd.read_csv(\"Auto.csv\")\n",
    "auto.head()"
   ]
  },
  {
   "cell_type": "markdown",
   "metadata": {},
   "source": [
    "$(a)$ Create a binary variable, `mpg01`, that contains a 1 if `mpg` contains a value above its median, and a 0 if `mpg` contains a value below its median. You can compute the median using the median() method on the mpg column of the dataframe that you are suing to store the auto data. "
   ]
  },
  {
   "cell_type": "code",
   "execution_count": 94,
   "metadata": {},
   "outputs": [
    {
     "data": {
      "text/html": [
       "<div>\n",
       "<style scoped>\n",
       "    .dataframe tbody tr th:only-of-type {\n",
       "        vertical-align: middle;\n",
       "    }\n",
       "\n",
       "    .dataframe tbody tr th {\n",
       "        vertical-align: top;\n",
       "    }\n",
       "\n",
       "    .dataframe thead th {\n",
       "        text-align: right;\n",
       "    }\n",
       "</style>\n",
       "<table border=\"1\" class=\"dataframe\">\n",
       "  <thead>\n",
       "    <tr style=\"text-align: right;\">\n",
       "      <th></th>\n",
       "      <th>mpg</th>\n",
       "      <th>cylinders</th>\n",
       "      <th>displacement</th>\n",
       "      <th>horsepower</th>\n",
       "      <th>weight</th>\n",
       "      <th>acceleration</th>\n",
       "      <th>year</th>\n",
       "      <th>origin</th>\n",
       "      <th>name</th>\n",
       "      <th>mpg_indicator</th>\n",
       "    </tr>\n",
       "  </thead>\n",
       "  <tbody>\n",
       "    <tr>\n",
       "      <th>0</th>\n",
       "      <td>18.0</td>\n",
       "      <td>8</td>\n",
       "      <td>307.0</td>\n",
       "      <td>130</td>\n",
       "      <td>3504</td>\n",
       "      <td>12.0</td>\n",
       "      <td>70</td>\n",
       "      <td>1</td>\n",
       "      <td>chevrolet chevelle malibu</td>\n",
       "      <td>0</td>\n",
       "    </tr>\n",
       "    <tr>\n",
       "      <th>1</th>\n",
       "      <td>15.0</td>\n",
       "      <td>8</td>\n",
       "      <td>350.0</td>\n",
       "      <td>165</td>\n",
       "      <td>3693</td>\n",
       "      <td>11.5</td>\n",
       "      <td>70</td>\n",
       "      <td>1</td>\n",
       "      <td>buick skylark 320</td>\n",
       "      <td>0</td>\n",
       "    </tr>\n",
       "    <tr>\n",
       "      <th>2</th>\n",
       "      <td>18.0</td>\n",
       "      <td>8</td>\n",
       "      <td>318.0</td>\n",
       "      <td>150</td>\n",
       "      <td>3436</td>\n",
       "      <td>11.0</td>\n",
       "      <td>70</td>\n",
       "      <td>1</td>\n",
       "      <td>plymouth satellite</td>\n",
       "      <td>0</td>\n",
       "    </tr>\n",
       "    <tr>\n",
       "      <th>3</th>\n",
       "      <td>16.0</td>\n",
       "      <td>8</td>\n",
       "      <td>304.0</td>\n",
       "      <td>150</td>\n",
       "      <td>3433</td>\n",
       "      <td>12.0</td>\n",
       "      <td>70</td>\n",
       "      <td>1</td>\n",
       "      <td>amc rebel sst</td>\n",
       "      <td>0</td>\n",
       "    </tr>\n",
       "    <tr>\n",
       "      <th>4</th>\n",
       "      <td>17.0</td>\n",
       "      <td>8</td>\n",
       "      <td>302.0</td>\n",
       "      <td>140</td>\n",
       "      <td>3449</td>\n",
       "      <td>10.5</td>\n",
       "      <td>70</td>\n",
       "      <td>1</td>\n",
       "      <td>ford torino</td>\n",
       "      <td>0</td>\n",
       "    </tr>\n",
       "  </tbody>\n",
       "</table>\n",
       "</div>"
      ],
      "text/plain": [
       "    mpg  cylinders  displacement horsepower  weight  acceleration  year  \\\n",
       "0  18.0          8         307.0        130    3504          12.0    70   \n",
       "1  15.0          8         350.0        165    3693          11.5    70   \n",
       "2  18.0          8         318.0        150    3436          11.0    70   \n",
       "3  16.0          8         304.0        150    3433          12.0    70   \n",
       "4  17.0          8         302.0        140    3449          10.5    70   \n",
       "\n",
       "   origin                       name  mpg_indicator  \n",
       "0       1  chevrolet chevelle malibu              0  \n",
       "1       1          buick skylark 320              0  \n",
       "2       1         plymouth satellite              0  \n",
       "3       1              amc rebel sst              0  \n",
       "4       1                ford torino              0  "
      ]
     },
     "execution_count": 94,
     "metadata": {},
     "output_type": "execute_result"
    }
   ],
   "source": [
    "#defining a function for my mpg indicator if it above or below average \n",
    "x = np.median(auto.mpg)\n",
    "mpg_indicator = []\n",
    "\n",
    "for i in range(len(auto.mpg)):\n",
    "    if auto.mpg[i] <x:\n",
    "        mpg_indicator.append(0)\n",
    "    else:\n",
    "        mpg_indicator.append(1)\n",
    "auto[\"mpg_indicator\"] = mpg_indicator\n",
    "auto.head()\n",
    "        \n",
    "        "
   ]
  },
  {
   "cell_type": "markdown",
   "metadata": {},
   "source": [
    "Calling the functions is similar for all of the functions from sklearn. This is one of the really nice things about the library: if you know how to use one then you know how to use them all."
   ]
  },
  {
   "cell_type": "markdown",
   "metadata": {},
   "source": [
    "$(b)$ Explore the data graphically in order to investigate the association between mpg01 and the other features. Which of the other features seem most likely to be useful in predicting mpg01? Scatterplots and boxplots may be useful tools to answer this question. Describe your findings."
   ]
  },
  {
   "cell_type": "code",
   "execution_count": 95,
   "metadata": {},
   "outputs": [
    {
     "data": {
      "image/png": "[encoded data removed]",
      "text/plain": [
       "<Figure size 432x288 with 1 Axes>"
      ]
     },
     "metadata": {
      "needs_background": "light"
     },
     "output_type": "display_data"
    }
   ],
   "source": [
    "plot = sns.boxplot(x = auto.mpg_indicator, y =auto.acceleration )\n",
    "plt.title(\"acceleration and mpg indicator\")\n",
    "plt.show()"
   ]
  },
  {
   "cell_type": "code",
   "execution_count": 96,
   "metadata": {},
   "outputs": [
    {
     "data": {
      "image/png": "[encoded data removed]",
      "text/plain": [
       "<Figure size 432x288 with 1 Axes>"
      ]
     },
     "metadata": {
      "needs_background": "light"
     },
     "output_type": "display_data"
    }
   ],
   "source": [
    "scatter = sns.scatterplot(x = auto.mpg, y = auto.weight)\n",
    "plt.title(\"weight and mpg scatter plot\")\n",
    "plt.show()"
   ]
  },
  {
   "cell_type": "markdown",
   "metadata": {},
   "source": [
    "$(c)$ Split the data into a training set and test set. The variable you created called `mpg01` will be the y variable."
   ]
  },
  {
   "cell_type": "code",
   "execution_count": 97,
   "metadata": {},
   "outputs": [
    {
     "name": "stdout",
     "output_type": "stream",
     "text": [
      "(265, 7)\n",
      "(132, 7)\n"
     ]
    }
   ],
   "source": [
    "from sklearn.model_selection import train_test_split\n",
    "\n",
    "#selecting all of the data except the last column\n",
    "data = auto.iloc[:, :-1]\n",
    "data.head() #want to get rid of the name column so \n",
    "data = data.select_dtypes(include = [np.number])\n",
    "data.head()#ok only numerics\n",
    "\n",
    "#selecting our y variable\n",
    "y = auto.mpg_indicator\n",
    "\n",
    "#train test split \n",
    "X_train, X_test, y_train, y_test = train_test_split(data, y,\n",
    "                                                   test_size = 0.33,\n",
    "                                                   random_state = 42)\n",
    "print(X_train.shape)\n",
    "print(X_test.shape)\n"
   ]
  },
  {
   "cell_type": "markdown",
   "metadata": {},
   "source": [
    "$(d)$ Perform Linear Discriminant Analysis (LDA) on the training data in order to predict `mpg01` using the variables that seemed most associated with `mpg01` in (b). How accurate is the model?"
   ]
  },
  {
   "cell_type": "code",
   "execution_count": 98,
   "metadata": {},
   "outputs": [
    {
     "data": {
      "image/png": "[encoded data removed]",
      "text/plain": [
       "<Figure size 720x432 with 2 Axes>"
      ]
     },
     "metadata": {
      "needs_background": "light"
     },
     "output_type": "display_data"
    }
   ],
   "source": [
    "''' so the linear discriminant analysis is similar\n",
    "to PCA, it is a way for us to reduce our dimentions '''\n",
    "#importing the library \n",
    "from sklearn.discriminant_analysis import LinearDiscriminantAnalysis\n",
    "#creating an object from that class \n",
    "lda = LinearDiscriminantAnalysis(n_components = 3)\n",
    "\n",
    "#ok finding the variables that seam to be the most correlated \n",
    "#creating a correlation heat map\n",
    "#corr = X_train.corr()\n",
    "corr_mat = auto.corr()\n",
    "f, ax = plt.subplots(figsize = (10,6))\n",
    "sns.heatmap(corr_mat,vmax=.8,square=True, annot = True)\n",
    "plt.title(\"correlation matrix\")\n",
    "plt.show()"
   ]
  },
  {
   "cell_type": "markdown",
   "metadata": {},
   "source": [
    "###### so looking at the row at the bottom we can see that the highest correlated variables are mpg,(naturally), acceleration, year, and orgin, so we will subset the data of X_train and X_test, so that it only contains the highest correlated variables "
   ]
  },
  {
   "cell_type": "code",
   "execution_count": 99,
   "metadata": {},
   "outputs": [
    {
     "name": "stdout",
     "output_type": "stream",
     "text": [
      "(265, 4)\n",
      "(132, 4)\n"
     ]
    }
   ],
   "source": [
    "#subsetted my data to only select data that is highly correlated \n",
    "X_train = X_train[[\"origin\", 'year', 'mpg', 'acceleration']]\n",
    "\n",
    "X_test = X_test[[\"origin\", 'year', 'mpg', 'acceleration']]\n",
    "\n",
    "'''ok now we have the selected columns that we want\n",
    "to do LDA on the high correlated variables'''\n",
    "print(X_train.shape)\n",
    "print(X_test.shape)\n",
    "\n",
    "#fitting and transforming the data according to the class object\n",
    "X_lda = lda.fit(X_train, y_train)\n",
    "#X_test = lda.transform(X_test)"
   ]
  },
  {
   "cell_type": "code",
   "execution_count": 100,
   "metadata": {},
   "outputs": [
    {
     "name": "stdout",
     "output_type": "stream",
     "text": [
      "[[59  0]\n",
      " [ 7 66]]\n",
      "(132,)\n"
     ]
    }
   ],
   "source": [
    "#now predicting the outcome \n",
    "y_pred = X_lda.predict(X_test)\n",
    "\n",
    "from sklearn.metrics import confusion_matrix\n",
    "\n",
    "cm = confusion_matrix(y_test, y_pred)\n",
    "print(cm)\n",
    "\n",
    "print(y_test.shape)"
   ]
  },
  {
   "cell_type": "markdown",
   "metadata": {},
   "source": [
    "###### so this confusion matrix is telling us that of the 132 samples in our testing data set, we correctly predicted 55 to be 0 when they were 0, incoreectly predicted 4 to be a 1 when it should have been a 0.  Predicted a 0 on two that should have been a one and accuratly predicted 71 ones that were correct, so our LDA is doing pretty well, "
   ]
  },
  {
   "cell_type": "code",
   "execution_count": 101,
   "metadata": {},
   "outputs": [
    {
     "name": "stdout",
     "output_type": "stream",
     "text": [
      "              precision    recall  f1-score   support\n",
      "\n",
      "           0       0.89      1.00      0.94        59\n",
      "           1       1.00      0.90      0.95        73\n",
      "\n",
      "   micro avg       0.95      0.95      0.95       132\n",
      "   macro avg       0.95      0.95      0.95       132\n",
      "weighted avg       0.95      0.95      0.95       132\n",
      "\n"
     ]
    }
   ],
   "source": [
    "'''to see exactly how accurate we are we will use \n",
    "recall, f1 and precision from the classification_report'''\n",
    "from sklearn.metrics import f1_score, classification_report\n",
    "report = classification_report(y_test, y_pred)\n",
    "print(report)"
   ]
  },
  {
   "cell_type": "markdown",
   "metadata": {},
   "source": [
    "###### the grader will recall that precision is the number of true positives/ true positives+false positives, and recall is equal to the number of true positives/truepositives +false negatives.  and f1 is the weighted average of the two.  We can see that our recall is slightly higher when looking at 1's vs zeros, but other than that the model appears to be classifying the data very accurately "
   ]
  },
  {
   "cell_type": "markdown",
   "metadata": {},
   "source": [
    "$(e)$ Perform Quadratic Discriminant Analysis (QDA) on the training data in order to predict `mpg01` using the variables that seemed most associated with `mpg01` in (b). How accurate is the model?"
   ]
  },
  {
   "cell_type": "code",
   "execution_count": 102,
   "metadata": {},
   "outputs": [
    {
     "name": "stdout",
     "output_type": "stream",
     "text": [
      "[0.52075472 0.47924528]\n",
      "[[ 1.15942029 74.62318841 16.80652174 14.49855072]\n",
      " [ 1.92913386 77.59055118 30.00866142 16.18267717]]\n",
      "this countains the group means, but not the coefficients because it is by definitiona quadratic model and not a linear function.\n"
     ]
    }
   ],
   "source": [
    "from sklearn.discriminant_analysis import QuadraticDiscriminantAnalysis\n",
    "\n",
    "#because I re-defined the X_train, X_test, stuff above\n",
    "#I will re split and only select the same variabes from above\n",
    "#for comparisons sake \n",
    "X_train, X_test, y_train, y_test = train_test_split(data, y,\n",
    "                                                   test_size = 0.33,\n",
    "                                                   random_state = 42)\n",
    "X_train = X_train[[\"origin\", 'year', 'mpg', 'acceleration']]\n",
    "X_test = X_test[[\"origin\", 'year', 'mpg', 'acceleration']]\n",
    "\n",
    "#creating an object from the class,\n",
    "qda = QuadraticDiscriminantAnalysis()\n",
    "model2 = qda.fit(X_train, y_train)\n",
    "print(model2.priors_)\n",
    "print(model2.means_)\n",
    "print(\"this countains the group means, but not the coefficients because it is by definitiona quadratic model and not a linear function.\")"
   ]
  },
  {
   "cell_type": "markdown",
   "metadata": {},
   "source": [
    "$(f)$ Perform logistic regression on the training data in order to predict `mpg01` using the variables that seemed most associated with `mpg01` in (b). How accurate is the model?"
   ]
  },
  {
   "cell_type": "code",
   "execution_count": 103,
   "metadata": {},
   "outputs": [
    {
     "name": "stdout",
     "output_type": "stream",
     "text": [
      "[[51  1]\n",
      " [ 8 72]]\n",
      "              precision    recall  f1-score   support\n",
      "\n",
      "           0       0.98      0.86      0.92        59\n",
      "           1       0.90      0.99      0.94        73\n",
      "\n",
      "   micro avg       0.93      0.93      0.93       132\n",
      "   macro avg       0.94      0.93      0.93       132\n",
      "weighted avg       0.94      0.93      0.93       132\n",
      "\n"
     ]
    }
   ],
   "source": [
    "#predicting\n",
    "pred2 = model2.predict(X_test)\n",
    "cm2 = confusion_matrix(pred2, y_test)\n",
    "print(cm2)\n",
    "\n",
    "#same explination as above just different numbers\n",
    "\n",
    "#printing classification report \n",
    "report2 = classification_report(y_test, pred2)\n",
    "print(report2)"
   ]
  },
  {
   "cell_type": "markdown",
   "metadata": {},
   "source": [
    "###### so we can see that the above sample is more accurate out os sample.  the difference of our precision and recall is greater with a QDA model, and the f1 averages are lower. we can also see that we are misclassiftying more false negatives, 8 in this case.  So for this data set the LDA is more accurate than the QDA"
   ]
  },
  {
   "cell_type": "markdown",
   "metadata": {},
   "source": [
    "$(g)$ Perform logistic regression on the training data in order to predict `mpg01` using the variables that seemed most associated with `mpg01` in (b). How accurate is the model?  \n",
    "Which value of K seems to perform the best on this data set?"
   ]
  },
  {
   "cell_type": "code",
   "execution_count": 104,
   "metadata": {},
   "outputs": [
    {
     "name": "stdout",
     "output_type": "stream",
     "text": [
      "0.9545454545454546\n",
      "the score is the f1 score\n",
      "[[53  0]\n",
      " [ 6 73]]\n",
      "see explinations from above on interpretations for the table\n",
      "              precision    recall  f1-score   support\n",
      "\n",
      "           0       1.00      0.90      0.95        59\n",
      "           1       0.92      1.00      0.96        73\n",
      "\n",
      "   micro avg       0.95      0.95      0.95       132\n",
      "   macro avg       0.96      0.95      0.95       132\n",
      "weighted avg       0.96      0.95      0.95       132\n",
      "\n"
     ]
    },
    {
     "name": "stderr",
     "output_type": "stream",
     "text": [
      "C:\\Users\\13855\\Anaconda_Re_do\\lib\\site-packages\\sklearn\\linear_model\\logistic.py:433: FutureWarning: Default solver will be changed to 'lbfgs' in 0.22. Specify a solver to silence this warning.\n",
      "  FutureWarning)\n"
     ]
    }
   ],
   "source": [
    "X_train, X_test, y_train, y_test = train_test_split(data, y,\n",
    "                                                   test_size = 0.33,\n",
    "                                                   random_state = 42)\n",
    "X_train = X_train[[\"origin\", 'year', 'mpg', 'acceleration']]\n",
    "X_test = X_test[[\"origin\", 'year', 'mpg', 'acceleration']]\n",
    "\n",
    "\n",
    "from sklearn.linear_model import LogisticRegression\n",
    "log_reg = LogisticRegression()\n",
    "\n",
    "#fit the model \n",
    "log_reg.fit(X_train, y_train)\n",
    "\n",
    "#predict \n",
    "log_pred = log_reg.predict(X_test)\n",
    "score = log_reg.score(X_test, y_test)\n",
    "print(score)\n",
    "print(\"the score is the f1 score\")\n",
    "\n",
    "cm3 = confusion_matrix(log_pred, y_test)\n",
    "print(cm3) \n",
    "print(\"see explinations from above on interpretations for the table\")\n",
    "\n",
    "#same explination as above just different numbers\n",
    "\n",
    "#printing classification report \n",
    "report3 = classification_report(y_test, log_pred)\n",
    "print(report3)\n",
    "\n",
    "#print(\"see explinations from above on interpretations for the table\")"
   ]
  },
  {
   "cell_type": "markdown",
   "metadata": {},
   "source": [
    "Now run a random forest classifier on the data. Use cross validation to find optimal parameters."
   ]
  },
  {
   "cell_type": "code",
   "execution_count": 105,
   "metadata": {},
   "outputs": [
    {
     "name": "stdout",
     "output_type": "stream",
     "text": [
      "(265, 4)\n",
      "(265,)\n"
     ]
    }
   ],
   "source": [
    "from sklearn.ensemble import RandomForestClassifier\n",
    "from sklearn.model_selection import GridSearchCV\n",
    "from collections import Counter\n",
    "\n",
    "\n",
    "#first we resplit the data again \n",
    "X_train, X_test, y_train, y_test = train_test_split(data, y,\n",
    "                                                   test_size = 0.33,\n",
    "                                                   random_state = 42)\n",
    "\n",
    "X_train = X_train[[\"origin\", 'year', 'mpg', 'acceleration']]\n",
    "X_test = X_test[[\"origin\", 'year', 'mpg', 'acceleration']]\n",
    "#y_train = pd.DataFrame(y_train)\n",
    "print(X_train.shape)\n",
    "print(y_train.shape)\n",
    "''' to build a good random forest, you need a good max depth\n",
    "and a good number of trees, and you should also test if your \n",
    "classes are balanced or not, so we will see what are the best \n",
    "parameters for the random forest we will build'''\n",
    "\n",
    "#creating a dictionary with multiple options for the parameters, \n",
    "param_dict = {\"n_estimators\":[100,500,1000,2500,5000],\n",
    "              \"max_depth\":[1,3,5,10]}\n",
    "\n",
    "#creating the random forest classifier \n",
    "rf = RandomForestClassifier()\n",
    "#creating the grid search to search over my parameters and find the best ones \n",
    "gs = GridSearchCV(rf, param_dict, scoring = \"f1_macro\", n_jobs = -1, verbose = 2)\n"
   ]
  },
  {
   "cell_type": "code",
   "execution_count": 106,
   "metadata": {},
   "outputs": [
    {
     "name": "stdout",
     "output_type": "stream",
     "text": [
      "Fitting 3 folds for each of 20 candidates, totalling 60 fits\n"
     ]
    },
    {
     "name": "stderr",
     "output_type": "stream",
     "text": [
      "C:\\Users\\13855\\Anaconda_Re_do\\lib\\site-packages\\sklearn\\model_selection\\_split.py:2053: FutureWarning: You should specify a value for 'cv' instead of relying on the default value. The default value will change from 3 to 5 in version 0.22.\n",
      "  warnings.warn(CV_WARNING, FutureWarning)\n",
      "[Parallel(n_jobs=-1)]: Using backend LokyBackend with 8 concurrent workers.\n",
      "[Parallel(n_jobs=-1)]: Done  25 tasks      | elapsed:   18.8s\n",
      "[Parallel(n_jobs=-1)]: Done  60 out of  60 | elapsed:   45.2s finished\n",
      "C:\\Users\\13855\\Anaconda_Re_do\\lib\\site-packages\\sklearn\\utils\\deprecation.py:125: FutureWarning: You are accessing a training score ('split0_train_score'), which will not be available by default any more in 0.21. If you need training scores, please set return_train_score=True\n",
      "  warnings.warn(*warn_args, **warn_kwargs)\n",
      "C:\\Users\\13855\\Anaconda_Re_do\\lib\\site-packages\\sklearn\\utils\\deprecation.py:125: FutureWarning: You are accessing a training score ('split1_train_score'), which will not be available by default any more in 0.21. If you need training scores, please set return_train_score=True\n",
      "  warnings.warn(*warn_args, **warn_kwargs)\n",
      "C:\\Users\\13855\\Anaconda_Re_do\\lib\\site-packages\\sklearn\\utils\\deprecation.py:125: FutureWarning: You are accessing a training score ('split2_train_score'), which will not be available by default any more in 0.21. If you need training scores, please set return_train_score=True\n",
      "  warnings.warn(*warn_args, **warn_kwargs)\n",
      "C:\\Users\\13855\\Anaconda_Re_do\\lib\\site-packages\\sklearn\\utils\\deprecation.py:125: FutureWarning: You are accessing a training score ('mean_train_score'), which will not be available by default any more in 0.21. If you need training scores, please set return_train_score=True\n",
      "  warnings.warn(*warn_args, **warn_kwargs)\n",
      "C:\\Users\\13855\\Anaconda_Re_do\\lib\\site-packages\\sklearn\\utils\\deprecation.py:125: FutureWarning: You are accessing a training score ('std_train_score'), which will not be available by default any more in 0.21. If you need training scores, please set return_train_score=True\n",
      "  warnings.warn(*warn_args, **warn_kwargs)\n"
     ]
    },
    {
     "data": {
      "text/plain": [
       "{'mean_fit_time': array([ 0.20490154,  0.96955252,  2.03047212,  5.22089775, 10.33119003,\n",
       "         0.24506036,  1.0758996 ,  2.25431792,  5.80430341, 11.09692502,\n",
       "         0.21942886,  1.15206782,  2.38327344,  6.16713405, 10.46508781,\n",
       "         0.28363387,  1.29783972,  2.41084933,  5.78456442,  9.22491407]),\n",
       " 'std_fit_time': array([0.01244783, 0.12635785, 0.24691321, 0.16296991, 0.12132461,\n",
       "        0.01632581, 0.08106435, 0.05582458, 0.66133687, 0.18404866,\n",
       "        0.00645526, 0.0428073 , 0.27915409, 0.46132549, 0.75689064,\n",
       "        0.00687548, 0.05833251, 0.27405752, 0.18667652, 0.53163438]),\n",
       " 'mean_score_time': array([0.01897868, 0.08739837, 0.19992065, 0.48725851, 0.88471047,\n",
       "        0.02513258, 0.11786397, 0.1917789 , 0.48339415, 0.88287687,\n",
       "        0.02834098, 0.10549625, 0.19666354, 0.44374084, 1.02142429,\n",
       "        0.02599184, 0.13175821, 0.19716684, 0.48140073, 0.68105483]),\n",
       " 'std_score_time': array([0.00161546, 0.00190101, 0.00885098, 0.03622767, 0.02897231,\n",
       "        0.00366778, 0.01713349, 0.01861375, 0.07032152, 0.02142408,\n",
       "        0.00691478, 0.00880673, 0.02651283, 0.0138384 , 0.12425786,\n",
       "        0.00587481, 0.03791285, 0.02457751, 0.07559175, 0.03579187]),\n",
       " 'param_max_depth': masked_array(data=[1, 1, 1, 1, 1, 3, 3, 3, 3, 3, 5, 5, 5, 5, 5, 10, 10,\n",
       "                    10, 10, 10],\n",
       "              mask=[False, False, False, False, False, False, False, False,\n",
       "                    False, False, False, False, False, False, False, False,\n",
       "                    False, False, False, False],\n",
       "        fill_value='?',\n",
       "             dtype=object),\n",
       " 'param_n_estimators': masked_array(data=[100, 500, 1000, 2500, 5000, 100, 500, 1000, 2500, 5000,\n",
       "                    100, 500, 1000, 2500, 5000, 100, 500, 1000, 2500, 5000],\n",
       "              mask=[False, False, False, False, False, False, False, False,\n",
       "                    False, False, False, False, False, False, False, False,\n",
       "                    False, False, False, False],\n",
       "        fill_value='?',\n",
       "             dtype=object),\n",
       " 'params': [{'max_depth': 1, 'n_estimators': 100},\n",
       "  {'max_depth': 1, 'n_estimators': 500},\n",
       "  {'max_depth': 1, 'n_estimators': 1000},\n",
       "  {'max_depth': 1, 'n_estimators': 2500},\n",
       "  {'max_depth': 1, 'n_estimators': 5000},\n",
       "  {'max_depth': 3, 'n_estimators': 100},\n",
       "  {'max_depth': 3, 'n_estimators': 500},\n",
       "  {'max_depth': 3, 'n_estimators': 1000},\n",
       "  {'max_depth': 3, 'n_estimators': 2500},\n",
       "  {'max_depth': 3, 'n_estimators': 5000},\n",
       "  {'max_depth': 5, 'n_estimators': 100},\n",
       "  {'max_depth': 5, 'n_estimators': 500},\n",
       "  {'max_depth': 5, 'n_estimators': 1000},\n",
       "  {'max_depth': 5, 'n_estimators': 2500},\n",
       "  {'max_depth': 5, 'n_estimators': 5000},\n",
       "  {'max_depth': 10, 'n_estimators': 100},\n",
       "  {'max_depth': 10, 'n_estimators': 500},\n",
       "  {'max_depth': 10, 'n_estimators': 1000},\n",
       "  {'max_depth': 10, 'n_estimators': 2500},\n",
       "  {'max_depth': 10, 'n_estimators': 5000}],\n",
       " 'split0_test_score': array([1., 1., 1., 1., 1., 1., 1., 1., 1., 1., 1., 1., 1., 1., 1., 1., 1.,\n",
       "        1., 1., 1.]),\n",
       " 'split1_test_score': array([1., 1., 1., 1., 1., 1., 1., 1., 1., 1., 1., 1., 1., 1., 1., 1., 1.,\n",
       "        1., 1., 1.]),\n",
       " 'split2_test_score': array([1., 1., 1., 1., 1., 1., 1., 1., 1., 1., 1., 1., 1., 1., 1., 1., 1.,\n",
       "        1., 1., 1.]),\n",
       " 'mean_test_score': array([1., 1., 1., 1., 1., 1., 1., 1., 1., 1., 1., 1., 1., 1., 1., 1., 1.,\n",
       "        1., 1., 1.]),\n",
       " 'std_test_score': array([0., 0., 0., 0., 0., 0., 0., 0., 0., 0., 0., 0., 0., 0., 0., 0., 0.,\n",
       "        0., 0., 0.]),\n",
       " 'rank_test_score': array([1, 1, 1, 1, 1, 1, 1, 1, 1, 1, 1, 1, 1, 1, 1, 1, 1, 1, 1, 1]),\n",
       " 'split0_train_score': array([1., 1., 1., 1., 1., 1., 1., 1., 1., 1., 1., 1., 1., 1., 1., 1., 1.,\n",
       "        1., 1., 1.]),\n",
       " 'split1_train_score': array([1., 1., 1., 1., 1., 1., 1., 1., 1., 1., 1., 1., 1., 1., 1., 1., 1.,\n",
       "        1., 1., 1.]),\n",
       " 'split2_train_score': array([1., 1., 1., 1., 1., 1., 1., 1., 1., 1., 1., 1., 1., 1., 1., 1., 1.,\n",
       "        1., 1., 1.]),\n",
       " 'mean_train_score': array([1., 1., 1., 1., 1., 1., 1., 1., 1., 1., 1., 1., 1., 1., 1., 1., 1.,\n",
       "        1., 1., 1.]),\n",
       " 'std_train_score': array([0., 0., 0., 0., 0., 0., 0., 0., 0., 0., 0., 0., 0., 0., 0., 0., 0.,\n",
       "        0., 0., 0.])}"
      ]
     },
     "execution_count": 106,
     "metadata": {},
     "output_type": "execute_result"
    }
   ],
   "source": [
    "#rf.fit(X_train, y_train)\n",
    "#fitting the model \n",
    "gs.fit(X_train, y_train)\n",
    "\n",
    "#looking at results \n",
    "gs.cv_results_"
   ]
  },
  {
   "cell_type": "code",
   "execution_count": 107,
   "metadata": {},
   "outputs": [
    {
     "name": "stderr",
     "output_type": "stream",
     "text": [
      "C:\\Users\\13855\\Anaconda_Re_do\\lib\\site-packages\\sklearn\\ensemble\\forest.py:246: FutureWarning: The default value of n_estimators will change from 10 in version 0.20 to 100 in 0.22.\n",
      "  \"10 in version 0.20 to 100 in 0.22.\", FutureWarning)\n"
     ]
    },
    {
     "name": "stdout",
     "output_type": "stream",
     "text": [
      "Best Params: {'max_depth': 1, 'n_estimators': 100}\n",
      "Random Forest Classification Report:\n",
      "              precision    recall  f1-score   support\n",
      "\n",
      "           0       1.00      1.00      1.00        59\n",
      "           1       1.00      1.00      1.00        73\n",
      "\n",
      "   micro avg       1.00      1.00      1.00       132\n",
      "   macro avg       1.00      1.00      1.00       132\n",
      "weighted avg       1.00      1.00      1.00       132\n",
      "\n"
     ]
    }
   ],
   "source": [
    "#ok so now printing the report for accuracy\n",
    "\n",
    "#but interesting to see the best parameters \n",
    "print(\"Best Params: {}\".format(gs.best_params_))\n",
    "\n",
    "\n",
    "rf.fit(X_train, y_train)\n",
    "forest_pred = rf.predict(X_test)\n",
    "print(\"Random Forest Classification Report:\")\n",
    "print(classification_report(y_test, forest_pred))\n"
   ]
  },
  {
   "cell_type": "markdown",
   "metadata": {},
   "source": [
    "###### well that is doing 100% correct in training and testing, so thats pretty good "
   ]
  },
  {
   "cell_type": "markdown",
   "metadata": {},
   "source": [
    "#### 3 \n",
    "The next problem deals with regularized regression and cross validation. The boston dataset is described right after it is loaded in.  \n",
    "$(a)$ Use this data to fit an OLS, LASSO, ridge, and ElasticNet model on the data. Use the default for the penalty coefficient. Display the coefficients and test error for each."
   ]
  },
  {
   "cell_type": "code",
   "execution_count": 108,
   "metadata": {},
   "outputs": [],
   "source": [
    "from sklearn.datasets import load_boston\n",
    "boston = load_boston()\n",
    "#print(boston['DESCR'])\n",
    "x = pd.DataFrame(boston['data'], columns=boston['feature_names'])\n",
    "y = pd.Series(boston['target'])"
   ]
  },
  {
   "cell_type": "markdown",
   "metadata": {},
   "source": [
    "###### starting with ols cuz like what else is there lol "
   ]
  },
  {
   "cell_type": "code",
   "execution_count": 109,
   "metadata": {},
   "outputs": [
    {
     "data": {
      "text/html": [
       "<table class=\"simpletable\">\n",
       "<caption>OLS Regression Results</caption>\n",
       "<tr>\n",
       "  <th>Dep. Variable:</th>            <td>y</td>        <th>  R-squared:         </th> <td>   0.741</td> \n",
       "</tr>\n",
       "<tr>\n",
       "  <th>Model:</th>                   <td>OLS</td>       <th>  Adj. R-squared:    </th> <td>   0.734</td> \n",
       "</tr>\n",
       "<tr>\n",
       "  <th>Method:</th>             <td>Least Squares</td>  <th>  F-statistic:       </th> <td>   108.1</td> \n",
       "</tr>\n",
       "<tr>\n",
       "  <th>Date:</th>             <td>Thu, 10 Oct 2019</td> <th>  Prob (F-statistic):</th> <td>6.72e-135</td>\n",
       "</tr>\n",
       "<tr>\n",
       "  <th>Time:</th>                 <td>13:38:14</td>     <th>  Log-Likelihood:    </th> <td> -1498.8</td> \n",
       "</tr>\n",
       "<tr>\n",
       "  <th>No. Observations:</th>      <td>   506</td>      <th>  AIC:               </th> <td>   3026.</td> \n",
       "</tr>\n",
       "<tr>\n",
       "  <th>Df Residuals:</th>          <td>   492</td>      <th>  BIC:               </th> <td>   3085.</td> \n",
       "</tr>\n",
       "<tr>\n",
       "  <th>Df Model:</th>              <td>    13</td>      <th>                     </th>     <td> </td>    \n",
       "</tr>\n",
       "<tr>\n",
       "  <th>Covariance Type:</th>      <td>nonrobust</td>    <th>                     </th>     <td> </td>    \n",
       "</tr>\n",
       "</table>\n",
       "<table class=\"simpletable\">\n",
       "<tr>\n",
       "     <td></td>        <th>coef</th>     <th>std err</th>      <th>t</th>      <th>P>|t|</th>  <th>[0.025</th>    <th>0.975]</th>  \n",
       "</tr>\n",
       "<tr>\n",
       "  <th>const</th>   <td>   36.4595</td> <td>    5.103</td> <td>    7.144</td> <td> 0.000</td> <td>   26.432</td> <td>   46.487</td>\n",
       "</tr>\n",
       "<tr>\n",
       "  <th>CRIM</th>    <td>   -0.1080</td> <td>    0.033</td> <td>   -3.287</td> <td> 0.001</td> <td>   -0.173</td> <td>   -0.043</td>\n",
       "</tr>\n",
       "<tr>\n",
       "  <th>ZN</th>      <td>    0.0464</td> <td>    0.014</td> <td>    3.382</td> <td> 0.001</td> <td>    0.019</td> <td>    0.073</td>\n",
       "</tr>\n",
       "<tr>\n",
       "  <th>INDUS</th>   <td>    0.0206</td> <td>    0.061</td> <td>    0.334</td> <td> 0.738</td> <td>   -0.100</td> <td>    0.141</td>\n",
       "</tr>\n",
       "<tr>\n",
       "  <th>CHAS</th>    <td>    2.6867</td> <td>    0.862</td> <td>    3.118</td> <td> 0.002</td> <td>    0.994</td> <td>    4.380</td>\n",
       "</tr>\n",
       "<tr>\n",
       "  <th>NOX</th>     <td>  -17.7666</td> <td>    3.820</td> <td>   -4.651</td> <td> 0.000</td> <td>  -25.272</td> <td>  -10.262</td>\n",
       "</tr>\n",
       "<tr>\n",
       "  <th>RM</th>      <td>    3.8099</td> <td>    0.418</td> <td>    9.116</td> <td> 0.000</td> <td>    2.989</td> <td>    4.631</td>\n",
       "</tr>\n",
       "<tr>\n",
       "  <th>AGE</th>     <td>    0.0007</td> <td>    0.013</td> <td>    0.052</td> <td> 0.958</td> <td>   -0.025</td> <td>    0.027</td>\n",
       "</tr>\n",
       "<tr>\n",
       "  <th>DIS</th>     <td>   -1.4756</td> <td>    0.199</td> <td>   -7.398</td> <td> 0.000</td> <td>   -1.867</td> <td>   -1.084</td>\n",
       "</tr>\n",
       "<tr>\n",
       "  <th>RAD</th>     <td>    0.3060</td> <td>    0.066</td> <td>    4.613</td> <td> 0.000</td> <td>    0.176</td> <td>    0.436</td>\n",
       "</tr>\n",
       "<tr>\n",
       "  <th>TAX</th>     <td>   -0.0123</td> <td>    0.004</td> <td>   -3.280</td> <td> 0.001</td> <td>   -0.020</td> <td>   -0.005</td>\n",
       "</tr>\n",
       "<tr>\n",
       "  <th>PTRATIO</th> <td>   -0.9527</td> <td>    0.131</td> <td>   -7.283</td> <td> 0.000</td> <td>   -1.210</td> <td>   -0.696</td>\n",
       "</tr>\n",
       "<tr>\n",
       "  <th>B</th>       <td>    0.0093</td> <td>    0.003</td> <td>    3.467</td> <td> 0.001</td> <td>    0.004</td> <td>    0.015</td>\n",
       "</tr>\n",
       "<tr>\n",
       "  <th>LSTAT</th>   <td>   -0.5248</td> <td>    0.051</td> <td>  -10.347</td> <td> 0.000</td> <td>   -0.624</td> <td>   -0.425</td>\n",
       "</tr>\n",
       "</table>\n",
       "<table class=\"simpletable\">\n",
       "<tr>\n",
       "  <th>Omnibus:</th>       <td>178.041</td> <th>  Durbin-Watson:     </th> <td>   1.078</td> \n",
       "</tr>\n",
       "<tr>\n",
       "  <th>Prob(Omnibus):</th> <td> 0.000</td>  <th>  Jarque-Bera (JB):  </th> <td> 783.126</td> \n",
       "</tr>\n",
       "<tr>\n",
       "  <th>Skew:</th>          <td> 1.521</td>  <th>  Prob(JB):          </th> <td>8.84e-171</td>\n",
       "</tr>\n",
       "<tr>\n",
       "  <th>Kurtosis:</th>      <td> 8.281</td>  <th>  Cond. No.          </th> <td>1.51e+04</td> \n",
       "</tr>\n",
       "</table><br/><br/>Warnings:<br/>[1] Standard Errors assume that the covariance matrix of the errors is correctly specified.<br/>[2] The condition number is large, 1.51e+04. This might indicate that there are<br/>strong multicollinearity or other numerical problems."
      ],
      "text/plain": [
       "<class 'statsmodels.iolib.summary.Summary'>\n",
       "\"\"\"\n",
       "                            OLS Regression Results                            \n",
       "==============================================================================\n",
       "Dep. Variable:                      y   R-squared:                       0.741\n",
       "Model:                            OLS   Adj. R-squared:                  0.734\n",
       "Method:                 Least Squares   F-statistic:                     108.1\n",
       "Date:                Thu, 10 Oct 2019   Prob (F-statistic):          6.72e-135\n",
       "Time:                        13:38:14   Log-Likelihood:                -1498.8\n",
       "No. Observations:                 506   AIC:                             3026.\n",
       "Df Residuals:                     492   BIC:                             3085.\n",
       "Df Model:                          13                                         \n",
       "Covariance Type:            nonrobust                                         \n",
       "==============================================================================\n",
       "                 coef    std err          t      P>|t|      [0.025      0.975]\n",
       "------------------------------------------------------------------------------\n",
       "const         36.4595      5.103      7.144      0.000      26.432      46.487\n",
       "CRIM          -0.1080      0.033     -3.287      0.001      -0.173      -0.043\n",
       "ZN             0.0464      0.014      3.382      0.001       0.019       0.073\n",
       "INDUS          0.0206      0.061      0.334      0.738      -0.100       0.141\n",
       "CHAS           2.6867      0.862      3.118      0.002       0.994       4.380\n",
       "NOX          -17.7666      3.820     -4.651      0.000     -25.272     -10.262\n",
       "RM             3.8099      0.418      9.116      0.000       2.989       4.631\n",
       "AGE            0.0007      0.013      0.052      0.958      -0.025       0.027\n",
       "DIS           -1.4756      0.199     -7.398      0.000      -1.867      -1.084\n",
       "RAD            0.3060      0.066      4.613      0.000       0.176       0.436\n",
       "TAX           -0.0123      0.004     -3.280      0.001      -0.020      -0.005\n",
       "PTRATIO       -0.9527      0.131     -7.283      0.000      -1.210      -0.696\n",
       "B              0.0093      0.003      3.467      0.001       0.004       0.015\n",
       "LSTAT         -0.5248      0.051    -10.347      0.000      -0.624      -0.425\n",
       "==============================================================================\n",
       "Omnibus:                      178.041   Durbin-Watson:                   1.078\n",
       "Prob(Omnibus):                  0.000   Jarque-Bera (JB):              783.126\n",
       "Skew:                           1.521   Prob(JB):                    8.84e-171\n",
       "Kurtosis:                       8.281   Cond. No.                     1.51e+04\n",
       "==============================================================================\n",
       "\n",
       "Warnings:\n",
       "[1] Standard Errors assume that the covariance matrix of the errors is correctly specified.\n",
       "[2] The condition number is large, 1.51e+04. This might indicate that there are\n",
       "strong multicollinearity or other numerical problems.\n",
       "\"\"\""
      ]
     },
     "execution_count": 109,
     "metadata": {},
     "output_type": "execute_result"
    }
   ],
   "source": [
    "#first doing a little data exploration\n",
    "x.head()\n",
    "x.isnull().sum()\n",
    "type(y[0])\n",
    "\n",
    "#ok so it looks like we are dealing with purely numeric\n",
    "# data and that there are no missing values, so we \n",
    "# are free to proceed with OLS \n",
    "import statsmodels.api as sm\n",
    "from sklearn.model_selection import cross_val_score\n",
    "from sklearn.linear_model import SGDRegressor\n",
    "from sklearn.metrics import mean_squared_error\n",
    "X_train, X_test, y_train, y_test = train_test_split(x, y, random_state=42)\n",
    "\n",
    "#first we add a constant \n",
    "X_train = sm.add_constant(x)\n",
    "X_test = sm.add_constant(x)\n",
    "\n",
    "#creating a model and fitting it to ols \n",
    "model = sm.OLS(y, X_train).fit()\n",
    "#getting predictions\n",
    "predictions = model.predict(X_test)\n",
    "#printing tabel \n",
    "model.summary()"
   ]
  },
  {
   "cell_type": "markdown",
   "metadata": {},
   "source": [
    "###### but we need to do cross validation, and for some reason, I'm having a hard time doing it with the sm.ols module, so will create a linear regression class and to it that way \n",
    "\n",
    "question asks to display the coefficients, those can be found in the COEF column in the above tabe"
   ]
  },
  {
   "cell_type": "code",
   "execution_count": 110,
   "metadata": {},
   "outputs": [
    {
     "name": "stdout",
     "output_type": "stream",
     "text": [
      "22.501680835472385\n",
      "ok so not good, but not terrible, kind of meh\n"
     ]
    },
    {
     "name": "stderr",
     "output_type": "stream",
     "text": [
      "C:\\Users\\13855\\Anaconda_Re_do\\lib\\site-packages\\sklearn\\linear_model\\stochastic_gradient.py:183: FutureWarning: max_iter and tol parameters have been added in SGDRegressor in 0.19. If max_iter is set but tol is left unset, the default value for tol in 0.19 and 0.20 will be None (which is equivalent to -infinity, so it has no effect) but will change in 0.21 to 1e-3. Specify tol to silence this warning.\n",
      "  FutureWarning)\n",
      "C:\\Users\\13855\\Anaconda_Re_do\\lib\\site-packages\\sklearn\\linear_model\\stochastic_gradient.py:183: FutureWarning: max_iter and tol parameters have been added in SGDRegressor in 0.19. If max_iter is set but tol is left unset, the default value for tol in 0.19 and 0.20 will be None (which is equivalent to -infinity, so it has no effect) but will change in 0.21 to 1e-3. Specify tol to silence this warning.\n",
      "  FutureWarning)\n",
      "C:\\Users\\13855\\Anaconda_Re_do\\lib\\site-packages\\sklearn\\linear_model\\stochastic_gradient.py:183: FutureWarning: max_iter and tol parameters have been added in SGDRegressor in 0.19. If max_iter is set but tol is left unset, the default value for tol in 0.19 and 0.20 will be None (which is equivalent to -infinity, so it has no effect) but will change in 0.21 to 1e-3. Specify tol to silence this warning.\n",
      "  FutureWarning)\n",
      "C:\\Users\\13855\\Anaconda_Re_do\\lib\\site-packages\\sklearn\\linear_model\\stochastic_gradient.py:183: FutureWarning: max_iter and tol parameters have been added in SGDRegressor in 0.19. If max_iter is set but tol is left unset, the default value for tol in 0.19 and 0.20 will be None (which is equivalent to -infinity, so it has no effect) but will change in 0.21 to 1e-3. Specify tol to silence this warning.\n",
      "  FutureWarning)\n",
      "C:\\Users\\13855\\Anaconda_Re_do\\lib\\site-packages\\sklearn\\linear_model\\stochastic_gradient.py:183: FutureWarning: max_iter and tol parameters have been added in SGDRegressor in 0.19. If max_iter is set but tol is left unset, the default value for tol in 0.19 and 0.20 will be None (which is equivalent to -infinity, so it has no effect) but will change in 0.21 to 1e-3. Specify tol to silence this warning.\n",
      "  FutureWarning)\n",
      "C:\\Users\\13855\\Anaconda_Re_do\\lib\\site-packages\\sklearn\\linear_model\\stochastic_gradient.py:183: FutureWarning: max_iter and tol parameters have been added in SGDRegressor in 0.19. If max_iter is set but tol is left unset, the default value for tol in 0.19 and 0.20 will be None (which is equivalent to -infinity, so it has no effect) but will change in 0.21 to 1e-3. Specify tol to silence this warning.\n",
      "  FutureWarning)\n"
     ]
    },
    {
     "name": "stdout",
     "output_type": "stream",
     "text": [
      "Cross-validation scores: [0.73552731 0.64342997 0.76107483 0.77733555 0.66281386]\n",
      "Average cross-validation score: 0.72\n"
     ]
    }
   ],
   "source": [
    "#creating object from to class object \n",
    "lr = SGDRegressor()\n",
    "'''we will use the SGD resgressor because of the stocastic\n",
    "gradient descent that it can do when cross validating, perhaps will \n",
    "give us a little bit better score than a simple linear regression model\n",
    "\n",
    "first we will scale the data, make it so all of our observations \n",
    "are between -1, 1, this will help our estimator when dealing with \n",
    "outliers, because linear regressions are very sensitive to outliers\n",
    "'''\n",
    "from sklearn.preprocessing import StandardScaler\n",
    "scaler = StandardScaler()\n",
    "scaled_x = scaler.fit_transform(x)\n",
    "#splitting\n",
    "X_train, X_test, y_train, y_test = train_test_split(scaled_x, \n",
    "                                                    y, \n",
    "                                                    random_state=42)\n",
    "#fitting\n",
    "scaler.fit(X_train, y_train)\n",
    "ols = SGDRegressor(tol = .0001, eta0 = .01)\n",
    "ols.fit(X_train, y_train)\n",
    "pred_ols = ols.predict(X_train)\n",
    "''' to see how well our model is doing and to get back to the \n",
    "original data points, we can use the MSE, that will get us back to \n",
    "the original scale of our data, which makes it easier to understadn'''\n",
    "mse = mean_squared_error(y_train, pred_ols)\n",
    "print(mse)\n",
    "print(\"ok so not good, but not terrible, kind of meh\")\n",
    "\n",
    "#ok now cross validating \n",
    "ols = SGDRegressor(alpha=0.01, max_iter=100000).fit(X_train, y_train)\n",
    "scores = cross_val_score(ols,X_train,y_train,cv=5)\n",
    "print(\"Cross-validation scores: {}\".format(scores))\n",
    "print(\"Average cross-validation score: {:.2f}\".format(scores.mean()))"
   ]
  },
  {
   "cell_type": "code",
   "execution_count": 111,
   "metadata": {},
   "outputs": [],
   "source": [
    "#storing the coefficients in a list for feuture graphing \n",
    "ols_coef = list(ols.coef_)"
   ]
  },
  {
   "cell_type": "markdown",
   "metadata": {},
   "source": [
    "###### next we move onto the lasso "
   ]
  },
  {
   "cell_type": "code",
   "execution_count": 112,
   "metadata": {},
   "outputs": [
    {
     "name": "stdout",
     "output_type": "stream",
     "text": [
      "Training set score: 0.69\n",
      "Test set score: 0.65\n",
      "Number of features used: 10\n",
      "Cross-validation scores: [0.73204471 0.64560795 0.76154321 0.77423984 0.65926209]\n",
      "Average cross-validation score: 0.71\n"
     ]
    }
   ],
   "source": [
    "from sklearn.linear_model import Lasso\n",
    "#same as always create an object from the data, fit \n",
    "#because I scaled the data above, I will have to re split \n",
    "x = pd.DataFrame(boston['data'], columns=boston['feature_names'])\n",
    "y = pd.Series(boston['target'])\n",
    "X_train, X_test, y_train, y_test = train_test_split(x, \n",
    "                                                    y, \n",
    "                                                    random_state=42)\n",
    "\n",
    "lasso = Lasso().fit(X_train, y_train)\n",
    "#following the example in class, this will print our training score \n",
    "print(\"Training set score: {:.2f}\".format(lasso.score(X_train, y_train)))\n",
    "#and this will give us our test score, to see if we are over fitting \n",
    "print(\"Test set score: {:.2f}\".format(lasso.score(X_test, y_test)))\n",
    "#number of features used \n",
    "print(\"Number of features used:\", np.sum(lasso.coef_ != 0))\n",
    "\n",
    "#ok now cross validating \n",
    "lasso_cv = Lasso(alpha=0.01, max_iter=100000).fit(X_train, y_train)\n",
    "scores = cross_val_score(lasso_cv,X_train,y_train,cv=5)\n",
    "print(\"Cross-validation scores: {}\".format(scores))\n",
    "print(\"Average cross-validation score: {:.2f}\".format(scores.mean()))"
   ]
  },
  {
   "cell_type": "markdown",
   "metadata": {},
   "source": [
    "###### so the cross validation mean is slightly higher, and our training is slightly better than our test, so in training we might be slightly over fitting, but when we cross validate, that should take care of it, and then the total score increased, which was what happened "
   ]
  },
  {
   "cell_type": "code",
   "execution_count": 113,
   "metadata": {},
   "outputs": [
    {
     "name": "stdout",
     "output_type": "stream",
     "text": [
      "{'CRIM': -0.1261895986381431, 'ZN': 0.030273953711641623, 'INDUS': 0.03494581499339155, 'CHAS': 2.5715688222647053, 'NOX': -12.89429853050849, 'RM': 4.362937235101258, 'AGE': -0.011619638602985394, 'DIS': -1.347543142874068, 'RAD': 0.2514416628948294, 'TAX': -0.010330237298604637, 'PTRATIO': -0.8831995358844212, 'B': 0.013322942995849381, 'LSTAT': -0.526385183185214}\n"
     ]
    }
   ],
   "source": [
    "#getting coefficients \n",
    "la_coef = list(lasso_cv.coef_)\n",
    "cols = list(X_train.columns)\n",
    "#creating a dictioanry to better understand the coefs\n",
    "lasso_coefs = dict(zip(cols, la_coef))\n",
    "print(lasso_coefs)\n"
   ]
  },
  {
   "cell_type": "markdown",
   "metadata": {},
   "source": [
    "###### Ridge "
   ]
  },
  {
   "cell_type": "code",
   "execution_count": 114,
   "metadata": {},
   "outputs": [
    {
     "name": "stdout",
     "output_type": "stream",
     "text": [
      "Training set score: 0.75\n",
      "Test set score: 0.68\n",
      "over fitting by a bit, so lets cross validate and see if we can improve\n"
     ]
    }
   ],
   "source": [
    "from sklearn.linear_model import Ridge\n",
    "\n",
    "X_train, X_test, y_train, y_test = train_test_split(x, \n",
    "                                                    y, \n",
    "                                                    random_state=42)\n",
    "\n",
    "#same old same old \n",
    "ridge = Ridge().fit(X_train, y_train)\n",
    "#for details on exactly what each line does please read the cell above\n",
    "print(\"Training set score: {:.2f}\".format(ridge.score(X_train, y_train)))\n",
    "print(\"Test set score: {:.2f}\".format(ridge.score(X_test, y_test)))\n",
    "print(\"over fitting by a bit, so lets cross validate and see if we can improve\")"
   ]
  },
  {
   "cell_type": "code",
   "execution_count": 115,
   "metadata": {},
   "outputs": [
    {
     "name": "stdout",
     "output_type": "stream",
     "text": [
      "Cross-validation scores: [0.73519421 0.64120494 0.76436931 0.77451236 0.66227936]\n",
      "Average cross-validation score: 0.72\n"
     ]
    }
   ],
   "source": [
    "#ok now cross validating \n",
    "ridge_cv = Ridge(alpha=.001, max_iter=100000).fit(X_train, y_train)\n",
    "scores = cross_val_score(ridge_cv,X_train,y_train,cv=5)\n",
    "print(\"Cross-validation scores: {}\".format(scores))\n",
    "print(\"Average cross-validation score: {:.2f}\".format(scores.mean()))"
   ]
  },
  {
   "cell_type": "code",
   "execution_count": 116,
   "metadata": {},
   "outputs": [
    {
     "name": "stdout",
     "output_type": "stream",
     "text": [
      "{'CRIM': -0.12831408550662896, 'ZN': 0.029555034533676038, 'INDUS': 0.04880153571355339, 'CHAS': 2.773151370364918, 'NOX': -16.225045674507484, 'RM': 4.3688094443417995, 'AGE': -0.009259714023308458, 'DIS': -1.4006630339382178, 'RAD': 0.2577343657548619, 'TAX': -0.009958491880951657, 'PTRATIO': -0.9229549912532783, 'B': 0.013185980955150695, 'LSTAT': -0.5176676138774314}\n"
     ]
    }
   ],
   "source": [
    "#getting coefficients \n",
    "r_coef = list(ridge_cv.coef_)\n",
    "r_cols = list(X_train.columns)\n",
    "#creating a dictioanry to better understand the coefs\n",
    "ridge_coefs = dict(zip(cols, r_coef))\n",
    "print(ridge_coefs)\n"
   ]
  },
  {
   "cell_type": "markdown",
   "metadata": {},
   "source": [
    "###### and finally elastic net \n"
   ]
  },
  {
   "cell_type": "code",
   "execution_count": 117,
   "metadata": {},
   "outputs": [
    {
     "name": "stdout",
     "output_type": "stream",
     "text": [
      "Train MSE: 23.415737159787113\n",
      "Test MSE: 23.12042780130423\n"
     ]
    },
    {
     "name": "stderr",
     "output_type": "stream",
     "text": [
      "C:\\Users\\13855\\Anaconda_Re_do\\lib\\site-packages\\sklearn\\model_selection\\_split.py:2053: FutureWarning: You should specify a value for 'cv' instead of relying on the default value. The default value will change from 3 to 5 in version 0.22.\n",
      "  warnings.warn(CV_WARNING, FutureWarning)\n"
     ]
    }
   ],
   "source": [
    "from sklearn.linear_model import ElasticNetCV\n",
    "#from sklearn import cross_validation\n",
    "X_train, X_test, y_train, y_test = train_test_split(x, \n",
    "                                                    y, \n",
    "                                                    random_state=42)\n",
    "'''\n",
    "so we remember that L1 regularization is used in lasso and is the sum of the absolute values of the coefs\n",
    "L2 and ridge is the sum of the squared values of the coefficients\n",
    "and the elastic net a combination of the two\n",
    "\n",
    "each method is taken with a weight factor and tells us how much we should weighthe regularization term \n",
    "in the cost function, this is alpha in our cost vunction of elastic net \n",
    "'''\n",
    "\n",
    "#alphars are how much we weight regluarization\n",
    "clf = ElasticNetCV(l1_ratio=[.1, .5, .7, .9, .95, .99, 1], alphas=[.1, 1, 10])\n",
    "clf.fit(X_train, y_train)\n",
    "train_predictions = clf.predict(X_train)\n",
    "test_predictions = clf.predict(X_test)\n",
    "\n",
    "el_coef = clf.coef_\n",
    "#printing my erros \n",
    "print(\"Train MSE: {}\".format(mean_squared_error(y_train, train_predictions)))\n",
    "print(\"Test MSE: {}\".format(mean_squared_error(y_test, test_predictions)))"
   ]
  },
  {
   "cell_type": "code",
   "execution_count": 118,
   "metadata": {},
   "outputs": [
    {
     "name": "stderr",
     "output_type": "stream",
     "text": [
      "C:\\Users\\13855\\Anaconda_Re_do\\lib\\site-packages\\sklearn\\model_selection\\_split.py:2053: FutureWarning: You should specify a value for 'cv' instead of relying on the default value. The default value will change from 3 to 5 in version 0.22.\n",
      "  warnings.warn(CV_WARNING, FutureWarning)\n",
      "C:\\Users\\13855\\Anaconda_Re_do\\lib\\site-packages\\sklearn\\model_selection\\_split.py:2053: FutureWarning: You should specify a value for 'cv' instead of relying on the default value. The default value will change from 3 to 5 in version 0.22.\n",
      "  warnings.warn(CV_WARNING, FutureWarning)\n",
      "C:\\Users\\13855\\Anaconda_Re_do\\lib\\site-packages\\sklearn\\model_selection\\_split.py:2053: FutureWarning: You should specify a value for 'cv' instead of relying on the default value. The default value will change from 3 to 5 in version 0.22.\n",
      "  warnings.warn(CV_WARNING, FutureWarning)\n",
      "C:\\Users\\13855\\Anaconda_Re_do\\lib\\site-packages\\sklearn\\model_selection\\_split.py:2053: FutureWarning: You should specify a value for 'cv' instead of relying on the default value. The default value will change from 3 to 5 in version 0.22.\n",
      "  warnings.warn(CV_WARNING, FutureWarning)\n",
      "C:\\Users\\13855\\Anaconda_Re_do\\lib\\site-packages\\sklearn\\model_selection\\_split.py:2053: FutureWarning: You should specify a value for 'cv' instead of relying on the default value. The default value will change from 3 to 5 in version 0.22.\n",
      "  warnings.warn(CV_WARNING, FutureWarning)\n"
     ]
    },
    {
     "name": "stdout",
     "output_type": "stream",
     "text": [
      "Cross-validation scores: [0.71065601 0.66720716 0.7472844  0.75558182 0.62804924]\n",
      "Average cross-validation score: 0.70\n"
     ]
    }
   ],
   "source": [
    "#cross validating is an inherrant part of the elasticnet CV so we do not need to run\n",
    "# a cross validating object over the elstic net object \n",
    "scores = cross_val_score(clf,X_train,y_train,cv=5)\n",
    "print(\"Cross-validation scores: {}\".format(scores))\n",
    "print(\"Average cross-validation score: {:.2f}\".format(scores.mean()))\n"
   ]
  },
  {
   "cell_type": "markdown",
   "metadata": {},
   "source": [
    "$(b)$ Describe the differences that you see in the coefficients and the errors. Which model performs best?"
   ]
  },
  {
   "cell_type": "markdown",
   "metadata": {},
   "source": [
    "###### ok so of the two models that had the highest scores were the SGD linear regressor and the elastic net at .72, although the Lasso and Ridge were not significantly worse at .71 and .70 respectively.  Interestingly enough the SGD and Elastic net had almost the exacy same MSE so the models are very likely along very similar trajectories as they classify the data.  The interpreatations of the coefficients is quite subtle, so for better understanding here is a graph with the 4 different models coefficients all out there, "
   ]
  },
  {
   "cell_type": "code",
   "execution_count": 119,
   "metadata": {},
   "outputs": [
    {
     "data": {
      "image/png": "[encoded data removed]",
      "text/plain": [
       "<Figure size 432x288 with 1 Axes>"
      ]
     },
     "metadata": {
      "needs_background": "light"
     },
     "output_type": "display_data"
    },
    {
     "data": {
      "text/plain": [
       "13"
      ]
     },
     "execution_count": 119,
     "metadata": {},
     "output_type": "execute_result"
    }
   ],
   "source": [
    "plt.plot(ols_coef, \"s\", label = \"ols coefs\")\n",
    "plt.plot(el_coef, \"x\", label = \"elastic net coefs\")\n",
    "plt.plot(r_coef, \"s\", label = \"ridge coefs\")\n",
    "plt.plot(la_coef, \"x\", label = \"lasso coefs\")\n",
    "plt.xlabel = cols\n",
    "plt.legend()\n",
    "plt.show()\n",
    "len(cols)"
   ]
  },
  {
   "cell_type": "markdown",
   "metadata": {},
   "source": [
    "so the columns appear to be essentially the same, the ols and elastic net are very close, as are the ridge and lasso coefs.  they only seam to differ slightly on ____ other than that they are the same "
   ]
  },
  {
   "cell_type": "markdown",
   "metadata": {},
   "source": [
    "$(c)$ Now use cross validation, to find the optimal penalty parameter. Use LOOCV on one of the models and Kfold on another. Comment on what changes between the default"
   ]
  },
  {
   "cell_type": "code",
   "execution_count": 120,
   "metadata": {},
   "outputs": [
    {
     "name": "stdout",
     "output_type": "stream",
     "text": [
      "Accuracy: 66.886%\n"
     ]
    },
    {
     "data": {
      "text/plain": [
       "'lasso accuracy on testing went down from 69 to 66\\nwhen using 10 folds '"
      ]
     },
     "execution_count": 120,
     "metadata": {},
     "output_type": "execute_result"
    }
   ],
   "source": [
    "from sklearn import model_selection\n",
    "\n",
    "## k folds\n",
    "#selecting a KFold model with 10 folds \n",
    "kfold = model_selection.KFold(n_splits=10, random_state=42)\n",
    "results = model_selection.cross_val_score(lasso, \n",
    "                                          X_train,\n",
    "                                          y_train,\n",
    "                                          cv=kfold)\n",
    "print(\"Accuracy: %.3f%%\" % (results.mean()*100.0))\n",
    "\n",
    "'''lasso accuracy on testing went down from 69 to 66\n",
    "when using 10 folds '''\n",
    "\n"
   ]
  },
  {
   "cell_type": "code",
   "execution_count": 121,
   "metadata": {},
   "outputs": [],
   "source": [
    "# #leave out one \n",
    "# loocv = model_selection.LeaveOneOut()\n",
    "\n",
    "# results = model_selection.cross_val_score(ridge, X_train, y_train, cv=loocv)\n",
    "# print(\"Accuracy: %.3f%%\" % (results.mean()*100.0))"
   ]
  },
  {
   "cell_type": "code",
   "execution_count": 138,
   "metadata": {},
   "outputs": [
    {
     "name": "stdout",
     "output_type": "stream",
     "text": [
      "(0.1, 0.341) (0.2, 0.321) (0.3, 0.218) (0.4, 0.204) (0.5, 0.164)\n"
     ]
    }
   ],
   "source": [
    "from sklearn.metrics import mean_squared_error\n",
    "#x = pd.DataFrame(boston['data'], columns=boston['feature_names'])\n",
    "y = pd.Series(boston['target'])\n",
    "\n",
    "for alpha in [.1, .2, .3, .4, .5]:\n",
    "    model = Ridge(alpha)\n",
    "    y_hats = []\n",
    "    for i in x.index:\n",
    "        x_test = x.iloc[i, :]\n",
    "        x_train = x.loc[x.index != i, :]\n",
    "        y_train = y.loc[x.index != i]\n",
    "        y_test = y.loc[i]\n",
    "        model.fit(x_train, y_train)\n",
    "        y_hats.append(model.predict(x_test.to_numpy().reshape(1,-1)))\n",
    "        \n",
    "    print(alpha, mean_squared_error(y, y_hats))\n"
   ]
  },
  {
   "cell_type": "markdown",
   "metadata": {},
   "source": [
    "so as my alpha increases, my mse goes down. So having a higher penalty appears to help the model when we leave out some things \n"
   ]
  },
  {
   "cell_type": "markdown",
   "metadata": {},
   "source": [
    "###### number 6 from the last homework question "
   ]
  },
  {
   "cell_type": "code",
   "execution_count": 139,
   "metadata": {},
   "outputs": [
    {
     "name": "stdout",
     "output_type": "stream",
     "text": [
      "Min MSE: 406.44763344312884\n",
      "Coeff: 1.1200000000000006\n"
     ]
    },
    {
     "data": {
      "image/png": "[encoded data removed]",
      "text/plain": [
       "<Figure size 432x288 with 1 Axes>"
      ]
     },
     "metadata": {
      "needs_background": "light"
     },
     "output_type": "display_data"
    }
   ],
   "source": [
    "import numpy as np\n",
    "\n",
    "mses = []\n",
    "lstat_coef = np.arange(0.5,1.5,0.01)\n",
    "for coef in lstat_coef:\n",
    "    pred_values = np.array([coef * lstat for lstat in x.LSTAT.values])\n",
    "    mses.append(np.sum((y - pred_values)**2))\n",
    "    \n",
    "plt.plot(lstat_coef, mses)\n",
    "print(\"Min MSE: {}\".format(np.sqrt(np.min(mses))))\n",
    "print(\"Coeff: {}\".format(lstat_coef[np.argmin(mses)]))"
   ]
  },
  {
   "cell_type": "code",
   "execution_count": null,
   "metadata": {},
   "outputs": [],
   "source": []
  }
 ],
 "metadata": {
  "kernelspec": {
   "display_name": "Python 3",
   "language": "python",
   "name": "python3"
  },
  "language_info": {
   "codemirror_mode": {
    "name": "ipython",
    "version": 3
   },
   "file_extension": ".py",
   "mimetype": "text/x-python",
   "name": "python",
   "nbconvert_exporter": "python",
   "pygments_lexer": "ipython3",
   "version": "3.7.1"
  }
 },
 "nbformat": 4,
 "nbformat_minor": 2
}
