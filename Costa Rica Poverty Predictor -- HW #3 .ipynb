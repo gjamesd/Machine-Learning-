{
 "cells": [
  {
   "cell_type": "markdown",
   "metadata": {},
   "source": [
    "# James Griffin \n",
    "## homework 4 "
   ]
  },
  {
   "cell_type": "code",
   "execution_count": 562,
   "metadata": {},
   "outputs": [
    {
     "name": "stdout",
     "output_type": "stream",
     "text": [
      "Requirement already satisfied: imblearn in c:\\users\\13855\\anaconda_re_do\\lib\\site-packages (0.0)\n",
      "Requirement already satisfied: imbalanced-learn in c:\\users\\13855\\anaconda_re_do\\lib\\site-packages (from imblearn) (0.4.3)\n",
      "Requirement already satisfied: numpy>=1.8.2 in c:\\users\\13855\\anaconda_re_do\\lib\\site-packages (from imbalanced-learn->imblearn) (1.15.4)\n",
      "Requirement already satisfied: scikit-learn>=0.20 in c:\\users\\13855\\anaconda_re_do\\lib\\site-packages (from imbalanced-learn->imblearn) (0.20.1)\n",
      "Requirement already satisfied: scipy>=0.13.3 in c:\\users\\13855\\anaconda_re_do\\lib\\site-packages (from imbalanced-learn->imblearn) (1.1.0)\n"
     ]
    }
   ],
   "source": [
    "#importing a bunch of stuff \n",
    "\n",
    "import datetime\n",
    "import gc\n",
    "import numpy as np\n",
    "import os\n",
    "import operator\n",
    "import pandas as pd\n",
    "from tqdm import tqdm\n",
    "import numpy as np\n",
    "import seaborn as sns\n",
    "sns.set_palette(sns.color_palette('hls', 7))\n",
    "\n",
    "from statistics import mean\n",
    "\n",
    "import matplotlib.pyplot as plt\n",
    "import seaborn as sns\n",
    "from scipy.stats import describe\n",
    "%matplotlib inline\n",
    "\n",
    "from sklearn.preprocessing import LabelEncoder\n",
    "from sklearn.metrics import f1_score, mean_squared_error\n",
    "from sklearn.model_selection import KFold, RepeatedKFold, GroupKFold\n",
    "import random \n",
    "from random import sample\n",
    "\n",
    "from sklearn.ensemble import RandomForestClassifier\n",
    "from sklearn.model_selection import train_test_split, GridSearchCV\n",
    "from sklearn.metrics import f1_score, classification_report\n",
    "from collections import Counter\n",
    "from sklearn.metrics import classification_report, roc_auc_score\n",
    "from sklearn.ensemble import GradientBoostingClassifier\n",
    "from collections import Counter\n",
    "from sklearn.neighbors import KNeighborsClassifier, KNeighborsRegressor\n",
    "from sklearn.model_selection import train_test_split, GridSearchCV\n",
    "!pip install imblearn\n",
    "from imblearn.over_sampling import RandomOverSampler\n",
    "\n",
    "from sklearn.model_selection import cross_val_score, train_test_split, RandomizedSearchCV"
   ]
  },
  {
   "cell_type": "code",
   "execution_count": 563,
   "metadata": {},
   "outputs": [
    {
     "data": {
      "text/html": [
       "<div>\n",
       "<style scoped>\n",
       "    .dataframe tbody tr th:only-of-type {\n",
       "        vertical-align: middle;\n",
       "    }\n",
       "\n",
       "    .dataframe tbody tr th {\n",
       "        vertical-align: top;\n",
       "    }\n",
       "\n",
       "    .dataframe thead th {\n",
       "        text-align: right;\n",
       "    }\n",
       "</style>\n",
       "<table border=\"1\" class=\"dataframe\">\n",
       "  <thead>\n",
       "    <tr style=\"text-align: right;\">\n",
       "      <th></th>\n",
       "      <th>Id</th>\n",
       "      <th>v2a1</th>\n",
       "      <th>hacdor</th>\n",
       "      <th>rooms</th>\n",
       "      <th>hacapo</th>\n",
       "      <th>v14a</th>\n",
       "      <th>refrig</th>\n",
       "      <th>v18q</th>\n",
       "      <th>v18q1</th>\n",
       "      <th>r4h1</th>\n",
       "      <th>...</th>\n",
       "      <th>SQBescolari</th>\n",
       "      <th>SQBage</th>\n",
       "      <th>SQBhogar_total</th>\n",
       "      <th>SQBedjefe</th>\n",
       "      <th>SQBhogar_nin</th>\n",
       "      <th>SQBovercrowding</th>\n",
       "      <th>SQBdependency</th>\n",
       "      <th>SQBmeaned</th>\n",
       "      <th>agesq</th>\n",
       "      <th>Target</th>\n",
       "    </tr>\n",
       "  </thead>\n",
       "  <tbody>\n",
       "    <tr>\n",
       "      <th>0</th>\n",
       "      <td>ID_279628684</td>\n",
       "      <td>190000.0</td>\n",
       "      <td>0</td>\n",
       "      <td>3</td>\n",
       "      <td>0</td>\n",
       "      <td>1</td>\n",
       "      <td>1</td>\n",
       "      <td>0</td>\n",
       "      <td>NaN</td>\n",
       "      <td>0</td>\n",
       "      <td>...</td>\n",
       "      <td>100</td>\n",
       "      <td>1849</td>\n",
       "      <td>1</td>\n",
       "      <td>100</td>\n",
       "      <td>0</td>\n",
       "      <td>1.000000</td>\n",
       "      <td>0.0</td>\n",
       "      <td>100.0</td>\n",
       "      <td>1849</td>\n",
       "      <td>4</td>\n",
       "    </tr>\n",
       "    <tr>\n",
       "      <th>1</th>\n",
       "      <td>ID_f29eb3ddd</td>\n",
       "      <td>135000.0</td>\n",
       "      <td>0</td>\n",
       "      <td>4</td>\n",
       "      <td>0</td>\n",
       "      <td>1</td>\n",
       "      <td>1</td>\n",
       "      <td>1</td>\n",
       "      <td>1.0</td>\n",
       "      <td>0</td>\n",
       "      <td>...</td>\n",
       "      <td>144</td>\n",
       "      <td>4489</td>\n",
       "      <td>1</td>\n",
       "      <td>144</td>\n",
       "      <td>0</td>\n",
       "      <td>1.000000</td>\n",
       "      <td>64.0</td>\n",
       "      <td>144.0</td>\n",
       "      <td>4489</td>\n",
       "      <td>4</td>\n",
       "    </tr>\n",
       "    <tr>\n",
       "      <th>2</th>\n",
       "      <td>ID_68de51c94</td>\n",
       "      <td>NaN</td>\n",
       "      <td>0</td>\n",
       "      <td>8</td>\n",
       "      <td>0</td>\n",
       "      <td>1</td>\n",
       "      <td>1</td>\n",
       "      <td>0</td>\n",
       "      <td>NaN</td>\n",
       "      <td>0</td>\n",
       "      <td>...</td>\n",
       "      <td>121</td>\n",
       "      <td>8464</td>\n",
       "      <td>1</td>\n",
       "      <td>0</td>\n",
       "      <td>0</td>\n",
       "      <td>0.250000</td>\n",
       "      <td>64.0</td>\n",
       "      <td>121.0</td>\n",
       "      <td>8464</td>\n",
       "      <td>4</td>\n",
       "    </tr>\n",
       "    <tr>\n",
       "      <th>3</th>\n",
       "      <td>ID_d671db89c</td>\n",
       "      <td>180000.0</td>\n",
       "      <td>0</td>\n",
       "      <td>5</td>\n",
       "      <td>0</td>\n",
       "      <td>1</td>\n",
       "      <td>1</td>\n",
       "      <td>1</td>\n",
       "      <td>1.0</td>\n",
       "      <td>0</td>\n",
       "      <td>...</td>\n",
       "      <td>81</td>\n",
       "      <td>289</td>\n",
       "      <td>16</td>\n",
       "      <td>121</td>\n",
       "      <td>4</td>\n",
       "      <td>1.777778</td>\n",
       "      <td>1.0</td>\n",
       "      <td>121.0</td>\n",
       "      <td>289</td>\n",
       "      <td>4</td>\n",
       "    </tr>\n",
       "    <tr>\n",
       "      <th>4</th>\n",
       "      <td>ID_d56d6f5f5</td>\n",
       "      <td>180000.0</td>\n",
       "      <td>0</td>\n",
       "      <td>5</td>\n",
       "      <td>0</td>\n",
       "      <td>1</td>\n",
       "      <td>1</td>\n",
       "      <td>1</td>\n",
       "      <td>1.0</td>\n",
       "      <td>0</td>\n",
       "      <td>...</td>\n",
       "      <td>121</td>\n",
       "      <td>1369</td>\n",
       "      <td>16</td>\n",
       "      <td>121</td>\n",
       "      <td>4</td>\n",
       "      <td>1.777778</td>\n",
       "      <td>1.0</td>\n",
       "      <td>121.0</td>\n",
       "      <td>1369</td>\n",
       "      <td>4</td>\n",
       "    </tr>\n",
       "  </tbody>\n",
       "</table>\n",
       "<p>5 rows × 143 columns</p>\n",
       "</div>"
      ],
      "text/plain": [
       "             Id      v2a1  hacdor  rooms  hacapo  v14a  refrig  v18q  v18q1  \\\n",
       "0  ID_279628684  190000.0       0      3       0     1       1     0    NaN   \n",
       "1  ID_f29eb3ddd  135000.0       0      4       0     1       1     1    1.0   \n",
       "2  ID_68de51c94       NaN       0      8       0     1       1     0    NaN   \n",
       "3  ID_d671db89c  180000.0       0      5       0     1       1     1    1.0   \n",
       "4  ID_d56d6f5f5  180000.0       0      5       0     1       1     1    1.0   \n",
       "\n",
       "   r4h1   ...    SQBescolari  SQBage  SQBhogar_total  SQBedjefe  SQBhogar_nin  \\\n",
       "0     0   ...            100    1849               1        100             0   \n",
       "1     0   ...            144    4489               1        144             0   \n",
       "2     0   ...            121    8464               1          0             0   \n",
       "3     0   ...             81     289              16        121             4   \n",
       "4     0   ...            121    1369              16        121             4   \n",
       "\n",
       "   SQBovercrowding  SQBdependency  SQBmeaned  agesq  Target  \n",
       "0         1.000000            0.0      100.0   1849       4  \n",
       "1         1.000000           64.0      144.0   4489       4  \n",
       "2         0.250000           64.0      121.0   8464       4  \n",
       "3         1.777778            1.0      121.0    289       4  \n",
       "4         1.777778            1.0      121.0   1369       4  \n",
       "\n",
       "[5 rows x 143 columns]"
      ]
     },
     "execution_count": 563,
     "metadata": {},
     "output_type": "execute_result"
    }
   ],
   "source": [
    "#importing training data, as train_df \n",
    "\n",
    "train_df = pd.read_csv(\"costa_rica_train.csv\")\n",
    "train_df.head()"
   ]
  },
  {
   "cell_type": "code",
   "execution_count": 564,
   "metadata": {},
   "outputs": [
    {
     "data": {
      "text/html": [
       "<div>\n",
       "<style scoped>\n",
       "    .dataframe tbody tr th:only-of-type {\n",
       "        vertical-align: middle;\n",
       "    }\n",
       "\n",
       "    .dataframe tbody tr th {\n",
       "        vertical-align: top;\n",
       "    }\n",
       "\n",
       "    .dataframe thead th {\n",
       "        text-align: right;\n",
       "    }\n",
       "</style>\n",
       "<table border=\"1\" class=\"dataframe\">\n",
       "  <thead>\n",
       "    <tr style=\"text-align: right;\">\n",
       "      <th></th>\n",
       "      <th>Id</th>\n",
       "      <th>v2a1</th>\n",
       "      <th>hacdor</th>\n",
       "      <th>rooms</th>\n",
       "      <th>hacapo</th>\n",
       "      <th>v14a</th>\n",
       "      <th>refrig</th>\n",
       "      <th>v18q</th>\n",
       "      <th>v18q1</th>\n",
       "      <th>r4h1</th>\n",
       "      <th>...</th>\n",
       "      <th>age</th>\n",
       "      <th>SQBescolari</th>\n",
       "      <th>SQBage</th>\n",
       "      <th>SQBhogar_total</th>\n",
       "      <th>SQBedjefe</th>\n",
       "      <th>SQBhogar_nin</th>\n",
       "      <th>SQBovercrowding</th>\n",
       "      <th>SQBdependency</th>\n",
       "      <th>SQBmeaned</th>\n",
       "      <th>agesq</th>\n",
       "    </tr>\n",
       "  </thead>\n",
       "  <tbody>\n",
       "    <tr>\n",
       "      <th>0</th>\n",
       "      <td>ID_2f6873615</td>\n",
       "      <td>NaN</td>\n",
       "      <td>0</td>\n",
       "      <td>5</td>\n",
       "      <td>0</td>\n",
       "      <td>1</td>\n",
       "      <td>1</td>\n",
       "      <td>0</td>\n",
       "      <td>NaN</td>\n",
       "      <td>1</td>\n",
       "      <td>...</td>\n",
       "      <td>4</td>\n",
       "      <td>0</td>\n",
       "      <td>16</td>\n",
       "      <td>9</td>\n",
       "      <td>0</td>\n",
       "      <td>1</td>\n",
       "      <td>2.25</td>\n",
       "      <td>0.25</td>\n",
       "      <td>272.25</td>\n",
       "      <td>16</td>\n",
       "    </tr>\n",
       "    <tr>\n",
       "      <th>1</th>\n",
       "      <td>ID_1c78846d2</td>\n",
       "      <td>NaN</td>\n",
       "      <td>0</td>\n",
       "      <td>5</td>\n",
       "      <td>0</td>\n",
       "      <td>1</td>\n",
       "      <td>1</td>\n",
       "      <td>0</td>\n",
       "      <td>NaN</td>\n",
       "      <td>1</td>\n",
       "      <td>...</td>\n",
       "      <td>41</td>\n",
       "      <td>256</td>\n",
       "      <td>1681</td>\n",
       "      <td>9</td>\n",
       "      <td>0</td>\n",
       "      <td>1</td>\n",
       "      <td>2.25</td>\n",
       "      <td>0.25</td>\n",
       "      <td>272.25</td>\n",
       "      <td>1681</td>\n",
       "    </tr>\n",
       "    <tr>\n",
       "      <th>2</th>\n",
       "      <td>ID_e5442cf6a</td>\n",
       "      <td>NaN</td>\n",
       "      <td>0</td>\n",
       "      <td>5</td>\n",
       "      <td>0</td>\n",
       "      <td>1</td>\n",
       "      <td>1</td>\n",
       "      <td>0</td>\n",
       "      <td>NaN</td>\n",
       "      <td>1</td>\n",
       "      <td>...</td>\n",
       "      <td>41</td>\n",
       "      <td>289</td>\n",
       "      <td>1681</td>\n",
       "      <td>9</td>\n",
       "      <td>0</td>\n",
       "      <td>1</td>\n",
       "      <td>2.25</td>\n",
       "      <td>0.25</td>\n",
       "      <td>272.25</td>\n",
       "      <td>1681</td>\n",
       "    </tr>\n",
       "    <tr>\n",
       "      <th>3</th>\n",
       "      <td>ID_a8db26a79</td>\n",
       "      <td>NaN</td>\n",
       "      <td>0</td>\n",
       "      <td>14</td>\n",
       "      <td>0</td>\n",
       "      <td>1</td>\n",
       "      <td>1</td>\n",
       "      <td>1</td>\n",
       "      <td>1.0</td>\n",
       "      <td>0</td>\n",
       "      <td>...</td>\n",
       "      <td>59</td>\n",
       "      <td>256</td>\n",
       "      <td>3481</td>\n",
       "      <td>1</td>\n",
       "      <td>256</td>\n",
       "      <td>0</td>\n",
       "      <td>1.00</td>\n",
       "      <td>0.00</td>\n",
       "      <td>256.00</td>\n",
       "      <td>3481</td>\n",
       "    </tr>\n",
       "    <tr>\n",
       "      <th>4</th>\n",
       "      <td>ID_a62966799</td>\n",
       "      <td>175000.0</td>\n",
       "      <td>0</td>\n",
       "      <td>4</td>\n",
       "      <td>0</td>\n",
       "      <td>1</td>\n",
       "      <td>1</td>\n",
       "      <td>1</td>\n",
       "      <td>1.0</td>\n",
       "      <td>0</td>\n",
       "      <td>...</td>\n",
       "      <td>18</td>\n",
       "      <td>121</td>\n",
       "      <td>324</td>\n",
       "      <td>1</td>\n",
       "      <td>0</td>\n",
       "      <td>1</td>\n",
       "      <td>0.25</td>\n",
       "      <td>64.00</td>\n",
       "      <td>NaN</td>\n",
       "      <td>324</td>\n",
       "    </tr>\n",
       "  </tbody>\n",
       "</table>\n",
       "<p>5 rows × 142 columns</p>\n",
       "</div>"
      ],
      "text/plain": [
       "             Id      v2a1  hacdor  rooms  hacapo  v14a  refrig  v18q  v18q1  \\\n",
       "0  ID_2f6873615       NaN       0      5       0     1       1     0    NaN   \n",
       "1  ID_1c78846d2       NaN       0      5       0     1       1     0    NaN   \n",
       "2  ID_e5442cf6a       NaN       0      5       0     1       1     0    NaN   \n",
       "3  ID_a8db26a79       NaN       0     14       0     1       1     1    1.0   \n",
       "4  ID_a62966799  175000.0       0      4       0     1       1     1    1.0   \n",
       "\n",
       "   r4h1  ...    age  SQBescolari  SQBage  SQBhogar_total  SQBedjefe  \\\n",
       "0     1  ...      4            0      16               9          0   \n",
       "1     1  ...     41          256    1681               9          0   \n",
       "2     1  ...     41          289    1681               9          0   \n",
       "3     0  ...     59          256    3481               1        256   \n",
       "4     0  ...     18          121     324               1          0   \n",
       "\n",
       "   SQBhogar_nin  SQBovercrowding  SQBdependency  SQBmeaned  agesq  \n",
       "0             1             2.25           0.25     272.25     16  \n",
       "1             1             2.25           0.25     272.25   1681  \n",
       "2             1             2.25           0.25     272.25   1681  \n",
       "3             0             1.00           0.00     256.00   3481  \n",
       "4             1             0.25          64.00        NaN    324  \n",
       "\n",
       "[5 rows x 142 columns]"
      ]
     },
     "execution_count": 564,
     "metadata": {},
     "output_type": "execute_result"
    }
   ],
   "source": [
    "test_df = pd.read_csv(\"costa_rica_test.csv\")\n",
    "test_df.head()\n"
   ]
  },
  {
   "cell_type": "markdown",
   "metadata": {},
   "source": [
    "looks like my training data has the column of target included, this looks to be my outcome variable from the data description on kaggle.  1 was extreme poverty, 2 is moderate, 3 is vulnerable and 4 is non vulnerable,  "
   ]
  },
  {
   "cell_type": "code",
   "execution_count": 565,
   "metadata": {},
   "outputs": [
    {
     "data": {
      "image/png": "[encoded data removed]",
      "text/plain": [
       "<Figure size 720x432 with 1 Axes>"
      ]
     },
     "metadata": {},
     "output_type": "display_data"
    }
   ],
   "source": [
    "# to get a better look at my outcome variable, I will just plot it \n",
    "\n",
    "plt.style.use(style = 'ggplot')\n",
    "plt.rcParams['figure.figsize'] = (10,6)\n",
    "\n",
    "fig = plt.figure()\n",
    "plt.hist(train_df.Target, color = 'blue')\n",
    "plt.title('Looking at target outcome')\n",
    "\n",
    "plt.show()"
   ]
  },
  {
   "cell_type": "markdown",
   "metadata": {},
   "source": [
    "ok thinking out loud for a second, these are categorical variables, however they are ordinal, so we can say that our data is indeed skewed, but how do we deal with ordinal skewed data... ok well, we'll come back to this, for now, lets get the data clean\n",
    "\n",
    "resample the data, over sample or under sample packages that we can use will be discussed in class "
   ]
  },
  {
   "cell_type": "code",
   "execution_count": 566,
   "metadata": {},
   "outputs": [],
   "source": [
    "#creating a target variable because I will have to drop the\n",
    "#outcome variable when I run my train set \n",
    "\n",
    "y = train_df['Target']"
   ]
  },
  {
   "cell_type": "code",
   "execution_count": 567,
   "metadata": {},
   "outputs": [
    {
     "name": "stdout",
     "output_type": "stream",
     "text": [
      "                   0\n",
      "rez_esc         7928\n",
      "v18q1           7342\n",
      "v2a1            6860\n",
      "meaneduc           5\n",
      "SQBmeaned          5\n",
      "techozinc          0\n",
      "techoentrepiso     0\n",
      "techocane          0\n",
      "techootro          0\n",
      "cielorazo          0\n",
      "(9557, 143)\n"
     ]
    }
   ],
   "source": [
    "# looking at nulls in training \n",
    "\n",
    "nulls_train = pd.DataFrame(train_df.isnull().sum().sort_values(ascending=False)[:10])\n",
    "\n",
    "print(nulls_train)\n",
    "\n",
    "print(train_df.shape)"
   ]
  },
  {
   "cell_type": "code",
   "execution_count": 568,
   "metadata": {},
   "outputs": [
    {
     "name": "stdout",
     "output_type": "stream",
     "text": [
      "0    NaN\n",
      "1    NaN\n",
      "2    NaN\n",
      "3    1.0\n",
      "4    NaN\n",
      "Name: rez_esc, dtype: float64\n"
     ]
    }
   ],
   "source": [
    "print(train_df['rez_esc'].head())"
   ]
  },
  {
   "cell_type": "markdown",
   "metadata": {},
   "source": [
    "Ok so rez_esc is the number of years someone is behind in school, because I don't think it is likely that the NAN values should be zero, I am going to drop this column, additionally, out of 9557 data points we're missing almost 8000.\n",
    "\n",
    "vl18q1 is the number of tablets in the home, although I don't think that would be highly correlated with poverety level, I will fill the NA values with 0, because that is more accurate than dropping \n",
    "\n",
    "v2a1 is the monthly rent payment, this one I am torn on, I could fill the NA with zeros, meaning that all of these people probably owned their own homes.  I don't know how strong of an assumption that is, will investigate further to see if other data indicates as to the rate of home ownership. \n",
    "\n",
    "For the meanduc, that is the mean years of education of adults 18+, I will fill in those missing points with the mean of whatever target they correspond to, and do the same for SQBmeaned, which is the square of the mean years of education of adults >= 18. They are probably the same 5 observation points, but thats my plan. \n"
   ]
  },
  {
   "cell_type": "code",
   "execution_count": 569,
   "metadata": {},
   "outputs": [
    {
     "name": "stdout",
     "output_type": "stream",
     "text": [
      "count    2215.000000\n",
      "mean        1.404063\n",
      "std         0.763131\n",
      "min         1.000000\n",
      "25%         1.000000\n",
      "50%         1.000000\n",
      "75%         2.000000\n",
      "max         6.000000\n",
      "Name: v18q1, dtype: float64\n"
     ]
    }
   ],
   "source": [
    "print(train_df.v18q1.describe())\n",
    "\n",
    "\n",
    "# ok I need to fill the missing values with 0 "
   ]
  },
  {
   "cell_type": "code",
   "execution_count": 570,
   "metadata": {},
   "outputs": [
    {
     "name": "stdout",
     "output_type": "stream",
     "text": [
      "count    9557.000000\n",
      "mean        0.325416\n",
      "std         0.697118\n",
      "min         0.000000\n",
      "25%         0.000000\n",
      "50%         0.000000\n",
      "75%         0.000000\n",
      "max         6.000000\n",
      "Name: v18q1, dtype: float64\n"
     ]
    }
   ],
   "source": [
    "train_df['v18q1'] = train_df['v18q1'].replace(np.nan, 0)\n",
    "\n",
    "#another easier syntax \n",
    "# train_df.v18q1 = train_df.v18q1.fillna(0)\n",
    "\n",
    "print(train_df.v18q1.describe())\n",
    "\n",
    "# ok looks like that all worked "
   ]
  },
  {
   "cell_type": "markdown",
   "metadata": {},
   "source": [
    "Ok the data description gives several categories for home ownership, to make sure that I'm not comprimising the data with my assumption of home ownership, I will graph these to visualize and see if my assumption is valid. "
   ]
  },
  {
   "cell_type": "code",
   "execution_count": 571,
   "metadata": {},
   "outputs": [
    {
     "data": {
      "image/png": "[encoded data removed]",
      "text/plain": [
       "<Figure size 576x432 with 1 Axes>"
      ]
     },
     "metadata": {},
     "output_type": "display_data"
    }
   ],
   "source": [
    "own_home = ['tipovivi1', 'tipovivi2', 'tipovivi3', 'tipovivi4', 'tipovivi5']\n",
    "\n",
    "#line provides the index for the new data set \n",
    "own_data = train_df.loc[train_df['v2a1'].isnull(), own_home].sum()\n",
    "own_data = own_data.reset_index()\n",
    "f, ax = plt.subplots(figsize=(8, 6))\n",
    "\n",
    "plot = sns.barplot(x = 'index', y = 0 , data = own_data)\n",
    "\n",
    "plt.title(\"looking at home ownership rates\")\n",
    "\n",
    "plt.show()\n",
    "\n"
   ]
  },
  {
   "cell_type": "code",
   "execution_count": 572,
   "metadata": {},
   "outputs": [],
   "source": [
    "## ask nelson exactly what each line is doing "
   ]
  },
  {
   "cell_type": "markdown",
   "metadata": {},
   "source": [
    "Awesome, so it looks like the vast majority of the data do own their own home, so the assuption based on my gut is well founded in the data, I will therefore fill the empty values with 0 because that keeps the integrety of the data and actually paints a more accurate picture. "
   ]
  },
  {
   "cell_type": "code",
   "execution_count": 573,
   "metadata": {},
   "outputs": [],
   "source": [
    "#print(train_df.rez_esc.head())\n",
    "\n",
    "#print(train_df.isnull().sum())"
   ]
  },
  {
   "cell_type": "code",
   "execution_count": 574,
   "metadata": {},
   "outputs": [
    {
     "name": "stdout",
     "output_type": "stream",
     "text": [
      "             0\n",
      "SQBmeaned    5\n",
      "meaneduc     5\n",
      "Target       0\n",
      "abastaguano  0\n",
      "sanitario2   0\n",
      "sanitario1   0\n",
      "coopele      0\n",
      "noelec       0\n",
      "planpri      0\n",
      "public       0\n",
      "(9557, 142)\n"
     ]
    }
   ],
   "source": [
    "train_df['v2a1'] = train_df['v2a1'].replace(np.nan, 0)\n",
    "\n",
    "#dropping columns with lots of missing data \n",
    "\n",
    "train_df.drop(axis = 1, columns = ['rez_esc'], inplace = True)\n",
    "\n",
    "#CAN modify drop command by putting berackets next to columns and dropping a list of columns \n",
    "\n",
    "\n",
    "nulls = pd.DataFrame(train_df.isnull().sum().sort_values(ascending=False)[:10])\n",
    "\n",
    "print(nulls)\n",
    "\n",
    "print(train_df.shape)"
   ]
  },
  {
   "cell_type": "code",
   "execution_count": 575,
   "metadata": {
    "scrolled": true
   },
   "outputs": [
    {
     "name": "stdout",
     "output_type": "stream",
     "text": [
      "                Id      v2a1  hacdor  rooms  hacapo  v14a  refrig  v18q  \\\n",
      "1291  ID_bd8e11b0f       0.0       0      7       0     1       1     0   \n",
      "1840  ID_46ff87316  110000.0       0      1       0     1       1     0   \n",
      "1841  ID_69f50bf3e  110000.0       0      1       0     1       1     0   \n",
      "2049  ID_db3168f9f  180000.0       0      3       0     1       1     0   \n",
      "2050  ID_2a7615902  180000.0       0      3       0     1       1     0   \n",
      "\n",
      "      v18q1  r4h1   ...    SQBescolari  SQBage  SQBhogar_total  SQBedjefe  \\\n",
      "1291    0.0     0   ...            100     324               1          0   \n",
      "1840    0.0     0   ...             36     324               4         16   \n",
      "1841    0.0     0   ...             16     324               4         16   \n",
      "2049    0.0     0   ...            144     361               4        144   \n",
      "2050    0.0     0   ...            144     361               4        144   \n",
      "\n",
      "      SQBhogar_nin  SQBovercrowding  SQBdependency  SQBmeaned  agesq  Target  \n",
      "1291             1             0.04           64.0        NaN    324       4  \n",
      "1840             4             4.00           64.0        NaN    324       4  \n",
      "1841             4             4.00           64.0        NaN    324       4  \n",
      "2049             4             1.00           64.0        NaN    361       4  \n",
      "2050             4             1.00           64.0        NaN    361       4  \n",
      "\n",
      "[5 rows x 142 columns]\n"
     ]
    }
   ],
   "source": [
    "#awesome, got rid of those columns and filled in the data,\n",
    "#I want to see what other missing data points I have\n",
    "# and fill in values\n",
    "\n",
    "nulls_df = train_df[train_df.isnull().any(axis=1)]\n",
    "\n",
    "print(nulls_df)"
   ]
  },
  {
   "cell_type": "markdown",
   "metadata": {},
   "source": [
    "ok so there are only 5 rows in this data frame, which tells me that missing values come from the same rows. since there are only 5 missing values, I will just fill them with the average of their respective columns.  If there were more data points missing, it would be wise to fill with a condtitional mean and partition your columns that are highly correlated to create a more realistic training data  "
   ]
  },
  {
   "cell_type": "code",
   "execution_count": 576,
   "metadata": {},
   "outputs": [
    {
     "name": "stdout",
     "output_type": "stream",
     "text": [
      "most  positively correlated columns\n",
      "Target         1.000000\n",
      "meaneduc       0.335203\n",
      "cielorazo      0.304421\n",
      "escolari       0.302305\n",
      "SQBescolari    0.296577\n",
      "eviv3          0.294222\n",
      "epared3        0.292451\n",
      "Name: Target, dtype: float64\n",
      "\n",
      "most negative corr \n",
      "r4m1              -0.253163\n",
      "SQBovercrowding   -0.258744\n",
      "overcrowding      -0.289110\n",
      "SQBhogar_nin      -0.311186\n",
      "r4t1              -0.316745\n",
      "hogar_nin         -0.328199\n",
      "elimbasu5               NaN\n",
      "Name: Target, dtype: float64\n"
     ]
    }
   ],
   "source": [
    "## Which numeric columns are correlated with target\n",
    "numeric_features = train_df.select_dtypes(include=[np.number])\n",
    "\n",
    "corr = numeric_features.corr()\n",
    "\n",
    "# The first five features are the most positively correlated Target\n",
    "print(\"most  positively correlated columns\")\n",
    "print (corr['Target'].sort_values(ascending=False)[:7])\n",
    "\n",
    "\n",
    "print(\"\")\n",
    "\n",
    "print(\"most negative corr \")\n",
    "print (corr['Target'].sort_values(ascending=False)[-7:])"
   ]
  },
  {
   "cell_type": "markdown",
   "metadata": {},
   "source": [
    "ugghh thats not very encouraging, the highest correlation was .335, i'm going to try and create a data frame of only the five missing rows and look at their mean education recieved, however the meaneduc are the columns that are missing, cielorazo is just 1 or 0, visually Here is a heat map of correlation "
   ]
  },
  {
   "cell_type": "code",
   "execution_count": 577,
   "metadata": {},
   "outputs": [
    {
     "data": {
      "text/plain": [
       "<matplotlib.axes._subplots.AxesSubplot at 0x1b563e1a860>"
      ]
     },
     "execution_count": 577,
     "metadata": {},
     "output_type": "execute_result"
    },
    {
     "data": {
      "image/png": "[encoded data removed]",
      "text/plain": [
       "<Figure size 720x432 with 2 Axes>"
      ]
     },
     "metadata": {},
     "output_type": "display_data"
    }
   ],
   "source": [
    "high_corr = train_df[[\"Target\", \"meaneduc\", \"cielorazo\", \n",
    "                      \"escolari\", \"SQBescolari\", \"eviv3\"]]\n",
    "corr_mat = high_corr.corr()\n",
    "f, ax = plt.subplots(figsize = (10, 6))\n",
    "sns.heatmap(corr_mat,vmax=.8,square=True)"
   ]
  },
  {
   "cell_type": "code",
   "execution_count": 578,
   "metadata": {},
   "outputs": [
    {
     "data": {
      "text/html": [
       "<div>\n",
       "<style scoped>\n",
       "    .dataframe tbody tr th:only-of-type {\n",
       "        vertical-align: middle;\n",
       "    }\n",
       "\n",
       "    .dataframe tbody tr th {\n",
       "        vertical-align: top;\n",
       "    }\n",
       "\n",
       "    .dataframe thead th {\n",
       "        text-align: right;\n",
       "    }\n",
       "</style>\n",
       "<table border=\"1\" class=\"dataframe\">\n",
       "  <thead>\n",
       "    <tr style=\"text-align: right;\">\n",
       "      <th></th>\n",
       "      <th>escolari</th>\n",
       "      <th>cielorazo</th>\n",
       "      <th>SQBescolari</th>\n",
       "      <th>eviv3</th>\n",
       "    </tr>\n",
       "  </thead>\n",
       "  <tbody>\n",
       "    <tr>\n",
       "      <th>1291</th>\n",
       "      <td>10</td>\n",
       "      <td>1</td>\n",
       "      <td>100</td>\n",
       "      <td>1</td>\n",
       "    </tr>\n",
       "    <tr>\n",
       "      <th>1840</th>\n",
       "      <td>6</td>\n",
       "      <td>1</td>\n",
       "      <td>36</td>\n",
       "      <td>0</td>\n",
       "    </tr>\n",
       "    <tr>\n",
       "      <th>1841</th>\n",
       "      <td>4</td>\n",
       "      <td>1</td>\n",
       "      <td>16</td>\n",
       "      <td>0</td>\n",
       "    </tr>\n",
       "    <tr>\n",
       "      <th>2049</th>\n",
       "      <td>12</td>\n",
       "      <td>1</td>\n",
       "      <td>144</td>\n",
       "      <td>1</td>\n",
       "    </tr>\n",
       "    <tr>\n",
       "      <th>2050</th>\n",
       "      <td>12</td>\n",
       "      <td>1</td>\n",
       "      <td>144</td>\n",
       "      <td>1</td>\n",
       "    </tr>\n",
       "  </tbody>\n",
       "</table>\n",
       "</div>"
      ],
      "text/plain": [
       "      escolari  cielorazo  SQBescolari  eviv3\n",
       "1291        10          1          100      1\n",
       "1840         6          1           36      0\n",
       "1841         4          1           16      0\n",
       "2049        12          1          144      1\n",
       "2050        12          1          144      1"
      ]
     },
     "execution_count": 578,
     "metadata": {},
     "output_type": "execute_result"
    }
   ],
   "source": [
    "nulls_df.loc[:, [\"escolari\", \"cielorazo\", \"SQBescolari\", \"eviv3\"]]\n",
    "\n",
    "## Ok so i think I will partition this into two groups, 1291, 2049 and 2050 into one group, and then \n",
    "# 1840 and 1841 into another group. and fill in the missing values with the conditiaonal\n",
    "# mean where escolari >= 10 and eviv3 == 1 "
   ]
  },
  {
   "cell_type": "markdown",
   "metadata": {},
   "source": [
    "Should have picked up on it earlier, but SQBescolari is just the squared value of the escolari, the number of years the head of houshold was in school.  So naturally if one is, the other will also be highly correlated with the target variable. "
   ]
  },
  {
   "cell_type": "code",
   "execution_count": null,
   "metadata": {},
   "outputs": [],
   "source": []
  },
  {
   "cell_type": "code",
   "execution_count": 579,
   "metadata": {},
   "outputs": [],
   "source": [
    "train_df['meaneduc'] = train_df.groupby('escolari')['meaneduc'].transform(lambda x: x.fillna(x.median()))\n",
    "\n",
    "train_df['SQBmeaned'] = (train_df.meaneduc)**2"
   ]
  },
  {
   "cell_type": "markdown",
   "metadata": {},
   "source": [
    "OK now that my missing data is filled in and accurage, time to look at my categorical data. \n"
   ]
  },
  {
   "cell_type": "code",
   "execution_count": 580,
   "metadata": {},
   "outputs": [
    {
     "data": {
      "text/html": [
       "<div>\n",
       "<style scoped>\n",
       "    .dataframe tbody tr th:only-of-type {\n",
       "        vertical-align: middle;\n",
       "    }\n",
       "\n",
       "    .dataframe tbody tr th {\n",
       "        vertical-align: top;\n",
       "    }\n",
       "\n",
       "    .dataframe thead th {\n",
       "        text-align: right;\n",
       "    }\n",
       "</style>\n",
       "<table border=\"1\" class=\"dataframe\">\n",
       "  <thead>\n",
       "    <tr style=\"text-align: right;\">\n",
       "      <th></th>\n",
       "      <th>Id</th>\n",
       "      <th>idhogar</th>\n",
       "      <th>dependency</th>\n",
       "      <th>edjefe</th>\n",
       "      <th>edjefa</th>\n",
       "    </tr>\n",
       "  </thead>\n",
       "  <tbody>\n",
       "    <tr>\n",
       "      <th>0</th>\n",
       "      <td>ID_279628684</td>\n",
       "      <td>21eb7fcc1</td>\n",
       "      <td>no</td>\n",
       "      <td>10</td>\n",
       "      <td>no</td>\n",
       "    </tr>\n",
       "    <tr>\n",
       "      <th>1</th>\n",
       "      <td>ID_f29eb3ddd</td>\n",
       "      <td>0e5d7a658</td>\n",
       "      <td>8</td>\n",
       "      <td>12</td>\n",
       "      <td>no</td>\n",
       "    </tr>\n",
       "    <tr>\n",
       "      <th>2</th>\n",
       "      <td>ID_68de51c94</td>\n",
       "      <td>2c7317ea8</td>\n",
       "      <td>8</td>\n",
       "      <td>no</td>\n",
       "      <td>11</td>\n",
       "    </tr>\n",
       "    <tr>\n",
       "      <th>3</th>\n",
       "      <td>ID_d671db89c</td>\n",
       "      <td>2b58d945f</td>\n",
       "      <td>yes</td>\n",
       "      <td>11</td>\n",
       "      <td>no</td>\n",
       "    </tr>\n",
       "    <tr>\n",
       "      <th>4</th>\n",
       "      <td>ID_d56d6f5f5</td>\n",
       "      <td>2b58d945f</td>\n",
       "      <td>yes</td>\n",
       "      <td>11</td>\n",
       "      <td>no</td>\n",
       "    </tr>\n",
       "  </tbody>\n",
       "</table>\n",
       "</div>"
      ],
      "text/plain": [
       "             Id    idhogar dependency edjefe edjefa\n",
       "0  ID_279628684  21eb7fcc1         no     10     no\n",
       "1  ID_f29eb3ddd  0e5d7a658          8     12     no\n",
       "2  ID_68de51c94  2c7317ea8          8     no     11\n",
       "3  ID_d671db89c  2b58d945f        yes     11     no\n",
       "4  ID_d56d6f5f5  2b58d945f        yes     11     no"
      ]
     },
     "execution_count": 580,
     "metadata": {},
     "output_type": "execute_result"
    }
   ],
   "source": [
    "train_df.select_dtypes(include = \"object\").head()"
   ]
  },
  {
   "cell_type": "markdown",
   "metadata": {},
   "source": [
    "Since id and idhogar as unique identifiers, at first I had the inclination to leave them in, some IS 201 recolection wanted me to do that, however these columns do not give me any real information, and could potentially throw off the predictions if they are some how correlated with my target variable, so I will drop these ID columns.  \n",
    "\n",
    "It looks like the other three have yes/no/ integer values. Data description says it is the number of members the household younger than 19, from the data description, it looks like 'yes' in each column can be replaced with a 1 \n",
    "\n",
    "In the edjefe and edjefa, these are the number of years of education for the male and female head of households respectively, will fill these with 0 if no using a simple for loop "
   ]
  },
  {
   "cell_type": "code",
   "execution_count": 581,
   "metadata": {},
   "outputs": [],
   "source": [
    "#dictionary = {\"no\": 0, \"yes\":1}\n",
    "\n",
    "#train_df.edjefe = train_df.replace(dictionary)"
   ]
  },
  {
   "cell_type": "code",
   "execution_count": 582,
   "metadata": {},
   "outputs": [
    {
     "data": {
      "text/plain": [
       "0    10\n",
       "1    12\n",
       "2    no\n",
       "3    11\n",
       "4    11\n",
       "Name: edjefe, dtype: object"
      ]
     },
     "execution_count": 582,
     "metadata": {},
     "output_type": "execute_result"
    }
   ],
   "source": [
    "train_df.edjefe.head()"
   ]
  },
  {
   "cell_type": "code",
   "execution_count": 583,
   "metadata": {},
   "outputs": [],
   "source": [
    "#train_df.select_dtypes(include = \"object\").head() "
   ]
  },
  {
   "cell_type": "code",
   "execution_count": 584,
   "metadata": {},
   "outputs": [],
   "source": [
    "#train_df.drop(axis = 1, columns = ['rez_esc'], inplace = True)\n",
    "\n",
    "train_df.drop([\"Id\", \"idhogar\"],axis = 1,  inplace = True)\n"
   ]
  },
  {
   "cell_type": "code",
   "execution_count": 585,
   "metadata": {},
   "outputs": [],
   "source": [
    "dictionary = {\"no\": 0, \"yes\":1}\n",
    "\n",
    "train_df.edjefe = train_df.edjefe.replace(dictionary)\n",
    "\n",
    "train_df.edjefa = train_df.edjefa.replace(dictionary)\n",
    "\n",
    "train_df.dependency = train_df.dependency.replace(dictionary)"
   ]
  },
  {
   "cell_type": "code",
   "execution_count": 586,
   "metadata": {},
   "outputs": [
    {
     "data": {
      "text/html": [
       "<div>\n",
       "<style scoped>\n",
       "    .dataframe tbody tr th:only-of-type {\n",
       "        vertical-align: middle;\n",
       "    }\n",
       "\n",
       "    .dataframe tbody tr th {\n",
       "        vertical-align: top;\n",
       "    }\n",
       "\n",
       "    .dataframe thead th {\n",
       "        text-align: right;\n",
       "    }\n",
       "</style>\n",
       "<table border=\"1\" class=\"dataframe\">\n",
       "  <thead>\n",
       "    <tr style=\"text-align: right;\">\n",
       "      <th></th>\n",
       "      <th>dependency</th>\n",
       "      <th>edjefe</th>\n",
       "      <th>edjefa</th>\n",
       "    </tr>\n",
       "  </thead>\n",
       "  <tbody>\n",
       "    <tr>\n",
       "      <th>0</th>\n",
       "      <td>0</td>\n",
       "      <td>10</td>\n",
       "      <td>0</td>\n",
       "    </tr>\n",
       "    <tr>\n",
       "      <th>1</th>\n",
       "      <td>8</td>\n",
       "      <td>12</td>\n",
       "      <td>0</td>\n",
       "    </tr>\n",
       "    <tr>\n",
       "      <th>2</th>\n",
       "      <td>8</td>\n",
       "      <td>0</td>\n",
       "      <td>11</td>\n",
       "    </tr>\n",
       "    <tr>\n",
       "      <th>3</th>\n",
       "      <td>1</td>\n",
       "      <td>11</td>\n",
       "      <td>0</td>\n",
       "    </tr>\n",
       "    <tr>\n",
       "      <th>4</th>\n",
       "      <td>1</td>\n",
       "      <td>11</td>\n",
       "      <td>0</td>\n",
       "    </tr>\n",
       "  </tbody>\n",
       "</table>\n",
       "</div>"
      ],
      "text/plain": [
       "  dependency edjefe edjefa\n",
       "0          0     10      0\n",
       "1          8     12      0\n",
       "2          8      0     11\n",
       "3          1     11      0\n",
       "4          1     11      0"
      ]
     },
     "execution_count": 586,
     "metadata": {},
     "output_type": "execute_result"
    }
   ],
   "source": [
    "train_df.select_dtypes(include = \"object\").head()"
   ]
  },
  {
   "cell_type": "markdown",
   "metadata": {},
   "source": [
    "Awesome, so it looks like that worked for all of the categories with yes and no's "
   ]
  },
  {
   "cell_type": "markdown",
   "metadata": {},
   "source": [
    "# Feature Creation: \n",
    "\n",
    "# going to create a few variables to practice in preperation for the final project \n",
    "\n",
    "feature #1, will be the percentage of dependents in the home.  Often pooer families have a large number of children\n",
    "\n",
    "feature #2 = home quality, will be an imput of floor, roof, running water, electricity, and if they burn or throw trash in river. "
   ]
  },
  {
   "cell_type": "code",
   "execution_count": 587,
   "metadata": {},
   "outputs": [],
   "source": [
    "train_df['child_per'] = train_df['hogar_nin'] / train_df['hogar_total']\n",
    "\n",
    "train_df[\"home_qual\"] = (train_df['abastaguadentro'] + train_df['public'] + train_df['planpri'] + train_df['coopele']\n",
    "                      + train_df['energcocinar2'] + train_df['energcocinar3'] + train_df['eviv1'] + train_df['eviv2']\n",
    "                      + train_df['eviv3']+ train_df['etecho1'] + train_df['etecho2']+ train_df['etecho3'])"
   ]
  },
  {
   "cell_type": "code",
   "execution_count": 588,
   "metadata": {},
   "outputs": [
    {
     "name": "stdout",
     "output_type": "stream",
     "text": [
      "count    9557.000000\n",
      "mean        0.301325\n",
      "std         0.241194\n",
      "min         0.000000\n",
      "25%         0.000000\n",
      "50%         0.333333\n",
      "75%         0.500000\n",
      "max         1.000000\n",
      "Name: child_per, dtype: float64\n",
      "count    9557.000000\n",
      "mean        4.908967\n",
      "std         0.328753\n",
      "min         2.000000\n",
      "25%         5.000000\n",
      "50%         5.000000\n",
      "75%         5.000000\n",
      "max         5.000000\n",
      "Name: home_qual, dtype: float64\n"
     ]
    }
   ],
   "source": [
    "print(train_df.child_per.describe())\n",
    "\n",
    "print(train_df.home_qual.describe())"
   ]
  },
  {
   "cell_type": "markdown",
   "metadata": {},
   "source": [
    "Just from looking at the descriptions of the features, I don't think they will be too highly correlated.  it looks like they are quite consistant across the data set, and have very narrow distributions. Will still include them below  but "
   ]
  },
  {
   "cell_type": "code",
   "execution_count": 589,
   "metadata": {},
   "outputs": [
    {
     "name": "stdout",
     "output_type": "stream",
     "text": [
      "most  positively correlated columns\n",
      "Target         1.000000\n",
      "meaneduc       0.335126\n",
      "cielorazo      0.304421\n",
      "escolari       0.302305\n",
      "SQBescolari    0.296577\n",
      "eviv3          0.294222\n",
      "epared3        0.292451\n",
      "pisomoscer     0.280284\n",
      "SQBmeaned      0.276518\n",
      "paredblolad    0.261274\n",
      "Name: Target, dtype: float64\n"
     ]
    }
   ],
   "source": [
    "numeric_features = train_df.select_dtypes(include=[np.number])\n",
    "\n",
    "corr = numeric_features.corr()\n",
    "\n",
    "# The first five features are the most positively correlated Target\n",
    "print(\"most  positively correlated columns\")\n",
    "print (corr['Target'].sort_values(ascending=False)[:10])\n"
   ]
  },
  {
   "cell_type": "markdown",
   "metadata": {},
   "source": [
    "yup, looks like the the features are not highly correlated "
   ]
  },
  {
   "cell_type": "markdown",
   "metadata": {},
   "source": [
    "# Model 1: Random Forest decision trees "
   ]
  },
  {
   "cell_type": "code",
   "execution_count": 590,
   "metadata": {},
   "outputs": [],
   "source": [
    "#splitting the data \n",
    "X_train, X_test, Y_train, Y_test,  = train_test_split(train_df, y, test_size = 0.2, random_state = 42)"
   ]
  },
  {
   "cell_type": "code",
   "execution_count": 591,
   "metadata": {},
   "outputs": [
    {
     "name": "stderr",
     "output_type": "stream",
     "text": [
      "C:\\Users\\13855\\Anaconda_Re_do\\lib\\site-packages\\sklearn\\model_selection\\_split.py:2053: FutureWarning: You should specify a value for 'cv' instead of relying on the default value. The default value will change from 3 to 5 in version 0.22.\n",
      "  warnings.warn(CV_WARNING, FutureWarning)\n"
     ]
    },
    {
     "name": "stdout",
     "output_type": "stream",
     "text": [
      "Fitting 3 folds for each of 1 candidates, totalling 3 fits\n"
     ]
    },
    {
     "name": "stderr",
     "output_type": "stream",
     "text": [
      "[Parallel(n_jobs=-1)]: Using backend LokyBackend with 8 concurrent workers.\n",
      "[Parallel(n_jobs=-1)]: Done   3 out of   3 | elapsed:    3.6s finished\n"
     ]
    },
    {
     "data": {
      "text/plain": [
       "GridSearchCV(cv='warn', error_score='raise-deprecating',\n",
       "       estimator=RandomForestClassifier(bootstrap=True, class_weight='balanced',\n",
       "            criterion='gini', max_depth=3, max_features='auto',\n",
       "            max_leaf_nodes=None, min_impurity_decrease=0.0,\n",
       "            min_impurity_split=None, min_samples_leaf=1,\n",
       "            min_samples_split=2, min_weight_fraction_leaf=0.0,\n",
       "            n_estimators='warn', n_jobs=-1, oob_score=False,\n",
       "            random_state=None, verbose=0, warm_start=False),\n",
       "       fit_params=None, iid='warn', n_jobs=-1,\n",
       "       param_grid={'n_estimators': [1000]}, pre_dispatch='2*n_jobs',\n",
       "       refit=True, return_train_score='warn', scoring='f1_macro',\n",
       "       verbose=2)"
      ]
     },
     "execution_count": 591,
     "metadata": {},
     "output_type": "execute_result"
    }
   ],
   "source": [
    "param_dictionary = {'n_estimators': [1000]}\n",
    "clf = RandomForestClassifier(n_jobs = -1, max_depth = 3, class_weight = 'balanced')\n",
    "gs = GridSearchCV(clf, param_dictionary, scoring = 'f1_macro',n_jobs=-1, verbose = 2)\n",
    "gs.fit(X_train, Y_train)"
   ]
  },
  {
   "cell_type": "code",
   "execution_count": 592,
   "metadata": {},
   "outputs": [
    {
     "name": "stderr",
     "output_type": "stream",
     "text": [
      "C:\\Users\\13855\\Anaconda_Re_do\\lib\\site-packages\\sklearn\\utils\\deprecation.py:125: FutureWarning: You are accessing a training score ('split0_train_score'), which will not be available by default any more in 0.21. If you need training scores, please set return_train_score=True\n",
      "  warnings.warn(*warn_args, **warn_kwargs)\n",
      "C:\\Users\\13855\\Anaconda_Re_do\\lib\\site-packages\\sklearn\\utils\\deprecation.py:125: FutureWarning: You are accessing a training score ('split1_train_score'), which will not be available by default any more in 0.21. If you need training scores, please set return_train_score=True\n",
      "  warnings.warn(*warn_args, **warn_kwargs)\n",
      "C:\\Users\\13855\\Anaconda_Re_do\\lib\\site-packages\\sklearn\\utils\\deprecation.py:125: FutureWarning: You are accessing a training score ('split2_train_score'), which will not be available by default any more in 0.21. If you need training scores, please set return_train_score=True\n",
      "  warnings.warn(*warn_args, **warn_kwargs)\n",
      "C:\\Users\\13855\\Anaconda_Re_do\\lib\\site-packages\\sklearn\\utils\\deprecation.py:125: FutureWarning: You are accessing a training score ('mean_train_score'), which will not be available by default any more in 0.21. If you need training scores, please set return_train_score=True\n",
      "  warnings.warn(*warn_args, **warn_kwargs)\n",
      "C:\\Users\\13855\\Anaconda_Re_do\\lib\\site-packages\\sklearn\\utils\\deprecation.py:125: FutureWarning: You are accessing a training score ('std_train_score'), which will not be available by default any more in 0.21. If you need training scores, please set return_train_score=True\n",
      "  warnings.warn(*warn_args, **warn_kwargs)\n"
     ]
    },
    {
     "data": {
      "text/plain": [
       "{'mean_fit_time': array([1.42186443]),\n",
       " 'std_fit_time': array([0.00542204]),\n",
       " 'mean_score_time': array([0.32332325]),\n",
       " 'std_score_time': array([0.00093012]),\n",
       " 'param_n_estimators': masked_array(data=[1000],\n",
       "              mask=[False],\n",
       "        fill_value='?',\n",
       "             dtype=object),\n",
       " 'params': [{'n_estimators': 1000}],\n",
       " 'split0_test_score': array([0.78915055]),\n",
       " 'split1_test_score': array([0.83921002]),\n",
       " 'split2_test_score': array([0.79532182]),\n",
       " 'mean_test_score': array([0.80789087]),\n",
       " 'std_test_score': array([0.02228668]),\n",
       " 'rank_test_score': array([1]),\n",
       " 'split0_train_score': array([0.81754143]),\n",
       " 'split1_train_score': array([0.83493447]),\n",
       " 'split2_train_score': array([0.81603786]),\n",
       " 'mean_train_score': array([0.82283792]),\n",
       " 'std_train_score': array([0.00857555])}"
      ]
     },
     "execution_count": 592,
     "metadata": {},
     "output_type": "execute_result"
    }
   ],
   "source": [
    "#looking at the results \n",
    "gs.cv_results_"
   ]
  },
  {
   "cell_type": "markdown",
   "metadata": {},
   "source": [
    "Hey that looks pretty good, it doesn't look like I'm over fitting, Similar scores for both training and testing data where sometimes the test is higher than the train and sometimes the train is higher than the test \n",
    "\n",
    "Looks like split number 2 gave me the best score for both training and testing, and my mean for my train was .84 and my mean for my test was .82, so feeling good about that. \n",
    "\n",
    "\n",
    "Will do a little hyper perameter tuning to see how this is doing "
   ]
  },
  {
   "cell_type": "code",
   "execution_count": 593,
   "metadata": {},
   "outputs": [],
   "source": [
    "rf = RandomForestClassifier()\n",
    "knn = KNeighborsClassifier()\n",
    "\n",
    "#models = [rf, knn]\n",
    "#for i in models:\n",
    "#    test_clf(i)\n",
    "\n",
    "#params = {'rf' : {'n_estimators' : np.arange(100,2000,100),\n",
    " #                 'criterion' : ['gini', 'entropy'],\n",
    "  #                'min_samples_split' : np.arange(2, 5, 1),\n",
    "   #               'max_features' : np.arange(10, 50, 10),\n",
    "    #              'max_depth' : np.arange(3, 10, 1)}\n",
    "     #    }"
   ]
  },
  {
   "cell_type": "code",
   "execution_count": 594,
   "metadata": {},
   "outputs": [],
   "source": [
    "\n",
    "#def tune_params(clf, params):\n",
    " #   clf_rs = KNeighborsClassifier(clf, param_distributions = params, n_iter = 20, scoring = 'f1_macro', verbose=1)\n",
    "  #  clf_rs.fit(X_train, Y_train)\n",
    "   # clf_rs_pred = clf_rs.predict(X_test)\n",
    "    #score = f1_score(y_test, clf_rs_pred, average = 'macro')\n",
    "    #print('F1 Score: %s \\n' %(score))\n",
    "    #print('Best Parameters:',clf_rs.best_params_)"
   ]
  },
  {
   "cell_type": "code",
   "execution_count": 595,
   "metadata": {},
   "outputs": [
    {
     "name": "stderr",
     "output_type": "stream",
     "text": [
      "C:\\Users\\13855\\Anaconda_Re_do\\lib\\site-packages\\sklearn\\ensemble\\forest.py:246: FutureWarning: The default value of n_estimators will change from 10 in version 0.20 to 100 in 0.22.\n",
      "  \"10 in version 0.20 to 100 in 0.22.\", FutureWarning)\n"
     ]
    }
   ],
   "source": [
    "#Train models and make predictions\n",
    "rf.fit(X_train, Y_train)\n",
    "rf_pred = rf.predict(X_test)\n",
    "#gnb.fit(X_train, Y_train)\n",
    "#gnb_pred = gnb.predict(X_test)"
   ]
  },
  {
   "cell_type": "code",
   "execution_count": 596,
   "metadata": {},
   "outputs": [
    {
     "name": "stdout",
     "output_type": "stream",
     "text": [
      "              precision    recall  f1-score   support\n",
      "\n",
      "           1       0.94      0.90      0.92       164\n",
      "           2       0.90      0.96      0.93       311\n",
      "           3       0.98      0.90      0.94       254\n",
      "           4       0.99      1.00      1.00      1183\n",
      "\n",
      "   micro avg       0.97      0.97      0.97      1912\n",
      "   macro avg       0.95      0.94      0.95      1912\n",
      "weighted avg       0.97      0.97      0.97      1912\n",
      "\n"
     ]
    }
   ],
   "source": [
    "rf_report = classification_report(Y_test, rf_pred)\n",
    "print(rf_report)"
   ]
  },
  {
   "cell_type": "markdown",
   "metadata": {},
   "source": [
    "Awesome, everything so far is indicating a well put together model "
   ]
  },
  {
   "cell_type": "markdown",
   "metadata": {},
   "source": [
    "# Second Model: K nearest neighbors "
   ]
  },
  {
   "cell_type": "code",
   "execution_count": 597,
   "metadata": {},
   "outputs": [],
   "source": [
    "data = train_df\n",
    "#X_train, X_test, y_train, y_test = train_test_split(data.data, data.target, test_size=0.20, random_state=42)\n",
    "#already ran this line of code and dont want to do it twice \n",
    "#using the default state 42 that is how it is on the sk learn gradient description \n"
   ]
  },
  {
   "cell_type": "code",
   "execution_count": 598,
   "metadata": {},
   "outputs": [
    {
     "name": "stderr",
     "output_type": "stream",
     "text": [
      "C:\\Users\\13855\\Anaconda_Re_do\\lib\\site-packages\\sklearn\\model_selection\\_split.py:2053: FutureWarning: You should specify a value for 'cv' instead of relying on the default value. The default value will change from 3 to 5 in version 0.22.\n",
      "  warnings.warn(CV_WARNING, FutureWarning)\n"
     ]
    },
    {
     "name": "stdout",
     "output_type": "stream",
     "text": [
      "Fitting 3 folds for each of 2 candidates, totalling 6 fits\n"
     ]
    },
    {
     "name": "stderr",
     "output_type": "stream",
     "text": [
      "[Parallel(n_jobs=-1)]: Using backend LokyBackend with 8 concurrent workers.\n",
      "[Parallel(n_jobs=-1)]: Done   3 out of   6 | elapsed:    2.5s remaining:    2.5s\n",
      "[Parallel(n_jobs=-1)]: Done   6 out of   6 | elapsed:    2.6s finished\n"
     ]
    },
    {
     "data": {
      "text/plain": [
       "GridSearchCV(cv='warn', error_score='raise-deprecating',\n",
       "       estimator=KNeighborsClassifier(algorithm='auto', leaf_size=30, metric='minkowski',\n",
       "           metric_params=None, n_jobs=None, n_neighbors=3, p=2,\n",
       "           weights='uniform'),\n",
       "       fit_params=None, iid='warn', n_jobs=-1,\n",
       "       param_grid={'algorithm': ['ball_tree', 'kd_tree']},\n",
       "       pre_dispatch='2*n_jobs', refit=True, return_train_score='warn',\n",
       "       scoring='f1_macro', verbose=2)"
      ]
     },
     "execution_count": 598,
     "metadata": {},
     "output_type": "execute_result"
    }
   ],
   "source": [
    "param_dictionary = {'n_estimators': [1000]}\n",
    "param_dictionary = {'algorithm': [\"ball_tree\", \"kd_tree\"]}\n",
    "clf = KNeighborsClassifier(n_neighbors = 3, )\n",
    "gs = GridSearchCV(clf, param_dictionary, scoring = 'f1_macro',n_jobs=-1, verbose = 2)\n",
    "gs.fit(X_train, Y_train)\n"
   ]
  },
  {
   "cell_type": "code",
   "execution_count": 599,
   "metadata": {},
   "outputs": [
    {
     "name": "stderr",
     "output_type": "stream",
     "text": [
      "C:\\Users\\13855\\Anaconda_Re_do\\lib\\site-packages\\sklearn\\utils\\deprecation.py:125: FutureWarning: You are accessing a training score ('split0_train_score'), which will not be available by default any more in 0.21. If you need training scores, please set return_train_score=True\n",
      "  warnings.warn(*warn_args, **warn_kwargs)\n",
      "C:\\Users\\13855\\Anaconda_Re_do\\lib\\site-packages\\sklearn\\utils\\deprecation.py:125: FutureWarning: You are accessing a training score ('split1_train_score'), which will not be available by default any more in 0.21. If you need training scores, please set return_train_score=True\n",
      "  warnings.warn(*warn_args, **warn_kwargs)\n",
      "C:\\Users\\13855\\Anaconda_Re_do\\lib\\site-packages\\sklearn\\utils\\deprecation.py:125: FutureWarning: You are accessing a training score ('split2_train_score'), which will not be available by default any more in 0.21. If you need training scores, please set return_train_score=True\n",
      "  warnings.warn(*warn_args, **warn_kwargs)\n",
      "C:\\Users\\13855\\Anaconda_Re_do\\lib\\site-packages\\sklearn\\utils\\deprecation.py:125: FutureWarning: You are accessing a training score ('mean_train_score'), which will not be available by default any more in 0.21. If you need training scores, please set return_train_score=True\n",
      "  warnings.warn(*warn_args, **warn_kwargs)\n",
      "C:\\Users\\13855\\Anaconda_Re_do\\lib\\site-packages\\sklearn\\utils\\deprecation.py:125: FutureWarning: You are accessing a training score ('std_train_score'), which will not be available by default any more in 0.21. If you need training scores, please set return_train_score=True\n",
      "  warnings.warn(*warn_args, **warn_kwargs)\n"
     ]
    },
    {
     "data": {
      "text/plain": [
       "{'mean_fit_time': array([0.11436033, 0.13763245]),\n",
       " 'std_fit_time': array([0.00893331, 0.01800665]),\n",
       " 'mean_score_time': array([0.38563553, 0.38762983]),\n",
       " 'std_score_time': array([0.04196949, 0.01143885]),\n",
       " 'param_algorithm': masked_array(data=['ball_tree', 'kd_tree'],\n",
       "              mask=[False, False],\n",
       "        fill_value='?',\n",
       "             dtype=object),\n",
       " 'params': [{'algorithm': 'ball_tree'}, {'algorithm': 'kd_tree'}],\n",
       " 'split0_test_score': array([0.33997622, 0.34059122]),\n",
       " 'split1_test_score': array([0.3465278, 0.3465278]),\n",
       " 'split2_test_score': array([0.35507905, 0.35507905]),\n",
       " 'mean_test_score': array([0.34719144, 0.34739657]),\n",
       " 'std_test_score': array([0.00618373, 0.00594663]),\n",
       " 'rank_test_score': array([2, 1]),\n",
       " 'split0_train_score': array([0.61755408, 0.61755408]),\n",
       " 'split1_train_score': array([0.60795061, 0.60795061]),\n",
       " 'split2_train_score': array([0.61527424, 0.61527424]),\n",
       " 'mean_train_score': array([0.61359298, 0.61359298]),\n",
       " 'std_train_score': array([0.00409688, 0.00409688])}"
      ]
     },
     "execution_count": 599,
     "metadata": {},
     "output_type": "execute_result"
    }
   ],
   "source": [
    "gs.cv_results_"
   ]
  },
  {
   "cell_type": "code",
   "execution_count": 600,
   "metadata": {},
   "outputs": [],
   "source": [
    "#params = {'knn' : {'n_estimators' : np.arange(100,2000,100),\n",
    " #                 'criterion' : ['gini', 'entropy'],\n",
    "  #                'min_samples_split' : np.arange(2, 5, 1),\n",
    "   #               'max_features' : np.arange(10, 50, 10),\n",
    "    #              'max_depth' : np.arange(3, 10, 1)}\n",
    "     #    }\n",
    "\n",
    "\n",
    "#def tune_params(clf, params):\n",
    " #   clf_rs = RandomizedSearchCV(clf, param_distributions = params, n_iter = 20, scoring = 'f1_macro', verbose=1)\n",
    "  #  clf_rs.fit(x_resampled, y_resampled)\n",
    "   # clf_rs_pred = clf_rs.predict(x_test)\n",
    "    #score = f1_score(y_test, clf_rs_pred, average = 'macro')\n",
    "    #print('F1 Score: %s \\n' %(score))\n",
    "    #print('Best Parameters:',clf_rs.best_params_)"
   ]
  },
  {
   "cell_type": "code",
   "execution_count": 601,
   "metadata": {},
   "outputs": [],
   "source": [
    "#Train models and make predictions\n",
    "knn.fit(X_train, Y_train)\n",
    "knn_pred = rf.predict(X_test)\n",
    "#gnb.fit(X_train, Y_train)\n",
    "#gnb_pred = gnb.predict(X_test"
   ]
  },
  {
   "cell_type": "code",
   "execution_count": 603,
   "metadata": {},
   "outputs": [
    {
     "name": "stdout",
     "output_type": "stream",
     "text": [
      "              precision    recall  f1-score   support\n",
      "\n",
      "           1       0.94      0.90      0.92       164\n",
      "           2       0.90      0.96      0.93       311\n",
      "           3       0.98      0.90      0.94       254\n",
      "           4       0.99      1.00      1.00      1183\n",
      "\n",
      "   micro avg       0.97      0.97      0.97      1912\n",
      "   macro avg       0.95      0.94      0.95      1912\n",
      "weighted avg       0.97      0.97      0.97      1912\n",
      "\n"
     ]
    }
   ],
   "source": [
    "knn_report = classification_report(Y_test, knn_pred)\n",
    "print(knn_report)"
   ]
  },
  {
   "cell_type": "markdown",
   "metadata": {},
   "source": [
    "That is a lot of over fitting right there, my train scores are in the 60s, but the test scores are in the 30s, which is not good at all, but it means that I have high varience in this model.  To address these problems, I would need to have more training data, less features or a less complexe model.  "
   ]
  },
  {
   "cell_type": "markdown",
   "metadata": {},
   "source": [
    "## Ok so going from here I am going to over sample my target data to see if I can get different results.  \n",
    "\n",
    "I wonder if part of the problem of the k nearest neighbors is the skewness of my outcome variable.  It is also entirely possible that the reason my random forest did so well, is it just said, put everything in Low Risk category 4. because, that was the dominant category by quite a long way.  If i was going to assign people to a value, I would be pretty good if I just said that the were all in that category, so I think this will be a good sanity check to make sure that I am on the right track. \n",
    "\n",
    "First step is to create a new training set with balanced data \n"
   ]
  },
  {
   "cell_type": "code",
   "execution_count": 604,
   "metadata": {},
   "outputs": [],
   "source": [
    "ros = RandomOverSampler(random_state=0)\n",
    "\n",
    "x_resampled, y_resampled = ros.fit_resample(X_train, Y_train)"
   ]
  },
  {
   "cell_type": "code",
   "execution_count": 605,
   "metadata": {},
   "outputs": [
    {
     "data": {
      "text/plain": [
       "Text(0.5, 0, 'Poverty Level')"
      ]
     },
     "execution_count": 605,
     "metadata": {},
     "output_type": "execute_result"
    },
    {
     "data": {
      "image/png": "[encoded data removed]",
      "text/plain": [
       "<Figure size 576x432 with 1 Axes>"
      ]
     },
     "metadata": {},
     "output_type": "display_data"
    }
   ],
   "source": [
    "f, ax = plt.subplots(figsize=(8, 6))\n",
    "sns.countplot(y_resampled)\n",
    "plt.title('Distribution of Resampled Poverty Classes')\n",
    "plt.xlabel('Poverty Level')\n"
   ]
  },
  {
   "cell_type": "markdown",
   "metadata": {},
   "source": [
    "Ok, now that the poverty levels are all equal, I am going to run my Random Forest and K Nearest Neighbors again to see what kind of difference it makes "
   ]
  },
  {
   "cell_type": "code",
   "execution_count": 606,
   "metadata": {},
   "outputs": [
    {
     "name": "stderr",
     "output_type": "stream",
     "text": [
      "C:\\Users\\13855\\Anaconda_Re_do\\lib\\site-packages\\sklearn\\model_selection\\_split.py:2053: FutureWarning: You should specify a value for 'cv' instead of relying on the default value. The default value will change from 3 to 5 in version 0.22.\n",
      "  warnings.warn(CV_WARNING, FutureWarning)\n"
     ]
    },
    {
     "name": "stdout",
     "output_type": "stream",
     "text": [
      "Fitting 3 folds for each of 1 candidates, totalling 3 fits\n"
     ]
    },
    {
     "name": "stderr",
     "output_type": "stream",
     "text": [
      "[Parallel(n_jobs=-1)]: Using backend LokyBackend with 8 concurrent workers.\n",
      "[Parallel(n_jobs=-1)]: Done   3 out of   3 | elapsed:    2.1s finished\n"
     ]
    },
    {
     "data": {
      "text/plain": [
       "GridSearchCV(cv='warn', error_score='raise-deprecating',\n",
       "       estimator=RandomForestClassifier(bootstrap=True, class_weight='balanced',\n",
       "            criterion='gini', max_depth=3, max_features='auto',\n",
       "            max_leaf_nodes=None, min_impurity_decrease=0.0,\n",
       "            min_impurity_split=None, min_samples_leaf=1,\n",
       "            min_samples_split=2, min_weight_fraction_leaf=0.0,\n",
       "            n_estimators='warn', n_jobs=-1, oob_score=False,\n",
       "            random_state=None, verbose=0, warm_start=False),\n",
       "       fit_params=None, iid='warn', n_jobs=-1,\n",
       "       param_grid={'n_estimators': [1000]}, pre_dispatch='2*n_jobs',\n",
       "       refit=True, return_train_score='warn', scoring='f1_macro',\n",
       "       verbose=2)"
      ]
     },
     "execution_count": 606,
     "metadata": {},
     "output_type": "execute_result"
    }
   ],
   "source": [
    "X_train, X_test, Y_train, Y_test,  = train_test_split(train_df, y, test_size = 0.2, random_state = 42)\n",
    "\n",
    "param_dictionary = {'n_estimators': [1000]}\n",
    "clf = RandomForestClassifier(n_jobs = -1, max_depth = 3, class_weight = 'balanced')\n",
    "gs = GridSearchCV(clf, param_dictionary, scoring = 'f1_macro',n_jobs=-1, verbose = 2)\n",
    "gs.fit(X_train, Y_train)"
   ]
  },
  {
   "cell_type": "code",
   "execution_count": 607,
   "metadata": {},
   "outputs": [
    {
     "name": "stderr",
     "output_type": "stream",
     "text": [
      "C:\\Users\\13855\\Anaconda_Re_do\\lib\\site-packages\\sklearn\\utils\\deprecation.py:125: FutureWarning: You are accessing a training score ('split0_train_score'), which will not be available by default any more in 0.21. If you need training scores, please set return_train_score=True\n",
      "  warnings.warn(*warn_args, **warn_kwargs)\n",
      "C:\\Users\\13855\\Anaconda_Re_do\\lib\\site-packages\\sklearn\\utils\\deprecation.py:125: FutureWarning: You are accessing a training score ('split1_train_score'), which will not be available by default any more in 0.21. If you need training scores, please set return_train_score=True\n",
      "  warnings.warn(*warn_args, **warn_kwargs)\n",
      "C:\\Users\\13855\\Anaconda_Re_do\\lib\\site-packages\\sklearn\\utils\\deprecation.py:125: FutureWarning: You are accessing a training score ('split2_train_score'), which will not be available by default any more in 0.21. If you need training scores, please set return_train_score=True\n",
      "  warnings.warn(*warn_args, **warn_kwargs)\n",
      "C:\\Users\\13855\\Anaconda_Re_do\\lib\\site-packages\\sklearn\\utils\\deprecation.py:125: FutureWarning: You are accessing a training score ('mean_train_score'), which will not be available by default any more in 0.21. If you need training scores, please set return_train_score=True\n",
      "  warnings.warn(*warn_args, **warn_kwargs)\n",
      "C:\\Users\\13855\\Anaconda_Re_do\\lib\\site-packages\\sklearn\\utils\\deprecation.py:125: FutureWarning: You are accessing a training score ('std_train_score'), which will not be available by default any more in 0.21. If you need training scores, please set return_train_score=True\n",
      "  warnings.warn(*warn_args, **warn_kwargs)\n"
     ]
    },
    {
     "data": {
      "text/plain": [
       "{'mean_fit_time': array([1.45710333]),\n",
       " 'std_fit_time': array([0.00990767]),\n",
       " 'mean_score_time': array([0.32662837]),\n",
       " 'std_score_time': array([0.00453295]),\n",
       " 'param_n_estimators': masked_array(data=[1000],\n",
       "              mask=[False],\n",
       "        fill_value='?',\n",
       "             dtype=object),\n",
       " 'params': [{'n_estimators': 1000}],\n",
       " 'split0_test_score': array([0.85512833]),\n",
       " 'split1_test_score': array([0.83476497]),\n",
       " 'split2_test_score': array([0.80386538]),\n",
       " 'mean_test_score': array([0.83126272]),\n",
       " 'std_test_score': array([0.02107467]),\n",
       " 'rank_test_score': array([1]),\n",
       " 'split0_train_score': array([0.86944464]),\n",
       " 'split1_train_score': array([0.82502431]),\n",
       " 'split2_train_score': array([0.82300715]),\n",
       " 'mean_train_score': array([0.8391587]),\n",
       " 'std_train_score': array([0.02143122])}"
      ]
     },
     "execution_count": 607,
     "metadata": {},
     "output_type": "execute_result"
    }
   ],
   "source": [
    "#looking at the results \n",
    "gs.cv_results_"
   ]
  },
  {
   "cell_type": "code",
   "execution_count": 608,
   "metadata": {},
   "outputs": [
    {
     "name": "stdout",
     "output_type": "stream",
     "text": [
      "----- ORIGINAL output -----\n",
      "\n",
      "              precision    recall  f1-score   support\n",
      "\n",
      "           1       0.94      0.90      0.92       164\n",
      "           2       0.90      0.96      0.93       311\n",
      "           3       0.98      0.90      0.94       254\n",
      "           4       0.99      1.00      1.00      1183\n",
      "\n",
      "   micro avg       0.97      0.97      0.97      1912\n",
      "   macro avg       0.95      0.94      0.95      1912\n",
      "weighted avg       0.97      0.97      0.97      1912\n",
      "\n",
      "----- RESAMPLING CLASSIFICATION REPORT -----\n",
      "\n",
      "              precision    recall  f1-score   support\n",
      "\n",
      "           1       0.96      0.93      0.95       164\n",
      "           2       0.93      0.95      0.94       311\n",
      "           3       0.96      0.89      0.93       254\n",
      "           4       0.98      1.00      0.99      1183\n",
      "\n",
      "   micro avg       0.97      0.97      0.97      1912\n",
      "   macro avg       0.96      0.94      0.95      1912\n",
      "weighted avg       0.97      0.97      0.97      1912\n",
      "\n"
     ]
    }
   ],
   "source": [
    "\n",
    "print('----- ORIGINAL output -----\\n')\n",
    "print(rf_report)\n",
    "\n",
    "rf_resampled = rf\n",
    "rf_resampled.fit(x_resampled, y_resampled)\n",
    "rf_resampled_pred = rf_resampled.predict(X_test)\n",
    "rf_resampled_report = classification_report(Y_test, rf_resampled_pred)\n",
    "print('----- RESAMPLING CLASSIFICATION REPORT -----\\n')\n",
    "print(rf_resampled_report)"
   ]
  },
  {
   "cell_type": "markdown",
   "metadata": {},
   "source": [
    "Awesome, this is really encouraging, it looks like even with the new sampled data, I got even better and my scores do not apear to be over fitting "
   ]
  },
  {
   "cell_type": "markdown",
   "metadata": {},
   "source": [
    "Going to visualize the most important columns, create a data frame and fill it "
   ]
  },
  {
   "cell_type": "code",
   "execution_count": 612,
   "metadata": {},
   "outputs": [
    {
     "ename": "AttributeError",
     "evalue": "'RandomForestClassifier' object has no attribute 'important_features'",
     "output_type": "error",
     "traceback": [
      "\u001b[1;31m---------------------------------------------------------------------------\u001b[0m",
      "\u001b[1;31mAttributeError\u001b[0m                            Traceback (most recent call last)",
      "\u001b[1;32m<ipython-input-612-0a1fba5dfdc7>\u001b[0m in \u001b[0;36m<module>\u001b[1;34m\u001b[0m\n\u001b[0;32m      1\u001b[0m \u001b[0mimportant_features\u001b[0m \u001b[1;33m=\u001b[0m \u001b[0mpd\u001b[0m\u001b[1;33m.\u001b[0m\u001b[0mDataFrame\u001b[0m\u001b[1;33m(\u001b[0m\u001b[0mcolumns\u001b[0m \u001b[1;33m=\u001b[0m \u001b[1;33m[\u001b[0m\u001b[1;34m'Variable'\u001b[0m\u001b[1;33m,\u001b[0m \u001b[1;34m'Coef'\u001b[0m\u001b[1;33m]\u001b[0m\u001b[1;33m)\u001b[0m\u001b[1;33m\u001b[0m\u001b[1;33m\u001b[0m\u001b[0m\n\u001b[0;32m      2\u001b[0m \u001b[0mimportant_features\u001b[0m\u001b[1;33m[\u001b[0m\u001b[1;34m'Variable'\u001b[0m\u001b[1;33m]\u001b[0m\u001b[1;33m\u001b[0m\u001b[1;33m\u001b[0m\u001b[0m\n\u001b[1;32m----> 3\u001b[1;33m \u001b[0mimportant_features\u001b[0m\u001b[1;33m[\u001b[0m\u001b[1;34m'Coef'\u001b[0m\u001b[1;33m]\u001b[0m \u001b[1;33m=\u001b[0m \u001b[0mabs\u001b[0m\u001b[1;33m(\u001b[0m\u001b[0mrf_resampled\u001b[0m\u001b[1;33m.\u001b[0m\u001b[0mimportant_features\u001b[0m\u001b[1;33m)\u001b[0m\u001b[1;33m\u001b[0m\u001b[1;33m\u001b[0m\u001b[0m\n\u001b[0m\u001b[0;32m      4\u001b[0m \u001b[0mimportant_features\u001b[0m\u001b[1;33m.\u001b[0m\u001b[0msort_values\u001b[0m\u001b[1;33m(\u001b[0m\u001b[0mby\u001b[0m \u001b[1;33m=\u001b[0m \u001b[1;34m'Coef'\u001b[0m\u001b[1;33m,\u001b[0m \u001b[0mascending\u001b[0m \u001b[1;33m=\u001b[0m \u001b[1;32mFalse\u001b[0m\u001b[1;33m,\u001b[0m \u001b[0minplace\u001b[0m \u001b[1;33m=\u001b[0m \u001b[1;32mTrue\u001b[0m\u001b[1;33m)\u001b[0m\u001b[1;33m\u001b[0m\u001b[1;33m\u001b[0m\u001b[0m\n\u001b[0;32m      5\u001b[0m \u001b[0mimportant_features\u001b[0m \u001b[1;33m=\u001b[0m \u001b[0mimportant_features\u001b[0m\u001b[1;33m[\u001b[0m\u001b[1;36m0\u001b[0m\u001b[1;33m:\u001b[0m\u001b[1;36m15\u001b[0m\u001b[1;33m]\u001b[0m\u001b[1;33m\u001b[0m\u001b[1;33m\u001b[0m\u001b[0m\n",
      "\u001b[1;31mAttributeError\u001b[0m: 'RandomForestClassifier' object has no attribute 'important_features'"
     ]
    }
   ],
   "source": [
    "important_features = pd.DataFrame(columns = ['Variable', 'Coef'])\n",
    "important_features['Variable'] \n",
    "important_features['Coef'] = abs(rf_resampled.important_features)\n",
    "important_features.sort_values(by = 'Coef', ascending = False, inplace = True)\n",
    "important_features = important_features[0:15]"
   ]
  }
 ],
 "metadata": {
  "kernelspec": {
   "display_name": "Python 3",
   "language": "python",
   "name": "python3"
  }
 },
 "nbformat": 4,
 "nbformat_minor": 2
}
