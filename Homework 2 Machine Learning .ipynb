{
 "cells": [
  {
   "cell_type": "markdown",
   "metadata": {},
   "source": [
    "## James Griffin\n",
    "## Kaggle Competition\n",
    "\n",
    "\n"
   ]
  },
  {
   "cell_type": "code",
   "execution_count": 84,
   "metadata": {},
   "outputs": [],
   "source": [
    "## Load a bunch of crap \n",
    "\n",
    "## found the virst batch on libraries on Tyler's notes \n",
    "from sklearn.datasets import load_boston\n",
    "from sklearn.preprocessing import PolynomialFeatures\n",
    "from sklearn.model_selection import learning_curve\n",
    "from sklearn.metrics import make_scorer\n",
    "from sklearn.metrics import mean_squared_error\n",
    "from sklearn import linear_model\n",
    "from sklearn.model_selection import train_test_split\n",
    "from sklearn.linear_model import ElasticNetCV\n",
    "from sklearn.preprocessing import LabelEncoder\n",
    "from sklearn.linear_model import SGDRegressor\n",
    "from sklearn.metrics import mean_squared_error\n",
    "from sklearn.preprocessing import StandardScaler\n",
    "from sklearn import linear_model\n",
    "from sklearn.model_selection import train_test_split\n",
    "\n",
    "#from online suggestions I was reading \n",
    "from string import ascii_letters\n",
    "import seaborn as sns\n",
    "import statsmodels.api as sm # for linear regression, found it on some article \n",
    "\n",
    "# to solve problems that I am encounterinbg\n",
    "import pandas as pd\n",
    "import seaborn as sns\n",
    "import matplotlib.pyplot as plt #plotting for visualization purposes of story telling \n",
    "import numpy as np\n"
   ]
  },
  {
   "cell_type": "code",
   "execution_count": 85,
   "metadata": {},
   "outputs": [],
   "source": [
    "data = pd.read_csv('C:/Users/13855/Desktop/213 Machine learning/train.csv')\n",
    "\n",
    "test = pd.read_csv('C:/Users/13855/Desktop/213 Machine learning/test.csv')"
   ]
  },
  {
   "cell_type": "code",
   "execution_count": 86,
   "metadata": {},
   "outputs": [
    {
     "name": "stdout",
     "output_type": "stream",
     "text": [
      "(1460, 81)\n",
      "(1459, 80)\n"
     ]
    },
    {
     "data": {
      "text/html": [
       "<div>\n",
       "<style scoped>\n",
       "    .dataframe tbody tr th:only-of-type {\n",
       "        vertical-align: middle;\n",
       "    }\n",
       "\n",
       "    .dataframe tbody tr th {\n",
       "        vertical-align: top;\n",
       "    }\n",
       "\n",
       "    .dataframe thead th {\n",
       "        text-align: right;\n",
       "    }\n",
       "</style>\n",
       "<table border=\"1\" class=\"dataframe\">\n",
       "  <thead>\n",
       "    <tr style=\"text-align: right;\">\n",
       "      <th></th>\n",
       "      <th>Id</th>\n",
       "      <th>MSSubClass</th>\n",
       "      <th>MSZoning</th>\n",
       "      <th>LotFrontage</th>\n",
       "      <th>LotArea</th>\n",
       "      <th>Street</th>\n",
       "      <th>Alley</th>\n",
       "      <th>LotShape</th>\n",
       "      <th>LandContour</th>\n",
       "      <th>Utilities</th>\n",
       "      <th>...</th>\n",
       "      <th>ScreenPorch</th>\n",
       "      <th>PoolArea</th>\n",
       "      <th>PoolQC</th>\n",
       "      <th>Fence</th>\n",
       "      <th>MiscFeature</th>\n",
       "      <th>MiscVal</th>\n",
       "      <th>MoSold</th>\n",
       "      <th>YrSold</th>\n",
       "      <th>SaleType</th>\n",
       "      <th>SaleCondition</th>\n",
       "    </tr>\n",
       "  </thead>\n",
       "  <tbody>\n",
       "    <tr>\n",
       "      <th>0</th>\n",
       "      <td>1461</td>\n",
       "      <td>20</td>\n",
       "      <td>RH</td>\n",
       "      <td>80.0</td>\n",
       "      <td>11622</td>\n",
       "      <td>Pave</td>\n",
       "      <td>NaN</td>\n",
       "      <td>Reg</td>\n",
       "      <td>Lvl</td>\n",
       "      <td>AllPub</td>\n",
       "      <td>...</td>\n",
       "      <td>120</td>\n",
       "      <td>0</td>\n",
       "      <td>NaN</td>\n",
       "      <td>MnPrv</td>\n",
       "      <td>NaN</td>\n",
       "      <td>0</td>\n",
       "      <td>6</td>\n",
       "      <td>2010</td>\n",
       "      <td>WD</td>\n",
       "      <td>Normal</td>\n",
       "    </tr>\n",
       "    <tr>\n",
       "      <th>1</th>\n",
       "      <td>1462</td>\n",
       "      <td>20</td>\n",
       "      <td>RL</td>\n",
       "      <td>81.0</td>\n",
       "      <td>14267</td>\n",
       "      <td>Pave</td>\n",
       "      <td>NaN</td>\n",
       "      <td>IR1</td>\n",
       "      <td>Lvl</td>\n",
       "      <td>AllPub</td>\n",
       "      <td>...</td>\n",
       "      <td>0</td>\n",
       "      <td>0</td>\n",
       "      <td>NaN</td>\n",
       "      <td>NaN</td>\n",
       "      <td>Gar2</td>\n",
       "      <td>12500</td>\n",
       "      <td>6</td>\n",
       "      <td>2010</td>\n",
       "      <td>WD</td>\n",
       "      <td>Normal</td>\n",
       "    </tr>\n",
       "    <tr>\n",
       "      <th>2</th>\n",
       "      <td>1463</td>\n",
       "      <td>60</td>\n",
       "      <td>RL</td>\n",
       "      <td>74.0</td>\n",
       "      <td>13830</td>\n",
       "      <td>Pave</td>\n",
       "      <td>NaN</td>\n",
       "      <td>IR1</td>\n",
       "      <td>Lvl</td>\n",
       "      <td>AllPub</td>\n",
       "      <td>...</td>\n",
       "      <td>0</td>\n",
       "      <td>0</td>\n",
       "      <td>NaN</td>\n",
       "      <td>MnPrv</td>\n",
       "      <td>NaN</td>\n",
       "      <td>0</td>\n",
       "      <td>3</td>\n",
       "      <td>2010</td>\n",
       "      <td>WD</td>\n",
       "      <td>Normal</td>\n",
       "    </tr>\n",
       "    <tr>\n",
       "      <th>3</th>\n",
       "      <td>1464</td>\n",
       "      <td>60</td>\n",
       "      <td>RL</td>\n",
       "      <td>78.0</td>\n",
       "      <td>9978</td>\n",
       "      <td>Pave</td>\n",
       "      <td>NaN</td>\n",
       "      <td>IR1</td>\n",
       "      <td>Lvl</td>\n",
       "      <td>AllPub</td>\n",
       "      <td>...</td>\n",
       "      <td>0</td>\n",
       "      <td>0</td>\n",
       "      <td>NaN</td>\n",
       "      <td>NaN</td>\n",
       "      <td>NaN</td>\n",
       "      <td>0</td>\n",
       "      <td>6</td>\n",
       "      <td>2010</td>\n",
       "      <td>WD</td>\n",
       "      <td>Normal</td>\n",
       "    </tr>\n",
       "    <tr>\n",
       "      <th>4</th>\n",
       "      <td>1465</td>\n",
       "      <td>120</td>\n",
       "      <td>RL</td>\n",
       "      <td>43.0</td>\n",
       "      <td>5005</td>\n",
       "      <td>Pave</td>\n",
       "      <td>NaN</td>\n",
       "      <td>IR1</td>\n",
       "      <td>HLS</td>\n",
       "      <td>AllPub</td>\n",
       "      <td>...</td>\n",
       "      <td>144</td>\n",
       "      <td>0</td>\n",
       "      <td>NaN</td>\n",
       "      <td>NaN</td>\n",
       "      <td>NaN</td>\n",
       "      <td>0</td>\n",
       "      <td>1</td>\n",
       "      <td>2010</td>\n",
       "      <td>WD</td>\n",
       "      <td>Normal</td>\n",
       "    </tr>\n",
       "  </tbody>\n",
       "</table>\n",
       "<p>5 rows × 80 columns</p>\n",
       "</div>"
      ],
      "text/plain": [
       "     Id  MSSubClass MSZoning  LotFrontage  LotArea Street Alley LotShape  \\\n",
       "0  1461          20       RH         80.0    11622   Pave   NaN      Reg   \n",
       "1  1462          20       RL         81.0    14267   Pave   NaN      IR1   \n",
       "2  1463          60       RL         74.0    13830   Pave   NaN      IR1   \n",
       "3  1464          60       RL         78.0     9978   Pave   NaN      IR1   \n",
       "4  1465         120       RL         43.0     5005   Pave   NaN      IR1   \n",
       "\n",
       "  LandContour Utilities      ...       ScreenPorch PoolArea PoolQC  Fence  \\\n",
       "0         Lvl    AllPub      ...               120        0    NaN  MnPrv   \n",
       "1         Lvl    AllPub      ...                 0        0    NaN    NaN   \n",
       "2         Lvl    AllPub      ...                 0        0    NaN  MnPrv   \n",
       "3         Lvl    AllPub      ...                 0        0    NaN    NaN   \n",
       "4         HLS    AllPub      ...               144        0    NaN    NaN   \n",
       "\n",
       "  MiscFeature MiscVal MoSold  YrSold  SaleType  SaleCondition  \n",
       "0         NaN       0      6    2010        WD         Normal  \n",
       "1        Gar2   12500      6    2010        WD         Normal  \n",
       "2         NaN       0      3    2010        WD         Normal  \n",
       "3         NaN       0      6    2010        WD         Normal  \n",
       "4         NaN       0      1    2010        WD         Normal  \n",
       "\n",
       "[5 rows x 80 columns]"
      ]
     },
     "execution_count": 86,
     "metadata": {},
     "output_type": "execute_result"
    }
   ],
   "source": [
    "print(data.shape)\n",
    "\n",
    "print(test.shape)\n",
    "\n",
    "## HHmm im missing a column in my test data set that my train data set is not missing \n",
    "\n",
    "test.head()"
   ]
  },
  {
   "cell_type": "code",
   "execution_count": 87,
   "metadata": {},
   "outputs": [
    {
     "data": {
      "text/html": [
       "<div>\n",
       "<style scoped>\n",
       "    .dataframe tbody tr th:only-of-type {\n",
       "        vertical-align: middle;\n",
       "    }\n",
       "\n",
       "    .dataframe tbody tr th {\n",
       "        vertical-align: top;\n",
       "    }\n",
       "\n",
       "    .dataframe thead th {\n",
       "        text-align: right;\n",
       "    }\n",
       "</style>\n",
       "<table border=\"1\" class=\"dataframe\">\n",
       "  <thead>\n",
       "    <tr style=\"text-align: right;\">\n",
       "      <th></th>\n",
       "      <th>Id</th>\n",
       "      <th>MSSubClass</th>\n",
       "      <th>MSZoning</th>\n",
       "      <th>LotFrontage</th>\n",
       "      <th>LotArea</th>\n",
       "      <th>Street</th>\n",
       "      <th>Alley</th>\n",
       "      <th>LotShape</th>\n",
       "      <th>LandContour</th>\n",
       "      <th>Utilities</th>\n",
       "      <th>...</th>\n",
       "      <th>PoolArea</th>\n",
       "      <th>PoolQC</th>\n",
       "      <th>Fence</th>\n",
       "      <th>MiscFeature</th>\n",
       "      <th>MiscVal</th>\n",
       "      <th>MoSold</th>\n",
       "      <th>YrSold</th>\n",
       "      <th>SaleType</th>\n",
       "      <th>SaleCondition</th>\n",
       "      <th>SalePrice</th>\n",
       "    </tr>\n",
       "  </thead>\n",
       "  <tbody>\n",
       "    <tr>\n",
       "      <th>0</th>\n",
       "      <td>1</td>\n",
       "      <td>60</td>\n",
       "      <td>RL</td>\n",
       "      <td>65.0</td>\n",
       "      <td>8450</td>\n",
       "      <td>Pave</td>\n",
       "      <td>NaN</td>\n",
       "      <td>Reg</td>\n",
       "      <td>Lvl</td>\n",
       "      <td>AllPub</td>\n",
       "      <td>...</td>\n",
       "      <td>0</td>\n",
       "      <td>NaN</td>\n",
       "      <td>NaN</td>\n",
       "      <td>NaN</td>\n",
       "      <td>0</td>\n",
       "      <td>2</td>\n",
       "      <td>2008</td>\n",
       "      <td>WD</td>\n",
       "      <td>Normal</td>\n",
       "      <td>208500</td>\n",
       "    </tr>\n",
       "    <tr>\n",
       "      <th>1</th>\n",
       "      <td>2</td>\n",
       "      <td>20</td>\n",
       "      <td>RL</td>\n",
       "      <td>80.0</td>\n",
       "      <td>9600</td>\n",
       "      <td>Pave</td>\n",
       "      <td>NaN</td>\n",
       "      <td>Reg</td>\n",
       "      <td>Lvl</td>\n",
       "      <td>AllPub</td>\n",
       "      <td>...</td>\n",
       "      <td>0</td>\n",
       "      <td>NaN</td>\n",
       "      <td>NaN</td>\n",
       "      <td>NaN</td>\n",
       "      <td>0</td>\n",
       "      <td>5</td>\n",
       "      <td>2007</td>\n",
       "      <td>WD</td>\n",
       "      <td>Normal</td>\n",
       "      <td>181500</td>\n",
       "    </tr>\n",
       "    <tr>\n",
       "      <th>2</th>\n",
       "      <td>3</td>\n",
       "      <td>60</td>\n",
       "      <td>RL</td>\n",
       "      <td>68.0</td>\n",
       "      <td>11250</td>\n",
       "      <td>Pave</td>\n",
       "      <td>NaN</td>\n",
       "      <td>IR1</td>\n",
       "      <td>Lvl</td>\n",
       "      <td>AllPub</td>\n",
       "      <td>...</td>\n",
       "      <td>0</td>\n",
       "      <td>NaN</td>\n",
       "      <td>NaN</td>\n",
       "      <td>NaN</td>\n",
       "      <td>0</td>\n",
       "      <td>9</td>\n",
       "      <td>2008</td>\n",
       "      <td>WD</td>\n",
       "      <td>Normal</td>\n",
       "      <td>223500</td>\n",
       "    </tr>\n",
       "    <tr>\n",
       "      <th>3</th>\n",
       "      <td>4</td>\n",
       "      <td>70</td>\n",
       "      <td>RL</td>\n",
       "      <td>60.0</td>\n",
       "      <td>9550</td>\n",
       "      <td>Pave</td>\n",
       "      <td>NaN</td>\n",
       "      <td>IR1</td>\n",
       "      <td>Lvl</td>\n",
       "      <td>AllPub</td>\n",
       "      <td>...</td>\n",
       "      <td>0</td>\n",
       "      <td>NaN</td>\n",
       "      <td>NaN</td>\n",
       "      <td>NaN</td>\n",
       "      <td>0</td>\n",
       "      <td>2</td>\n",
       "      <td>2006</td>\n",
       "      <td>WD</td>\n",
       "      <td>Abnorml</td>\n",
       "      <td>140000</td>\n",
       "    </tr>\n",
       "    <tr>\n",
       "      <th>4</th>\n",
       "      <td>5</td>\n",
       "      <td>60</td>\n",
       "      <td>RL</td>\n",
       "      <td>84.0</td>\n",
       "      <td>14260</td>\n",
       "      <td>Pave</td>\n",
       "      <td>NaN</td>\n",
       "      <td>IR1</td>\n",
       "      <td>Lvl</td>\n",
       "      <td>AllPub</td>\n",
       "      <td>...</td>\n",
       "      <td>0</td>\n",
       "      <td>NaN</td>\n",
       "      <td>NaN</td>\n",
       "      <td>NaN</td>\n",
       "      <td>0</td>\n",
       "      <td>12</td>\n",
       "      <td>2008</td>\n",
       "      <td>WD</td>\n",
       "      <td>Normal</td>\n",
       "      <td>250000</td>\n",
       "    </tr>\n",
       "  </tbody>\n",
       "</table>\n",
       "<p>5 rows × 81 columns</p>\n",
       "</div>"
      ],
      "text/plain": [
       "   Id  MSSubClass MSZoning  LotFrontage  LotArea Street Alley LotShape  \\\n",
       "0   1          60       RL         65.0     8450   Pave   NaN      Reg   \n",
       "1   2          20       RL         80.0     9600   Pave   NaN      Reg   \n",
       "2   3          60       RL         68.0    11250   Pave   NaN      IR1   \n",
       "3   4          70       RL         60.0     9550   Pave   NaN      IR1   \n",
       "4   5          60       RL         84.0    14260   Pave   NaN      IR1   \n",
       "\n",
       "  LandContour Utilities    ...     PoolArea PoolQC Fence MiscFeature MiscVal  \\\n",
       "0         Lvl    AllPub    ...            0    NaN   NaN         NaN       0   \n",
       "1         Lvl    AllPub    ...            0    NaN   NaN         NaN       0   \n",
       "2         Lvl    AllPub    ...            0    NaN   NaN         NaN       0   \n",
       "3         Lvl    AllPub    ...            0    NaN   NaN         NaN       0   \n",
       "4         Lvl    AllPub    ...            0    NaN   NaN         NaN       0   \n",
       "\n",
       "  MoSold YrSold  SaleType  SaleCondition  SalePrice  \n",
       "0      2   2008        WD         Normal     208500  \n",
       "1      5   2007        WD         Normal     181500  \n",
       "2      9   2008        WD         Normal     223500  \n",
       "3      2   2006        WD        Abnorml     140000  \n",
       "4     12   2008        WD         Normal     250000  \n",
       "\n",
       "[5 rows x 81 columns]"
      ]
     },
     "execution_count": 87,
     "metadata": {},
     "output_type": "execute_result"
    }
   ],
   "source": [
    "'''Hey nelson, hope your having a good day, here is a joke: \n",
    "\n",
    "hey nelson, I have a girlfriend \n",
    " you: oh yeah, whats she like, \n",
    "me: She's like the square root of -100, a perfect 10 yet perfectly imaginary \n",
    " lolololol \n",
    "'''\n",
    "data.head(5)\n",
    "\n",
    "## thoughts -- test data set does not include final sales price, and there are ALOT \n",
    "# of categorical columns that imma have to deal with some how \n"
   ]
  },
  {
   "cell_type": "code",
   "execution_count": 88,
   "metadata": {},
   "outputs": [
    {
     "data": {
      "text/plain": [
       "Id                  0\n",
       "MSSubClass          0\n",
       "MSZoning            0\n",
       "LotFrontage       259\n",
       "LotArea             0\n",
       "Street              0\n",
       "Alley            1369\n",
       "LotShape            0\n",
       "LandContour         0\n",
       "Utilities           0\n",
       "LotConfig           0\n",
       "LandSlope           0\n",
       "Neighborhood        0\n",
       "Condition1          0\n",
       "Condition2          0\n",
       "BldgType            0\n",
       "HouseStyle          0\n",
       "OverallQual         0\n",
       "OverallCond         0\n",
       "YearBuilt           0\n",
       "YearRemodAdd        0\n",
       "RoofStyle           0\n",
       "RoofMatl            0\n",
       "Exterior1st         0\n",
       "Exterior2nd         0\n",
       "MasVnrType          8\n",
       "MasVnrArea          8\n",
       "ExterQual           0\n",
       "ExterCond           0\n",
       "Foundation          0\n",
       "                 ... \n",
       "BedroomAbvGr        0\n",
       "KitchenAbvGr        0\n",
       "KitchenQual         0\n",
       "TotRmsAbvGrd        0\n",
       "Functional          0\n",
       "Fireplaces          0\n",
       "FireplaceQu       690\n",
       "GarageType         81\n",
       "GarageYrBlt        81\n",
       "GarageFinish       81\n",
       "GarageCars          0\n",
       "GarageArea          0\n",
       "GarageQual         81\n",
       "GarageCond         81\n",
       "PavedDrive          0\n",
       "WoodDeckSF          0\n",
       "OpenPorchSF         0\n",
       "EnclosedPorch       0\n",
       "3SsnPorch           0\n",
       "ScreenPorch         0\n",
       "PoolArea            0\n",
       "PoolQC           1453\n",
       "Fence            1179\n",
       "MiscFeature      1406\n",
       "MiscVal             0\n",
       "MoSold              0\n",
       "YrSold              0\n",
       "SaleType            0\n",
       "SaleCondition       0\n",
       "SalePrice           0\n",
       "Length: 81, dtype: int64"
      ]
     },
     "execution_count": 88,
     "metadata": {},
     "output_type": "execute_result"
    }
   ],
   "source": [
    "data.isnull().sum()\n",
    "\n",
    "## lots of missing values in alley... does that mean that they dont have data or it isnt on an alley? \n",
    "## same with pool, fense and misc features "
   ]
  },
  {
   "cell_type": "code",
   "execution_count": 89,
   "metadata": {},
   "outputs": [
    {
     "name": "stdout",
     "output_type": "stream",
     "text": [
      "                 0\n",
      "PoolQC        1453\n",
      "MiscFeature   1406\n",
      "Alley         1369\n",
      "Fence         1179\n",
      "FireplaceQu    690\n",
      "LotFrontage    259\n",
      "GarageCond      81\n",
      "GarageType      81\n",
      "GarageYrBlt     81\n",
      "GarageFinish    81\n",
      "GarageQual      81\n",
      "BsmtExposure    38\n",
      "BsmtFinType2    38\n",
      "BsmtFinType1    37\n",
      "BsmtCond        37\n",
      "BsmtQual        37\n",
      "MasVnrArea       8\n",
      "MasVnrType       8\n",
      "Electrical       1\n",
      "Utilities        0\n",
      "YearRemodAdd     0\n",
      "MSSubClass       0\n",
      "Foundation       0\n",
      "ExterCond        0\n",
      "ExterQual        0\n"
     ]
    }
   ],
   "source": [
    "## trying to see which columns which have nulls \n",
    "\n",
    "nulls = pd.DataFrame(data.isnull().sum().sort_values(ascending=False)[:25])\n",
    "\n",
    "print(nulls)"
   ]
  },
  {
   "cell_type": "code",
   "execution_count": 90,
   "metadata": {},
   "outputs": [
    {
     "data": {
      "text/plain": [
       "Id                 int64\n",
       "MSSubClass         int64\n",
       "MSZoning          object\n",
       "LotFrontage      float64\n",
       "LotArea            int64\n",
       "Street            object\n",
       "Alley             object\n",
       "LotShape          object\n",
       "LandContour       object\n",
       "Utilities         object\n",
       "LotConfig         object\n",
       "LandSlope         object\n",
       "Neighborhood      object\n",
       "Condition1        object\n",
       "Condition2        object\n",
       "BldgType          object\n",
       "HouseStyle        object\n",
       "OverallQual        int64\n",
       "OverallCond        int64\n",
       "YearBuilt          int64\n",
       "YearRemodAdd       int64\n",
       "RoofStyle         object\n",
       "RoofMatl          object\n",
       "Exterior1st       object\n",
       "Exterior2nd       object\n",
       "MasVnrType        object\n",
       "MasVnrArea       float64\n",
       "ExterQual         object\n",
       "ExterCond         object\n",
       "Foundation        object\n",
       "                  ...   \n",
       "BedroomAbvGr       int64\n",
       "KitchenAbvGr       int64\n",
       "KitchenQual       object\n",
       "TotRmsAbvGrd       int64\n",
       "Functional        object\n",
       "Fireplaces         int64\n",
       "FireplaceQu       object\n",
       "GarageType        object\n",
       "GarageYrBlt      float64\n",
       "GarageFinish      object\n",
       "GarageCars         int64\n",
       "GarageArea         int64\n",
       "GarageQual        object\n",
       "GarageCond        object\n",
       "PavedDrive        object\n",
       "WoodDeckSF         int64\n",
       "OpenPorchSF        int64\n",
       "EnclosedPorch      int64\n",
       "3SsnPorch          int64\n",
       "ScreenPorch        int64\n",
       "PoolArea           int64\n",
       "PoolQC            object\n",
       "Fence             object\n",
       "MiscFeature       object\n",
       "MiscVal            int64\n",
       "MoSold             int64\n",
       "YrSold             int64\n",
       "SaleType          object\n",
       "SaleCondition     object\n",
       "SalePrice          int64\n",
       "Length: 81, dtype: object"
      ]
     },
     "execution_count": 90,
     "metadata": {},
     "output_type": "execute_result"
    }
   ],
   "source": [
    "data.dtypes"
   ]
  },
  {
   "cell_type": "code",
   "execution_count": 91,
   "metadata": {},
   "outputs": [
    {
     "data": {
      "text/html": [
       "<div>\n",
       "<style scoped>\n",
       "    .dataframe tbody tr th:only-of-type {\n",
       "        vertical-align: middle;\n",
       "    }\n",
       "\n",
       "    .dataframe tbody tr th {\n",
       "        vertical-align: top;\n",
       "    }\n",
       "\n",
       "    .dataframe thead th {\n",
       "        text-align: right;\n",
       "    }\n",
       "</style>\n",
       "<table border=\"1\" class=\"dataframe\">\n",
       "  <thead>\n",
       "    <tr style=\"text-align: right;\">\n",
       "      <th></th>\n",
       "      <th>MSZoning</th>\n",
       "      <th>Street</th>\n",
       "      <th>Alley</th>\n",
       "      <th>LotShape</th>\n",
       "      <th>LandContour</th>\n",
       "      <th>Utilities</th>\n",
       "      <th>LotConfig</th>\n",
       "      <th>LandSlope</th>\n",
       "      <th>Neighborhood</th>\n",
       "      <th>Condition1</th>\n",
       "      <th>...</th>\n",
       "      <th>GarageType</th>\n",
       "      <th>GarageFinish</th>\n",
       "      <th>GarageQual</th>\n",
       "      <th>GarageCond</th>\n",
       "      <th>PavedDrive</th>\n",
       "      <th>PoolQC</th>\n",
       "      <th>Fence</th>\n",
       "      <th>MiscFeature</th>\n",
       "      <th>SaleType</th>\n",
       "      <th>SaleCondition</th>\n",
       "    </tr>\n",
       "  </thead>\n",
       "  <tbody>\n",
       "    <tr>\n",
       "      <th>0</th>\n",
       "      <td>RL</td>\n",
       "      <td>Pave</td>\n",
       "      <td>NaN</td>\n",
       "      <td>Reg</td>\n",
       "      <td>Lvl</td>\n",
       "      <td>AllPub</td>\n",
       "      <td>Inside</td>\n",
       "      <td>Gtl</td>\n",
       "      <td>CollgCr</td>\n",
       "      <td>Norm</td>\n",
       "      <td>...</td>\n",
       "      <td>Attchd</td>\n",
       "      <td>RFn</td>\n",
       "      <td>TA</td>\n",
       "      <td>TA</td>\n",
       "      <td>Y</td>\n",
       "      <td>NaN</td>\n",
       "      <td>NaN</td>\n",
       "      <td>NaN</td>\n",
       "      <td>WD</td>\n",
       "      <td>Normal</td>\n",
       "    </tr>\n",
       "    <tr>\n",
       "      <th>1</th>\n",
       "      <td>RL</td>\n",
       "      <td>Pave</td>\n",
       "      <td>NaN</td>\n",
       "      <td>Reg</td>\n",
       "      <td>Lvl</td>\n",
       "      <td>AllPub</td>\n",
       "      <td>FR2</td>\n",
       "      <td>Gtl</td>\n",
       "      <td>Veenker</td>\n",
       "      <td>Feedr</td>\n",
       "      <td>...</td>\n",
       "      <td>Attchd</td>\n",
       "      <td>RFn</td>\n",
       "      <td>TA</td>\n",
       "      <td>TA</td>\n",
       "      <td>Y</td>\n",
       "      <td>NaN</td>\n",
       "      <td>NaN</td>\n",
       "      <td>NaN</td>\n",
       "      <td>WD</td>\n",
       "      <td>Normal</td>\n",
       "    </tr>\n",
       "    <tr>\n",
       "      <th>2</th>\n",
       "      <td>RL</td>\n",
       "      <td>Pave</td>\n",
       "      <td>NaN</td>\n",
       "      <td>IR1</td>\n",
       "      <td>Lvl</td>\n",
       "      <td>AllPub</td>\n",
       "      <td>Inside</td>\n",
       "      <td>Gtl</td>\n",
       "      <td>CollgCr</td>\n",
       "      <td>Norm</td>\n",
       "      <td>...</td>\n",
       "      <td>Attchd</td>\n",
       "      <td>RFn</td>\n",
       "      <td>TA</td>\n",
       "      <td>TA</td>\n",
       "      <td>Y</td>\n",
       "      <td>NaN</td>\n",
       "      <td>NaN</td>\n",
       "      <td>NaN</td>\n",
       "      <td>WD</td>\n",
       "      <td>Normal</td>\n",
       "    </tr>\n",
       "    <tr>\n",
       "      <th>3</th>\n",
       "      <td>RL</td>\n",
       "      <td>Pave</td>\n",
       "      <td>NaN</td>\n",
       "      <td>IR1</td>\n",
       "      <td>Lvl</td>\n",
       "      <td>AllPub</td>\n",
       "      <td>Corner</td>\n",
       "      <td>Gtl</td>\n",
       "      <td>Crawfor</td>\n",
       "      <td>Norm</td>\n",
       "      <td>...</td>\n",
       "      <td>Detchd</td>\n",
       "      <td>Unf</td>\n",
       "      <td>TA</td>\n",
       "      <td>TA</td>\n",
       "      <td>Y</td>\n",
       "      <td>NaN</td>\n",
       "      <td>NaN</td>\n",
       "      <td>NaN</td>\n",
       "      <td>WD</td>\n",
       "      <td>Abnorml</td>\n",
       "    </tr>\n",
       "    <tr>\n",
       "      <th>4</th>\n",
       "      <td>RL</td>\n",
       "      <td>Pave</td>\n",
       "      <td>NaN</td>\n",
       "      <td>IR1</td>\n",
       "      <td>Lvl</td>\n",
       "      <td>AllPub</td>\n",
       "      <td>FR2</td>\n",
       "      <td>Gtl</td>\n",
       "      <td>NoRidge</td>\n",
       "      <td>Norm</td>\n",
       "      <td>...</td>\n",
       "      <td>Attchd</td>\n",
       "      <td>RFn</td>\n",
       "      <td>TA</td>\n",
       "      <td>TA</td>\n",
       "      <td>Y</td>\n",
       "      <td>NaN</td>\n",
       "      <td>NaN</td>\n",
       "      <td>NaN</td>\n",
       "      <td>WD</td>\n",
       "      <td>Normal</td>\n",
       "    </tr>\n",
       "  </tbody>\n",
       "</table>\n",
       "<p>5 rows × 43 columns</p>\n",
       "</div>"
      ],
      "text/plain": [
       "  MSZoning Street Alley LotShape LandContour Utilities LotConfig LandSlope  \\\n",
       "0       RL   Pave   NaN      Reg         Lvl    AllPub    Inside       Gtl   \n",
       "1       RL   Pave   NaN      Reg         Lvl    AllPub       FR2       Gtl   \n",
       "2       RL   Pave   NaN      IR1         Lvl    AllPub    Inside       Gtl   \n",
       "3       RL   Pave   NaN      IR1         Lvl    AllPub    Corner       Gtl   \n",
       "4       RL   Pave   NaN      IR1         Lvl    AllPub       FR2       Gtl   \n",
       "\n",
       "  Neighborhood Condition1      ...      GarageType GarageFinish GarageQual  \\\n",
       "0      CollgCr       Norm      ...          Attchd          RFn         TA   \n",
       "1      Veenker      Feedr      ...          Attchd          RFn         TA   \n",
       "2      CollgCr       Norm      ...          Attchd          RFn         TA   \n",
       "3      Crawfor       Norm      ...          Detchd          Unf         TA   \n",
       "4      NoRidge       Norm      ...          Attchd          RFn         TA   \n",
       "\n",
       "  GarageCond PavedDrive PoolQC Fence MiscFeature SaleType SaleCondition  \n",
       "0         TA          Y    NaN   NaN         NaN       WD        Normal  \n",
       "1         TA          Y    NaN   NaN         NaN       WD        Normal  \n",
       "2         TA          Y    NaN   NaN         NaN       WD        Normal  \n",
       "3         TA          Y    NaN   NaN         NaN       WD       Abnorml  \n",
       "4         TA          Y    NaN   NaN         NaN       WD        Normal  \n",
       "\n",
       "[5 rows x 43 columns]"
      ]
     },
     "execution_count": 91,
     "metadata": {},
     "output_type": "execute_result"
    }
   ],
   "source": [
    "## just trying to see more about what type of data I am \n",
    "#working with \n",
    "\n",
    "obj_data = data.select_dtypes(include =['object']).copy()\n",
    "\n",
    "obj_data.head()\n",
    "\n",
    "#so 43 of my variables are objects, \n",
    "\n"
   ]
  },
  {
   "cell_type": "code",
   "execution_count": 92,
   "metadata": {},
   "outputs": [],
   "source": [
    "#obj_data[obj_data.isnull().any(axis = 1)]"
   ]
  },
  {
   "cell_type": "code",
   "execution_count": 93,
   "metadata": {},
   "outputs": [
    {
     "data": {
      "text/plain": [
       "RL         1151\n",
       "RM          218\n",
       "FV           65\n",
       "RH           16\n",
       "C (all)      10\n",
       "Name: MSZoning, dtype: int64"
      ]
     },
     "execution_count": 93,
     "metadata": {},
     "output_type": "execute_result"
    }
   ],
   "source": [
    "obj_data['MSZoning'].value_counts()\n",
    "    \n",
    "# looking at diff values for zoning, "
   ]
  },
  {
   "cell_type": "code",
   "execution_count": 94,
   "metadata": {},
   "outputs": [
    {
     "data": {
      "text/html": [
       "<div>\n",
       "<style scoped>\n",
       "    .dataframe tbody tr th:only-of-type {\n",
       "        vertical-align: middle;\n",
       "    }\n",
       "\n",
       "    .dataframe tbody tr th {\n",
       "        vertical-align: top;\n",
       "    }\n",
       "\n",
       "    .dataframe thead th {\n",
       "        text-align: right;\n",
       "    }\n",
       "</style>\n",
       "<table border=\"1\" class=\"dataframe\">\n",
       "  <thead>\n",
       "    <tr style=\"text-align: right;\">\n",
       "      <th></th>\n",
       "      <th>LotShape</th>\n",
       "      <th>Shape</th>\n",
       "    </tr>\n",
       "  </thead>\n",
       "  <tbody>\n",
       "    <tr>\n",
       "      <th>0</th>\n",
       "      <td>Reg</td>\n",
       "      <td>3</td>\n",
       "    </tr>\n",
       "    <tr>\n",
       "      <th>1</th>\n",
       "      <td>Reg</td>\n",
       "      <td>3</td>\n",
       "    </tr>\n",
       "    <tr>\n",
       "      <th>2</th>\n",
       "      <td>IR1</td>\n",
       "      <td>0</td>\n",
       "    </tr>\n",
       "    <tr>\n",
       "      <th>3</th>\n",
       "      <td>IR1</td>\n",
       "      <td>0</td>\n",
       "    </tr>\n",
       "    <tr>\n",
       "      <th>4</th>\n",
       "      <td>IR1</td>\n",
       "      <td>0</td>\n",
       "    </tr>\n",
       "  </tbody>\n",
       "</table>\n",
       "</div>"
      ],
      "text/plain": [
       "  LotShape  Shape\n",
       "0      Reg      3\n",
       "1      Reg      3\n",
       "2      IR1      0\n",
       "3      IR1      0\n",
       "4      IR1      0"
      ]
     },
     "execution_count": 94,
     "metadata": {},
     "output_type": "execute_result"
    }
   ],
   "source": [
    "lb_make = LabelEncoder()\n",
    "obj_data[\"Shape\"] = lb_make.fit_transform(obj_data['LotShape'])\n",
    "obj_data[['LotShape', \"Shape\"]].head(5)"
   ]
  },
  {
   "cell_type": "code",
   "execution_count": 95,
   "metadata": {},
   "outputs": [
    {
     "data": {
      "text/html": [
       "<div>\n",
       "<style scoped>\n",
       "    .dataframe tbody tr th:only-of-type {\n",
       "        vertical-align: middle;\n",
       "    }\n",
       "\n",
       "    .dataframe tbody tr th {\n",
       "        vertical-align: top;\n",
       "    }\n",
       "\n",
       "    .dataframe thead th {\n",
       "        text-align: right;\n",
       "    }\n",
       "</style>\n",
       "<table border=\"1\" class=\"dataframe\">\n",
       "  <thead>\n",
       "    <tr style=\"text-align: right;\">\n",
       "      <th></th>\n",
       "      <th>MSZoning</th>\n",
       "      <th>Zoning</th>\n",
       "    </tr>\n",
       "  </thead>\n",
       "  <tbody>\n",
       "    <tr>\n",
       "      <th>0</th>\n",
       "      <td>RL</td>\n",
       "      <td>3</td>\n",
       "    </tr>\n",
       "    <tr>\n",
       "      <th>1</th>\n",
       "      <td>RL</td>\n",
       "      <td>3</td>\n",
       "    </tr>\n",
       "    <tr>\n",
       "      <th>2</th>\n",
       "      <td>RL</td>\n",
       "      <td>3</td>\n",
       "    </tr>\n",
       "    <tr>\n",
       "      <th>3</th>\n",
       "      <td>RL</td>\n",
       "      <td>3</td>\n",
       "    </tr>\n",
       "    <tr>\n",
       "      <th>4</th>\n",
       "      <td>RL</td>\n",
       "      <td>3</td>\n",
       "    </tr>\n",
       "  </tbody>\n",
       "</table>\n",
       "</div>"
      ],
      "text/plain": [
       "  MSZoning  Zoning\n",
       "0       RL       3\n",
       "1       RL       3\n",
       "2       RL       3\n",
       "3       RL       3\n",
       "4       RL       3"
      ]
     },
     "execution_count": 95,
     "metadata": {},
     "output_type": "execute_result"
    }
   ],
   "source": [
    "lb_make = LabelEncoder()\n",
    "obj_data[\"Zoning\"] = lb_make.fit_transform(obj_data['MSZoning'])\n",
    "obj_data[['MSZoning', \"Zoning\"]].head(5)"
   ]
  },
  {
   "cell_type": "markdown",
   "metadata": {},
   "source": [
    "OK im thinking there has to be a better way to do this then to do this all one at a time "
   ]
  },
  {
   "cell_type": "code",
   "execution_count": 96,
   "metadata": {},
   "outputs": [
    {
     "data": {
      "text/html": [
       "<div>\n",
       "<style scoped>\n",
       "    .dataframe tbody tr th:only-of-type {\n",
       "        vertical-align: middle;\n",
       "    }\n",
       "\n",
       "    .dataframe tbody tr th {\n",
       "        vertical-align: top;\n",
       "    }\n",
       "\n",
       "    .dataframe thead th {\n",
       "        text-align: right;\n",
       "    }\n",
       "</style>\n",
       "<table border=\"1\" class=\"dataframe\">\n",
       "  <thead>\n",
       "    <tr style=\"text-align: right;\">\n",
       "      <th></th>\n",
       "      <th>Id</th>\n",
       "      <th>MSSubClass</th>\n",
       "      <th>MSZoning</th>\n",
       "      <th>LotFrontage</th>\n",
       "      <th>LotArea</th>\n",
       "      <th>Street</th>\n",
       "      <th>Alley</th>\n",
       "      <th>LotShape</th>\n",
       "      <th>LandContour</th>\n",
       "      <th>Utilities</th>\n",
       "      <th>...</th>\n",
       "      <th>PoolArea</th>\n",
       "      <th>PoolQC</th>\n",
       "      <th>Fence</th>\n",
       "      <th>MiscFeature</th>\n",
       "      <th>MiscVal</th>\n",
       "      <th>MoSold</th>\n",
       "      <th>YrSold</th>\n",
       "      <th>SaleType</th>\n",
       "      <th>SaleCondition</th>\n",
       "      <th>SalePrice</th>\n",
       "    </tr>\n",
       "  </thead>\n",
       "  <tbody>\n",
       "    <tr>\n",
       "      <th>0</th>\n",
       "      <td>1</td>\n",
       "      <td>60</td>\n",
       "      <td>RL</td>\n",
       "      <td>65.0</td>\n",
       "      <td>8450</td>\n",
       "      <td>Pave</td>\n",
       "      <td>NaN</td>\n",
       "      <td>Reg</td>\n",
       "      <td>Lvl</td>\n",
       "      <td>AllPub</td>\n",
       "      <td>...</td>\n",
       "      <td>0</td>\n",
       "      <td>NaN</td>\n",
       "      <td>NaN</td>\n",
       "      <td>NaN</td>\n",
       "      <td>0</td>\n",
       "      <td>2</td>\n",
       "      <td>2008</td>\n",
       "      <td>WD</td>\n",
       "      <td>Normal</td>\n",
       "      <td>208500</td>\n",
       "    </tr>\n",
       "    <tr>\n",
       "      <th>1</th>\n",
       "      <td>2</td>\n",
       "      <td>20</td>\n",
       "      <td>RL</td>\n",
       "      <td>80.0</td>\n",
       "      <td>9600</td>\n",
       "      <td>Pave</td>\n",
       "      <td>NaN</td>\n",
       "      <td>Reg</td>\n",
       "      <td>Lvl</td>\n",
       "      <td>AllPub</td>\n",
       "      <td>...</td>\n",
       "      <td>0</td>\n",
       "      <td>NaN</td>\n",
       "      <td>NaN</td>\n",
       "      <td>NaN</td>\n",
       "      <td>0</td>\n",
       "      <td>5</td>\n",
       "      <td>2007</td>\n",
       "      <td>WD</td>\n",
       "      <td>Normal</td>\n",
       "      <td>181500</td>\n",
       "    </tr>\n",
       "    <tr>\n",
       "      <th>2</th>\n",
       "      <td>3</td>\n",
       "      <td>60</td>\n",
       "      <td>RL</td>\n",
       "      <td>68.0</td>\n",
       "      <td>11250</td>\n",
       "      <td>Pave</td>\n",
       "      <td>NaN</td>\n",
       "      <td>IR1</td>\n",
       "      <td>Lvl</td>\n",
       "      <td>AllPub</td>\n",
       "      <td>...</td>\n",
       "      <td>0</td>\n",
       "      <td>NaN</td>\n",
       "      <td>NaN</td>\n",
       "      <td>NaN</td>\n",
       "      <td>0</td>\n",
       "      <td>9</td>\n",
       "      <td>2008</td>\n",
       "      <td>WD</td>\n",
       "      <td>Normal</td>\n",
       "      <td>223500</td>\n",
       "    </tr>\n",
       "    <tr>\n",
       "      <th>3</th>\n",
       "      <td>4</td>\n",
       "      <td>70</td>\n",
       "      <td>RL</td>\n",
       "      <td>60.0</td>\n",
       "      <td>9550</td>\n",
       "      <td>Pave</td>\n",
       "      <td>NaN</td>\n",
       "      <td>IR1</td>\n",
       "      <td>Lvl</td>\n",
       "      <td>AllPub</td>\n",
       "      <td>...</td>\n",
       "      <td>0</td>\n",
       "      <td>NaN</td>\n",
       "      <td>NaN</td>\n",
       "      <td>NaN</td>\n",
       "      <td>0</td>\n",
       "      <td>2</td>\n",
       "      <td>2006</td>\n",
       "      <td>WD</td>\n",
       "      <td>Abnorml</td>\n",
       "      <td>140000</td>\n",
       "    </tr>\n",
       "    <tr>\n",
       "      <th>4</th>\n",
       "      <td>5</td>\n",
       "      <td>60</td>\n",
       "      <td>RL</td>\n",
       "      <td>84.0</td>\n",
       "      <td>14260</td>\n",
       "      <td>Pave</td>\n",
       "      <td>NaN</td>\n",
       "      <td>IR1</td>\n",
       "      <td>Lvl</td>\n",
       "      <td>AllPub</td>\n",
       "      <td>...</td>\n",
       "      <td>0</td>\n",
       "      <td>NaN</td>\n",
       "      <td>NaN</td>\n",
       "      <td>NaN</td>\n",
       "      <td>0</td>\n",
       "      <td>12</td>\n",
       "      <td>2008</td>\n",
       "      <td>WD</td>\n",
       "      <td>Normal</td>\n",
       "      <td>250000</td>\n",
       "    </tr>\n",
       "  </tbody>\n",
       "</table>\n",
       "<p>5 rows × 81 columns</p>\n",
       "</div>"
      ],
      "text/plain": [
       "   Id  MSSubClass MSZoning  LotFrontage  LotArea Street Alley LotShape  \\\n",
       "0   1          60       RL         65.0     8450   Pave   NaN      Reg   \n",
       "1   2          20       RL         80.0     9600   Pave   NaN      Reg   \n",
       "2   3          60       RL         68.0    11250   Pave   NaN      IR1   \n",
       "3   4          70       RL         60.0     9550   Pave   NaN      IR1   \n",
       "4   5          60       RL         84.0    14260   Pave   NaN      IR1   \n",
       "\n",
       "  LandContour Utilities    ...     PoolArea PoolQC Fence MiscFeature MiscVal  \\\n",
       "0         Lvl    AllPub    ...            0    NaN   NaN         NaN       0   \n",
       "1         Lvl    AllPub    ...            0    NaN   NaN         NaN       0   \n",
       "2         Lvl    AllPub    ...            0    NaN   NaN         NaN       0   \n",
       "3         Lvl    AllPub    ...            0    NaN   NaN         NaN       0   \n",
       "4         Lvl    AllPub    ...            0    NaN   NaN         NaN       0   \n",
       "\n",
       "  MoSold YrSold  SaleType  SaleCondition  SalePrice  \n",
       "0      2   2008        WD         Normal     208500  \n",
       "1      5   2007        WD         Normal     181500  \n",
       "2      9   2008        WD         Normal     223500  \n",
       "3      2   2006        WD        Abnorml     140000  \n",
       "4     12   2008        WD         Normal     250000  \n",
       "\n",
       "[5 rows x 81 columns]"
      ]
     },
     "execution_count": 96,
     "metadata": {},
     "output_type": "execute_result"
    }
   ],
   "source": [
    "data.head()"
   ]
  },
  {
   "cell_type": "code",
   "execution_count": 97,
   "metadata": {},
   "outputs": [
    {
     "name": "stdout",
     "output_type": "stream",
     "text": [
      "count      1460.000000\n",
      "mean     180921.195890\n",
      "std       79442.502883\n",
      "min       34900.000000\n",
      "25%      129975.000000\n",
      "50%      163000.000000\n",
      "75%      214000.000000\n",
      "max      755000.000000\n",
      "Name: SalePrice, dtype: float64\n"
     ]
    },
    {
     "data": {
      "image/png": "[encoded data removed]",
      "text/plain": [
       "<Figure size 720x432 with 1 Axes>"
      ]
     },
     "metadata": {},
     "output_type": "display_data"
    }
   ],
   "source": [
    "## imma try and find which columns are more important than others through a few plots \n",
    "## personally an R fan so we use alot of gg plot \n",
    "\n",
    "plt.style.use(style = 'ggplot')\n",
    "plt.rcParams['figure.figsize'] = (10,6)\n",
    "\n",
    "## ok so what do I want to predict? sales price \n",
    "print(data.SalePrice.describe())\n",
    "\n",
    "#data.SalePrice.skew()\n",
    "\n",
    "fig = plt.figure()\n",
    "plt.hist(data.SalePrice, color = 'blue')\n",
    "plt.title(\"Sale Price Distribution\")\n",
    "\n",
    "plt.show()\n",
    "\n",
    "\n",
    "# -- skewed right"
   ]
  },
  {
   "cell_type": "markdown",
   "metadata": {},
   "source": [
    "We talked about in 388 and 488 all the time that taking the log of the outcome variable results in a percentage change, this results in more of a linear outcome variable when it is skewed like it is -- so gonna try and do that \n",
    "\n",
    "reasons being, I can control for hetero skedasticity and because it is supressed by the log function \n",
    "\n",
    "also if I change my independent variables to be logs aswell, I can interpret my coefficients as elasticities with my outcome variable being my dependent variable still \n",
    "\n",
    "and make my positively skewed data much more normal, and so much easier to deal with normal rather than non normal errors for inference purposes \n"
   ]
  },
  {
   "cell_type": "code",
   "execution_count": 99,
   "metadata": {},
   "outputs": [
    {
     "data": {
      "image/png": "[encoded data removed]",
      "text/plain": [
       "<Figure size 720x432 with 1 Axes>"
      ]
     },
     "metadata": {},
     "output_type": "display_data"
    },
    {
     "name": "stdout",
     "output_type": "stream",
     "text": [
      "count    1460.000000\n",
      "mean       12.024051\n",
      "std         0.399452\n",
      "min        10.460242\n",
      "25%        11.775097\n",
      "50%        12.001505\n",
      "75%        12.273731\n",
      "max        13.534473\n",
      "Name: SalePrice, dtype: float64\n"
     ]
    }
   ],
   "source": [
    "log_price = np.log(data.SalePrice)\n",
    "plt.hist(log_price, color = \"red\")\n",
    "plt.title(\"Log of Sale Price \")\n",
    "plt.show()\n",
    "\n",
    "print(log_price.describe())\n",
    "\n",
    "## that looks nice and normal \n"
   ]
  },
  {
   "cell_type": "code",
   "execution_count": 100,
   "metadata": {},
   "outputs": [
    {
     "name": "stdout",
     "output_type": "stream",
     "text": [
      "most  positively correlated \n",
      "SalePrice       1.000000\n",
      "OverallQual     0.790982\n",
      "GrLivArea       0.708624\n",
      "GarageCars      0.640409\n",
      "GarageArea      0.623431\n",
      "TotalBsmtSF     0.613581\n",
      "1stFlrSF        0.605852\n",
      "FullBath        0.560664\n",
      "TotRmsAbvGrd    0.533723\n",
      "YearBuilt       0.522897\n",
      "YearRemodAdd    0.507101\n",
      "GarageYrBlt     0.486362\n",
      "MasVnrArea      0.477493\n",
      "Name: SalePrice, dtype: float64\n",
      "\n",
      "most negative corr \n",
      "BsmtFinSF2      -0.011378\n",
      "BsmtHalfBath    -0.016844\n",
      "MiscVal         -0.021190\n",
      "Id              -0.021917\n",
      "LowQualFinSF    -0.025606\n",
      "YrSold          -0.028923\n",
      "OverallCond     -0.077856\n",
      "MSSubClass      -0.084284\n",
      "EnclosedPorch   -0.128578\n",
      "KitchenAbvGr    -0.135907\n",
      "Name: SalePrice, dtype: float64\n"
     ]
    }
   ],
   "source": [
    "## gonna try and find things that are correlated with my new outcome variable \n",
    "\n",
    "\n",
    "## Which numeric columns are correlated with saleprice\n",
    "numeric_features = data.select_dtypes(include=[np.number])\n",
    "\n",
    "\n",
    "corr = numeric_features.corr()\n",
    "\n",
    "\n",
    "# The first five features are the most positively correlated with SalePrice, while the next five are the most negatively correlated.\n",
    "print(\"most  positively correlated \")\n",
    "print (corr['SalePrice'].sort_values(ascending=False)[:13])\n",
    "\n",
    "print(\"\")\n",
    "\n",
    "print(\"most negative corr \")\n",
    "print (corr['SalePrice'].sort_values(ascending=False)[-10:])\n"
   ]
  },
  {
   "cell_type": "code",
   "execution_count": 101,
   "metadata": {},
   "outputs": [],
   "source": [
    "## really struggling on how to take correlations between more than one column at a time so imma \n",
    "# make a function even though I feel like this should be in a library somewhere \n",
    "\n",
    "\n",
    "#def get_corrs(df):\n",
    " #   col_correlations = df.corr()\n",
    "  #  col_correlations.loc[:, :] = np.tril(col_correlations, k=-1)\n",
    "   # cor_pairs = col_correlations.stack()\n",
    "    #return cor_pairs.to_dict()\n",
    "\n",
    "#my_corrs = get_corrs(data)\n",
    "\n",
    "#print(my_corrs)\n"
   ]
  },
  {
   "cell_type": "markdown",
   "metadata": {},
   "source": [
    "'''\n",
    "Like Tyler said in class, we should first build a very basic model and see see what we get, I will run a linear regression\n",
    "on my sales price with some variables that I think will be statistically important \n",
    "\n",
    "after consulting with the data description and finding those elements that are reasonably \n",
    "highly correlated with the outcome, I think i'll just run a linear regression on the log \n",
    "of my prices with the 10 or so variables that I found to be highly correlated and see \n",
    "where that gets me \n",
    "\n",
    "\n",
    "'''"
   ]
  },
  {
   "cell_type": "code",
   "execution_count": 102,
   "metadata": {},
   "outputs": [
    {
     "data": {
      "text/html": [
       "<div>\n",
       "<style scoped>\n",
       "    .dataframe tbody tr th:only-of-type {\n",
       "        vertical-align: middle;\n",
       "    }\n",
       "\n",
       "    .dataframe tbody tr th {\n",
       "        vertical-align: top;\n",
       "    }\n",
       "\n",
       "    .dataframe thead th {\n",
       "        text-align: right;\n",
       "    }\n",
       "</style>\n",
       "<table border=\"1\" class=\"dataframe\">\n",
       "  <thead>\n",
       "    <tr style=\"text-align: right;\">\n",
       "      <th></th>\n",
       "      <th>Id</th>\n",
       "      <th>MSSubClass</th>\n",
       "      <th>LotFrontage</th>\n",
       "      <th>LotArea</th>\n",
       "      <th>OverallQual</th>\n",
       "      <th>OverallCond</th>\n",
       "      <th>YearBuilt</th>\n",
       "      <th>YearRemodAdd</th>\n",
       "      <th>MasVnrArea</th>\n",
       "      <th>BsmtFinSF1</th>\n",
       "      <th>...</th>\n",
       "      <th>SaleType_ConLw</th>\n",
       "      <th>SaleType_New</th>\n",
       "      <th>SaleType_Oth</th>\n",
       "      <th>SaleType_WD</th>\n",
       "      <th>SaleCondition_Abnorml</th>\n",
       "      <th>SaleCondition_AdjLand</th>\n",
       "      <th>SaleCondition_Alloca</th>\n",
       "      <th>SaleCondition_Family</th>\n",
       "      <th>SaleCondition_Normal</th>\n",
       "      <th>SaleCondition_Partial</th>\n",
       "    </tr>\n",
       "  </thead>\n",
       "  <tbody>\n",
       "    <tr>\n",
       "      <th>0</th>\n",
       "      <td>1</td>\n",
       "      <td>60</td>\n",
       "      <td>65.0</td>\n",
       "      <td>8450</td>\n",
       "      <td>7</td>\n",
       "      <td>5</td>\n",
       "      <td>2003</td>\n",
       "      <td>2003</td>\n",
       "      <td>196.0</td>\n",
       "      <td>706</td>\n",
       "      <td>...</td>\n",
       "      <td>0</td>\n",
       "      <td>0</td>\n",
       "      <td>0</td>\n",
       "      <td>1</td>\n",
       "      <td>0</td>\n",
       "      <td>0</td>\n",
       "      <td>0</td>\n",
       "      <td>0</td>\n",
       "      <td>1</td>\n",
       "      <td>0</td>\n",
       "    </tr>\n",
       "    <tr>\n",
       "      <th>1</th>\n",
       "      <td>2</td>\n",
       "      <td>20</td>\n",
       "      <td>80.0</td>\n",
       "      <td>9600</td>\n",
       "      <td>6</td>\n",
       "      <td>8</td>\n",
       "      <td>1976</td>\n",
       "      <td>1976</td>\n",
       "      <td>0.0</td>\n",
       "      <td>978</td>\n",
       "      <td>...</td>\n",
       "      <td>0</td>\n",
       "      <td>0</td>\n",
       "      <td>0</td>\n",
       "      <td>1</td>\n",
       "      <td>0</td>\n",
       "      <td>0</td>\n",
       "      <td>0</td>\n",
       "      <td>0</td>\n",
       "      <td>1</td>\n",
       "      <td>0</td>\n",
       "    </tr>\n",
       "    <tr>\n",
       "      <th>2</th>\n",
       "      <td>3</td>\n",
       "      <td>60</td>\n",
       "      <td>68.0</td>\n",
       "      <td>11250</td>\n",
       "      <td>7</td>\n",
       "      <td>5</td>\n",
       "      <td>2001</td>\n",
       "      <td>2002</td>\n",
       "      <td>162.0</td>\n",
       "      <td>486</td>\n",
       "      <td>...</td>\n",
       "      <td>0</td>\n",
       "      <td>0</td>\n",
       "      <td>0</td>\n",
       "      <td>1</td>\n",
       "      <td>0</td>\n",
       "      <td>0</td>\n",
       "      <td>0</td>\n",
       "      <td>0</td>\n",
       "      <td>1</td>\n",
       "      <td>0</td>\n",
       "    </tr>\n",
       "    <tr>\n",
       "      <th>3</th>\n",
       "      <td>4</td>\n",
       "      <td>70</td>\n",
       "      <td>60.0</td>\n",
       "      <td>9550</td>\n",
       "      <td>7</td>\n",
       "      <td>5</td>\n",
       "      <td>1915</td>\n",
       "      <td>1970</td>\n",
       "      <td>0.0</td>\n",
       "      <td>216</td>\n",
       "      <td>...</td>\n",
       "      <td>0</td>\n",
       "      <td>0</td>\n",
       "      <td>0</td>\n",
       "      <td>1</td>\n",
       "      <td>1</td>\n",
       "      <td>0</td>\n",
       "      <td>0</td>\n",
       "      <td>0</td>\n",
       "      <td>0</td>\n",
       "      <td>0</td>\n",
       "    </tr>\n",
       "    <tr>\n",
       "      <th>4</th>\n",
       "      <td>5</td>\n",
       "      <td>60</td>\n",
       "      <td>84.0</td>\n",
       "      <td>14260</td>\n",
       "      <td>8</td>\n",
       "      <td>5</td>\n",
       "      <td>2000</td>\n",
       "      <td>2000</td>\n",
       "      <td>350.0</td>\n",
       "      <td>655</td>\n",
       "      <td>...</td>\n",
       "      <td>0</td>\n",
       "      <td>0</td>\n",
       "      <td>0</td>\n",
       "      <td>1</td>\n",
       "      <td>0</td>\n",
       "      <td>0</td>\n",
       "      <td>0</td>\n",
       "      <td>0</td>\n",
       "      <td>1</td>\n",
       "      <td>0</td>\n",
       "    </tr>\n",
       "  </tbody>\n",
       "</table>\n",
       "<p>5 rows × 290 columns</p>\n",
       "</div>"
      ],
      "text/plain": [
       "   Id  MSSubClass  LotFrontage  LotArea  OverallQual  OverallCond  YearBuilt  \\\n",
       "0   1          60         65.0     8450            7            5       2003   \n",
       "1   2          20         80.0     9600            6            8       1976   \n",
       "2   3          60         68.0    11250            7            5       2001   \n",
       "3   4          70         60.0     9550            7            5       1915   \n",
       "4   5          60         84.0    14260            8            5       2000   \n",
       "\n",
       "   YearRemodAdd  MasVnrArea  BsmtFinSF1          ...            \\\n",
       "0          2003       196.0         706          ...             \n",
       "1          1976         0.0         978          ...             \n",
       "2          2002       162.0         486          ...             \n",
       "3          1970         0.0         216          ...             \n",
       "4          2000       350.0         655          ...             \n",
       "\n",
       "   SaleType_ConLw  SaleType_New  SaleType_Oth  SaleType_WD  \\\n",
       "0               0             0             0            1   \n",
       "1               0             0             0            1   \n",
       "2               0             0             0            1   \n",
       "3               0             0             0            1   \n",
       "4               0             0             0            1   \n",
       "\n",
       "   SaleCondition_Abnorml  SaleCondition_AdjLand  SaleCondition_Alloca  \\\n",
       "0                      0                      0                     0   \n",
       "1                      0                      0                     0   \n",
       "2                      0                      0                     0   \n",
       "3                      1                      0                     0   \n",
       "4                      0                      0                     0   \n",
       "\n",
       "   SaleCondition_Family  SaleCondition_Normal  SaleCondition_Partial  \n",
       "0                     0                     1                      0  \n",
       "1                     0                     1                      0  \n",
       "2                     0                     1                      0  \n",
       "3                     0                     0                      0  \n",
       "4                     0                     1                      0  \n",
       "\n",
       "[5 rows x 290 columns]"
      ]
     },
     "execution_count": 102,
     "metadata": {},
     "output_type": "execute_result"
    }
   ],
   "source": [
    "#gonna create a new dataframe with the positively cols\n",
    "\n",
    "pd.get_dummies(data).head()"
   ]
  },
  {
   "cell_type": "code",
   "execution_count": 103,
   "metadata": {},
   "outputs": [
    {
     "name": "stdout",
     "output_type": "stream",
     "text": [
      "most  positively correlated \n",
      "SalePrice       1.000000\n",
      "OverallQual     0.790982\n",
      "GrLivArea       0.708624\n",
      "GarageCars      0.640409\n",
      "GarageArea      0.623431\n",
      "TotalBsmtSF     0.613581\n",
      "1stFlrSF        0.605852\n",
      "FullBath        0.560664\n",
      "TotRmsAbvGrd    0.533723\n",
      "YearBuilt       0.522897\n",
      "YearRemodAdd    0.507101\n",
      "Name: SalePrice, dtype: float64\n"
     ]
    }
   ],
   "source": [
    "numeric_features = data.select_dtypes(include=[np.number])\n",
    "\n",
    "\n",
    "corr = numeric_features.corr()\n",
    "\n",
    "print(\"most  positively correlated \")\n",
    "print (corr['SalePrice'].sort_values(ascending=False)[:11])"
   ]
  },
  {
   "cell_type": "markdown",
   "metadata": {},
   "source": [
    "ok, after changing all of my categorical data into dummies, the most strongly correlated categories were not any of those \n",
    "categorical data, however their correlations were slightly lower. So im going to go with these and build a basic model ignoring the categorical data because they do not seam to be correlated with the outcome variable of saleprice \n"
   ]
  },
  {
   "cell_type": "code",
   "execution_count": 104,
   "metadata": {},
   "outputs": [
    {
     "data": {
      "text/plain": [
       "0    1710\n",
       "1    1262\n",
       "2    1786\n",
       "3    1717\n",
       "4    2198\n",
       "Name: GrLivArea, dtype: int64"
      ]
     },
     "execution_count": 104,
     "metadata": {},
     "output_type": "execute_result"
    }
   ],
   "source": [
    "data.GrLivArea.head()"
   ]
  },
  {
   "cell_type": "code",
   "execution_count": 105,
   "metadata": {},
   "outputs": [
    {
     "data": {
      "text/plain": [
       "Text(0.5, 0.98, 'Garage Area')"
      ]
     },
     "execution_count": 105,
     "metadata": {},
     "output_type": "execute_result"
    },
    {
     "data": {
      "image/png": "[encoded data removed]",
      "text/plain": [
       "<Figure size 720x432 with 1 Axes>"
      ]
     },
     "metadata": {},
     "output_type": "display_data"
    }
   ],
   "source": [
    "## OK.... I dont know whats going on with that data frame I am trying to create, sooooo I think \n",
    "## imma just choose 5 of the most highly correlated and clean those and try and do that one at a time \n",
    "\n",
    "plt.scatter(x = data['GarageArea'], y = log_price)\n",
    "fig.suptitle(\"Garage Area\")"
   ]
  },
  {
   "cell_type": "markdown",
   "metadata": {},
   "source": [
    "Because regression is so thrown off by outliers, I think imma toss out anything that has more than a \n",
    "1200 sqft garage and anything that is 0 "
   ]
  },
  {
   "cell_type": "code",
   "execution_count": 106,
   "metadata": {},
   "outputs": [
    {
     "name": "stdout",
     "output_type": "stream",
     "text": [
      "(1455, 81)\n"
     ]
    },
    {
     "data": {
      "image/png": "[encoded data removed]",
      "text/plain": [
       "<Figure size 720x432 with 1 Axes>"
      ]
     },
     "metadata": {},
     "output_type": "display_data"
    }
   ],
   "source": [
    "data = data[data[\"GarageArea\"]< 1200]\n",
    "\n",
    "\n",
    "# couldnt use log_price variable created above because they have to be the same size \n",
    "plt.scatter(x = data['GarageArea'], y = np.log(data.SalePrice))\n",
    "fig.suptitle(\"Garage Area without outliers \")\n",
    "print(data.shape)"
   ]
  },
  {
   "cell_type": "code",
   "execution_count": 107,
   "metadata": {},
   "outputs": [
    {
     "data": {
      "text/plain": [
       "Text(0.5, 0.98, 'Total Basement Square Feet ')"
      ]
     },
     "execution_count": 107,
     "metadata": {},
     "output_type": "execute_result"
    },
    {
     "data": {
      "image/png": "[encoded data removed]",
      "text/plain": [
       "<Figure size 720x432 with 1 Axes>"
      ]
     },
     "metadata": {},
     "output_type": "display_data"
    }
   ],
   "source": [
    "\n",
    "plt.scatter(x = data['TotalBsmtSF'], y = np.log(data.SalePrice))\n",
    "\n",
    "fig.suptitle(\"Total Basement Square Feet \")"
   ]
  },
  {
   "cell_type": "markdown",
   "metadata": {},
   "source": [
    "I think imma do the same thing I did with garage sqare feet and remove anyting bigger than 3000, I thought about getting rid of any bigger than 2500, but I don't feel like those ones are too far outside the best fit line that I draw in my head lol "
   ]
  },
  {
   "cell_type": "code",
   "execution_count": 108,
   "metadata": {},
   "outputs": [
    {
     "data": {
      "text/plain": [
       "Text(0.5, 0.98, 'Total Basement Square Feet without outliers ')"
      ]
     },
     "execution_count": 108,
     "metadata": {},
     "output_type": "execute_result"
    },
    {
     "data": {
      "image/png": "[encoded data removed]",
      "text/plain": [
       "<Figure size 720x432 with 1 Axes>"
      ]
     },
     "metadata": {},
     "output_type": "display_data"
    }
   ],
   "source": [
    "data = data[data[\"TotalBsmtSF\"]< 3000]\n",
    "\n",
    "\n",
    "plt.scatter(x = data['TotalBsmtSF'], y = np.log(data.SalePrice))\n",
    "\n",
    "fig.suptitle(\"Total Basement Square Feet without outliers \")\n"
   ]
  },
  {
   "cell_type": "code",
   "execution_count": 109,
   "metadata": {},
   "outputs": [
    {
     "name": "stdout",
     "output_type": "stream",
     "text": [
      "(1451, 81)\n"
     ]
    }
   ],
   "source": [
    "print(data.shape)"
   ]
  },
  {
   "cell_type": "code",
   "execution_count": 111,
   "metadata": {},
   "outputs": [
    {
     "data": {
      "text/plain": [
       "Text(0.5, 1.0, 'General Living Area Square Feet  ')"
      ]
     },
     "execution_count": 111,
     "metadata": {},
     "output_type": "execute_result"
    },
    {
     "data": {
      "image/png": "[encoded data removed]",
      "text/plain": [
       "<Figure size 720x432 with 1 Axes>"
      ]
     },
     "metadata": {},
     "output_type": "display_data"
    }
   ],
   "source": [
    "## looking at GR living area -- which is square feet living area \n",
    "plt.scatter(x = data['GrLivArea'], y = np.log(data.SalePrice))\n",
    "\n",
    "plt.title(\"General Living Area Square Feet  \")"
   ]
  },
  {
   "cell_type": "code",
   "execution_count": 112,
   "metadata": {},
   "outputs": [
    {
     "data": {
      "text/plain": [
       "Text(0.5, 1.0, 'General Living Area Square Feet  without outliers ')"
      ]
     },
     "execution_count": 112,
     "metadata": {},
     "output_type": "execute_result"
    },
    {
     "data": {
      "image/png": "[encoded data removed]",
      "text/plain": [
       "<Figure size 720x432 with 1 Axes>"
      ]
     },
     "metadata": {},
     "output_type": "display_data"
    }
   ],
   "source": [
    "#Imma drop those last two data points greater than 4000 \n",
    "\n",
    "\n",
    "data = data[data[\"GrLivArea\"]< 4000]\n",
    "\n",
    "plt.scatter(x = data['GrLivArea'], y = np.log(data.SalePrice))\n",
    "\n",
    "plt.title(\"General Living Area Square Feet  without outliers \")\n"
   ]
  },
  {
   "cell_type": "code",
   "execution_count": 28,
   "metadata": {},
   "outputs": [
    {
     "name": "stdout",
     "output_type": "stream",
     "text": [
      "(1449, 81)\n"
     ]
    }
   ],
   "source": [
    "print(data.shape)"
   ]
  },
  {
   "cell_type": "code",
   "execution_count": 29,
   "metadata": {},
   "outputs": [],
   "source": [
    "#gonna do the same thing for first floor square footage "
   ]
  },
  {
   "cell_type": "code",
   "execution_count": 113,
   "metadata": {},
   "outputs": [
    {
     "data": {
      "text/plain": [
       "Text(0.5, 1.0, 'First Floor Square Feet   ')"
      ]
     },
     "execution_count": 113,
     "metadata": {},
     "output_type": "execute_result"
    },
    {
     "data": {
      "image/png": "[encoded data removed]",
      "text/plain": [
       "<Figure size 720x432 with 1 Axes>"
      ]
     },
     "metadata": {},
     "output_type": "display_data"
    }
   ],
   "source": [
    "#looking at first floor square foot \n",
    "\n",
    "plt.scatter(x = data['1stFlrSF'], y = np.log(data.SalePrice))\n",
    "\n",
    "plt.title(\"First Floor Square Feet   \")"
   ]
  },
  {
   "cell_type": "code",
   "execution_count": 114,
   "metadata": {},
   "outputs": [
    {
     "data": {
      "text/plain": [
       "Text(0.5, 1.0, 'General Living Area Square Feet  without outliers ')"
      ]
     },
     "execution_count": 114,
     "metadata": {},
     "output_type": "execute_result"
    },
    {
     "data": {
      "image/png": "[encoded data removed]",
      "text/plain": [
       "<Figure size 720x432 with 1 Axes>"
      ]
     },
     "metadata": {},
     "output_type": "display_data"
    }
   ],
   "source": [
    "data = data[data[\"GrLivArea\"]< 2500]\n",
    "\n",
    "plt.scatter(x = data['1stFlrSF'], y = np.log(data.SalePrice))\n",
    "\n",
    "plt.title(\"General Living Area Square Feet  without outliers \")\n"
   ]
  },
  {
   "cell_type": "code",
   "execution_count": 32,
   "metadata": {},
   "outputs": [
    {
     "name": "stdout",
     "output_type": "stream",
     "text": [
      "(1384, 81)\n"
     ]
    }
   ],
   "source": [
    "print(data.shape)"
   ]
  },
  {
   "cell_type": "code",
   "execution_count": 115,
   "metadata": {},
   "outputs": [
    {
     "data": {
      "text/plain": [
       "Text(0.5, 1.0, 'Year Built')"
      ]
     },
     "execution_count": 115,
     "metadata": {},
     "output_type": "execute_result"
    },
    {
     "data": {
      "image/png": "[encoded data removed]",
      "text/plain": [
       "<Figure size 720x432 with 1 Axes>"
      ]
     },
     "metadata": {},
     "output_type": "display_data"
    }
   ],
   "source": [
    "plt.scatter(x = data['YearBuilt'], y = np.log(data.SalePrice))\n",
    "\n",
    "plt.title(\"Year Built\")\n"
   ]
  },
  {
   "cell_type": "markdown",
   "metadata": {},
   "source": [
    "## ok, now that I have gotten rid of some of the biggest outliers, I think imma just\n",
    "## run a basic regression, see how this goes using some of the variables I cleaned and\n",
    "## The log of my sales price as my outcome variable"
   ]
  },
  {
   "cell_type": "code",
   "execution_count": 116,
   "metadata": {},
   "outputs": [
    {
     "data": {
      "text/plain": [
       "dtype('int64')"
      ]
     },
     "execution_count": 116,
     "metadata": {},
     "output_type": "execute_result"
    }
   ],
   "source": [
    "data['FullBath'].dtypes\n"
   ]
  },
  {
   "cell_type": "code",
   "execution_count": 117,
   "metadata": {},
   "outputs": [],
   "source": [
    "#OverallQual\n",
    "\n",
    "#plt.scatter(x = data['OverallQual'], y = np.log(data.SalePrice))"
   ]
  },
  {
   "cell_type": "markdown",
   "metadata": {},
   "source": [
    "Building data frame with only correlated columns "
   ]
  },
  {
   "cell_type": "code",
   "execution_count": 118,
   "metadata": {},
   "outputs": [],
   "source": [
    "#c_num_data = pd.DataFrame([data[\"OverallQual\"], data['GrLivArea'],\n",
    " #                        data['GarageCars'], data['GarageArea'], data['TotalBsmtSF'],  \n",
    "  #                       data['1stFlrSF'], data['YearBuilt'],data['FullBath']])\n",
    "\n",
    "# don't need to use pandas.df because already in data frame format, this way the\n",
    "# columns dont become rows lol \n",
    "\n",
    "c_num_data = data[['OverallQual', 'GrLivArea', 'GarageCars',\n",
    "                  'GarageArea', 'TotRmsAbvGrd', 'TotalBsmtSF',\n",
    "                  '1stFlrSF', 'YearBuilt', 'FullBath']]"
   ]
  },
  {
   "cell_type": "code",
   "execution_count": 119,
   "metadata": {},
   "outputs": [
    {
     "data": {
      "text/html": [
       "<div>\n",
       "<style scoped>\n",
       "    .dataframe tbody tr th:only-of-type {\n",
       "        vertical-align: middle;\n",
       "    }\n",
       "\n",
       "    .dataframe tbody tr th {\n",
       "        vertical-align: top;\n",
       "    }\n",
       "\n",
       "    .dataframe thead th {\n",
       "        text-align: right;\n",
       "    }\n",
       "</style>\n",
       "<table border=\"1\" class=\"dataframe\">\n",
       "  <thead>\n",
       "    <tr style=\"text-align: right;\">\n",
       "      <th></th>\n",
       "      <th>OverallQual</th>\n",
       "      <th>GrLivArea</th>\n",
       "      <th>GarageCars</th>\n",
       "      <th>GarageArea</th>\n",
       "      <th>TotRmsAbvGrd</th>\n",
       "      <th>TotalBsmtSF</th>\n",
       "      <th>1stFlrSF</th>\n",
       "      <th>YearBuilt</th>\n",
       "      <th>FullBath</th>\n",
       "    </tr>\n",
       "  </thead>\n",
       "  <tbody>\n",
       "    <tr>\n",
       "      <th>0</th>\n",
       "      <td>7</td>\n",
       "      <td>1710</td>\n",
       "      <td>2</td>\n",
       "      <td>548</td>\n",
       "      <td>8</td>\n",
       "      <td>856</td>\n",
       "      <td>856</td>\n",
       "      <td>2003</td>\n",
       "      <td>2</td>\n",
       "    </tr>\n",
       "    <tr>\n",
       "      <th>1</th>\n",
       "      <td>6</td>\n",
       "      <td>1262</td>\n",
       "      <td>2</td>\n",
       "      <td>460</td>\n",
       "      <td>6</td>\n",
       "      <td>1262</td>\n",
       "      <td>1262</td>\n",
       "      <td>1976</td>\n",
       "      <td>2</td>\n",
       "    </tr>\n",
       "    <tr>\n",
       "      <th>2</th>\n",
       "      <td>7</td>\n",
       "      <td>1786</td>\n",
       "      <td>2</td>\n",
       "      <td>608</td>\n",
       "      <td>6</td>\n",
       "      <td>920</td>\n",
       "      <td>920</td>\n",
       "      <td>2001</td>\n",
       "      <td>2</td>\n",
       "    </tr>\n",
       "    <tr>\n",
       "      <th>3</th>\n",
       "      <td>7</td>\n",
       "      <td>1717</td>\n",
       "      <td>3</td>\n",
       "      <td>642</td>\n",
       "      <td>7</td>\n",
       "      <td>756</td>\n",
       "      <td>961</td>\n",
       "      <td>1915</td>\n",
       "      <td>1</td>\n",
       "    </tr>\n",
       "    <tr>\n",
       "      <th>4</th>\n",
       "      <td>8</td>\n",
       "      <td>2198</td>\n",
       "      <td>3</td>\n",
       "      <td>836</td>\n",
       "      <td>9</td>\n",
       "      <td>1145</td>\n",
       "      <td>1145</td>\n",
       "      <td>2000</td>\n",
       "      <td>2</td>\n",
       "    </tr>\n",
       "  </tbody>\n",
       "</table>\n",
       "</div>"
      ],
      "text/plain": [
       "   OverallQual  GrLivArea  GarageCars  GarageArea  TotRmsAbvGrd  TotalBsmtSF  \\\n",
       "0            7       1710           2         548             8          856   \n",
       "1            6       1262           2         460             6         1262   \n",
       "2            7       1786           2         608             6          920   \n",
       "3            7       1717           3         642             7          756   \n",
       "4            8       2198           3         836             9         1145   \n",
       "\n",
       "   1stFlrSF  YearBuilt  FullBath  \n",
       "0       856       2003         2  \n",
       "1      1262       1976         2  \n",
       "2       920       2001         2  \n",
       "3       961       1915         1  \n",
       "4      1145       2000         2  "
      ]
     },
     "execution_count": 119,
     "metadata": {},
     "output_type": "execute_result"
    }
   ],
   "source": [
    "c_num_data.head()"
   ]
  },
  {
   "cell_type": "code",
   "execution_count": 120,
   "metadata": {},
   "outputs": [
    {
     "data": {
      "text/plain": [
       "<matplotlib.axes._subplots.AxesSubplot at 0x2602b3fdd30>"
      ]
     },
     "execution_count": 120,
     "metadata": {},
     "output_type": "execute_result"
    },
    {
     "data": {
      "image/png": "[encoded data removed]",
      "text/plain": [
       "<Figure size 720x432 with 2 Axes>"
      ]
     },
     "metadata": {},
     "output_type": "display_data"
    }
   ],
   "source": [
    "corr_mat = c_num_data.corr()\n",
    "f, ax = plt.subplots(figsize = (10, 6))\n",
    "sns.heatmap(corr_mat,vmax=.8,square=True)\n",
    "\n",
    "## this is just a vizualization, these are all very higly correlatd with overallQual, \n",
    "# it doesn't look like there is too much auto correlation between variables. "
   ]
  },
  {
   "cell_type": "markdown",
   "metadata": {},
   "source": [
    "## model 1, linear regression "
   ]
  },
  {
   "cell_type": "code",
   "execution_count": 121,
   "metadata": {},
   "outputs": [
    {
     "name": "stdout",
     "output_type": "stream",
     "text": [
      "RMSE: 1958424334368798.5\n"
     ]
    },
    {
     "name": "stderr",
     "output_type": "stream",
     "text": [
      "C:\\Users\\13855\\Anaconda3\\lib\\site-packages\\sklearn\\preprocessing\\data.py:625: DataConversionWarning: Data with input dtype int64 were all converted to float64 by StandardScaler.\n",
      "  return self.partial_fit(X, y)\n",
      "C:\\Users\\13855\\Anaconda3\\lib\\site-packages\\ipykernel_launcher.py:9: DataConversionWarning: Data with input dtype int64 were all converted to float64 by StandardScaler.\n",
      "  if __name__ == '__main__':\n"
     ]
    }
   ],
   "source": [
    "x = c_num_data\n",
    "\n",
    "y = np.log(data.SalePrice)\n",
    "\n",
    "scaler = StandardScaler()\n",
    "\n",
    "scaler.fit(x)\n",
    "\n",
    "scaler_df = scaler.transform(x)\n",
    "\n",
    "linear_regression_model = SGDRegressor(tol = .001, eta0 = .01)\n",
    "\n",
    "linear_regression_model.fit(c_num_data, y)\n",
    "\n",
    "predictions = linear_regression_model.predict(c_num_data)\n",
    "\n",
    "mse = mean_squared_error(y, predictions)\n",
    "\n",
    "print(\"RMSE: {}\".format(np.sqrt(mse)))"
   ]
  },
  {
   "cell_type": "markdown",
   "metadata": {},
   "source": [
    "Well, that model sucked, I was really suprised at how massive my mean squared error is, I am going to try and get a better score by using a different type of model and maybe a few more variables. Although I guess the result isn't too surprising because I ignore multi colinearity, factors where both 1st floor square feet and gr living space are probably very related, where things like garage size and number of car garage is totally correlated so their error terms would be correlated \n",
    "\n",
    "## Questions about model \n",
    "\n",
    "#1 this is the first model i tried.  I tried it because it was a simple thing to start with that I could build and build my other models off of and see how they compared. Also Tyler recommended we do a simple linear regression.\n",
    "\n",
    "    The assumptions for this model aren't great.  A linear regression assums no multi coliniarity, and no auto correlation which is not true, I use a lot of variables that are obviously correlated, like square footage of a garage and the number of cars garage etc.  so these assumptions are not met which is probably part of my big mean squared error. -- I didn't really account for them, because Tyler said it wasn't a big deal. this model does not have hyper perameters \n",
    "    \n",
    "    \n",
    "    Model Interpretation: \n",
    "    Since the mean squared error is so high, it doesn't tell me a whole lot.  The correlation excersizes that I went through tell me that the variables I chose are highly correlated with the outcome price, so thats why I picked them and thought they would be good for future models understanding that this model wouldn't be the greatest given that it is linear regression and that has some violated assumptions.  \n",
    "    \n",
    "    Model Usefulness: \n",
    "    because my mean squared error was so high, I don't think it is that useful.  I wouldn't give my model to anyone else, not very good. "
   ]
  },
  {
   "cell_type": "markdown",
   "metadata": {},
   "source": [
    "Gonna do a more robust linear model, an SGD regressor  to try and get a better RMSE "
   ]
  },
  {
   "cell_type": "code",
   "execution_count": 122,
   "metadata": {},
   "outputs": [
    {
     "name": "stdout",
     "output_type": "stream",
     "text": [
      "(1384,)\n",
      "(1384, 9)\n"
     ]
    }
   ],
   "source": [
    "y = np.log(data.SalePrice)\n",
    "\n",
    "y.head()\n",
    "\n",
    "print(y.shape)\n",
    "\n",
    "print(c_num_data.shape)"
   ]
  },
  {
   "cell_type": "code",
   "execution_count": 41,
   "metadata": {},
   "outputs": [
    {
     "name": "stderr",
     "output_type": "stream",
     "text": [
      "C:\\Users\\13855\\Anaconda3\\lib\\site-packages\\sklearn\\model_selection\\_search.py:271: UserWarning: The total space of parameters 8 is smaller than n_iter=12. Running 8 iterations. For exhaustive searches, use GridSearchCV.\n",
      "  % (grid_size, self.n_iter, grid_size), UserWarning)\n"
     ]
    },
    {
     "name": "stdout",
     "output_type": "stream",
     "text": [
      "Best Parameters: {'eta0': 0.001}\n",
      "Best Negative MSE: -1.3751611835024815e+29\n"
     ]
    },
    {
     "name": "stderr",
     "output_type": "stream",
     "text": [
      "C:\\Users\\13855\\Anaconda3\\lib\\site-packages\\sklearn\\model_selection\\_search.py:841: DeprecationWarning: The default of the `iid` parameter will change from True to False in version 0.22 and will be removed in 0.24. This will change numeric results when test-set sizes are unequal.\n",
      "  DeprecationWarning)\n"
     ]
    }
   ],
   "source": [
    "## starting with a randomized serach for parameters \n",
    "#lerning rate and tolerance \n",
    "\n",
    "#tuning my model, using a validation set\n",
    "\n",
    "\n",
    "from sklearn.model_selection import RandomizedSearchCV\n",
    "\n",
    "#this is my learning rate which is one of my hyper perameters, as is my tolerance \n",
    "param_dist = {\"eta0\": [ .001, .003, .01, .03, .1, .3, 1, 3]}\n",
    "\n",
    "linear_regression_model = SGDRegressor(tol=.0001)\n",
    "\n",
    "n_iter_search = 12\n",
    "random_search = RandomizedSearchCV(linear_regression_model, param_distributions=param_dist,\n",
    "                                   n_iter=n_iter_search, cv=3, scoring='neg_mean_squared_error')\n",
    "\n",
    "random_search.fit(c_num_data, y)\n",
    "\n",
    "print(\"Best Parameters: {}\".format(random_search.best_params_))\n",
    "print(\"Best Negative MSE: {}\".format(random_search.best_score_))\n",
    "\n"
   ]
  },
  {
   "cell_type": "markdown",
   "metadata": {},
   "source": [
    "## Questions \n",
    "\n",
    "Model Selection:\n",
    "The SGD Regressor i thought would work and I chose it because I'm in 314 right now and have discussed the gradient and how it works / what it does, and I was thinking that stochastic aspect of this model would actually work really well given the problem.  Turns out it is pretty trash, even with randomly searching over my learning rate, and chosing my tolerance to be really small, my MSE is still humongous, obviouslt not a good result / model for this data. \n",
    "\n",
    "Model Interpretation: \n",
    "The results don't tell me a whole lot, because the error is so big, whatever it does tell me is not very accurate, I used the same variables as my linear regression, which from my cleaning stage, I know are highly correlated with the outcome variable, but did not do a good job predicting this outcome in this model. -- maybe I could chose smaller values for learning rates, to try and maybe decrease the model, but I don't think that would do much because it is a random search across a bunch of values, so you'd think that would be better than me picking. I am not confident in my results \n",
    "\n",
    "Model Usefulness:\n",
    "given the MSE not very useful, and NO I sould not recommend using this to a company, because it does not predict well. \n",
    "\n"
   ]
  },
  {
   "cell_type": "markdown",
   "metadata": {},
   "source": [
    "## model number 3 - Elastic Net Model \n"
   ]
  },
  {
   "cell_type": "code",
   "execution_count": 43,
   "metadata": {},
   "outputs": [],
   "source": [
    "from sklearn.linear_model import ElasticNetCV"
   ]
  },
  {
   "cell_type": "markdown",
   "metadata": {},
   "source": [
    "## cleaning data the same way I did for my training set \n",
    " question tho, how do I clean the data when I used the \n",
    " outcome of sales price to clean the training data... \n",
    "unfortunently I didn't think about this when I was \n",
    "cleanign the data in the first place \n",
    "\n",
    "\n",
    " lets see if this works "
   ]
  },
  {
   "cell_type": "code",
   "execution_count": 44,
   "metadata": {},
   "outputs": [
    {
     "name": "stdout",
     "output_type": "stream",
     "text": [
      "                 0\n",
      "PoolQC        1456\n",
      "MiscFeature   1408\n",
      "Alley         1352\n",
      "Fence         1169\n",
      "FireplaceQu    730\n",
      "LotFrontage    227\n",
      "GarageCond      78\n",
      "GarageQual      78\n",
      "GarageYrBlt     78\n",
      "GarageFinish    78\n",
      "GarageType      76\n",
      "BsmtCond        45\n",
      "BsmtQual        44\n",
      "BsmtExposure    44\n",
      "BsmtFinType1    42\n",
      "BsmtFinType2    42\n",
      "MasVnrType      16\n",
      "MasVnrArea      15\n",
      "MSZoning         4\n",
      "BsmtHalfBath     2\n",
      "Utilities        2\n",
      "Functional       2\n",
      "BsmtFullBath     2\n",
      "BsmtFinSF2       1\n",
      "BsmtFinSF1       1\n",
      "Exterior2nd      1\n",
      "BsmtUnfSF        1\n",
      "TotalBsmtSF      1\n",
      "SaleType         1\n",
      "Exterior1st      1\n",
      "KitchenQual      1\n",
      "GarageArea       1\n",
      "GarageCars       1\n",
      "HouseStyle       0\n",
      "LandSlope        0\n"
     ]
    }
   ],
   "source": [
    "## I need to make the log of my sales price the same size\n",
    "# of my test data before I clean it, \n",
    "\n",
    "#going to re load my train set to clean my data real fast\n",
    "\n",
    "train = pd.read_csv('C:/Users/13855/Desktop/213 Machine learning/train.csv')\n",
    "log_price = np.log(train.SalePrice)\n",
    "\n",
    "# now checking to see if the data I want to use has missing values \n",
    "\n",
    "nulls_t = pd.DataFrame(test.isnull().sum().sort_values(ascending=False)[:35])\n",
    "\n",
    "print(nulls_t)\n",
    "\n",
    "#train.head()\n"
   ]
  },
  {
   "cell_type": "markdown",
   "metadata": {},
   "source": [
    "unfortunently some of the variables I used have missing values, I think that I will just fill in the missing values with\n",
    "the mean because I used all numeric columns and since there isnt lots of missing data, I dont think this is a bad assumption\n",
    "\n",
    "here all my columns \n",
    "['OverallQual', 'GrLivArea', 'GarageCars',\n",
    "                  'GarageArea', 'TotRmsAbvGrd', 'TotalBsmtSF',\n",
    "                  '1stFlrSF', 'YearBuilt', 'FullBath']\n",
    "                  \n",
    "none in overal quality, none in gr living area, none in garage cars, ONE in garage area, \n",
    "Totrms above ground has none, ONE in TotalBsmtSF, 1st floor has none, year built, has none, and full bath has none \n"
   ]
  },
  {
   "cell_type": "code",
   "execution_count": 45,
   "metadata": {},
   "outputs": [
    {
     "name": "stdout",
     "output_type": "stream",
     "text": [
      "OverallQual     0\n",
      "GrLivArea       0\n",
      "GarageCars      0\n",
      "GarageArea      0\n",
      "TotRmsAbvGrd    0\n",
      "TotalBsmtSF     0\n",
      "1stFlrSF        0\n",
      "YearBuilt       0\n",
      "FullBath        0\n",
      "dtype: int64\n"
     ]
    }
   ],
   "source": [
    "#filling in missing with mean \n",
    "\n",
    "test.loc[test['TotRmsAbvGrd'].isnull(),'TotRmsAbvGrd'] = test['TotRmsAbvGrd'].mean()\n",
    "test.loc[test['GarageArea'].isnull(),'GarageArea'] = test['GarageArea'].mean()\n",
    "test.loc[test['TotalBsmtSF'].isnull(),'TotalBsmtSF'] = test['TotalBsmtSF'].mean()\n",
    "test.loc[test['GarageCars'].isnull(),'GarageCars'] = test['GarageCars'].mean()\n",
    "\n",
    "\n",
    "## ok build the data frame that I used to train \n",
    "\n",
    "test_vari = test[['OverallQual', 'GrLivArea', 'GarageCars',\n",
    "                  'GarageArea', 'TotRmsAbvGrd', 'TotalBsmtSF',\n",
    "                  '1stFlrSF', 'YearBuilt', 'FullBath']]\n",
    "\n",
    "print(test_vari.isnull().sum())\n",
    "\n",
    "## ok no null values "
   ]
  },
  {
   "cell_type": "code",
   "execution_count": 46,
   "metadata": {},
   "outputs": [],
   "source": [
    "#creating a test \n",
    "x_train, x_test, y_train, y_test = train_test_split(c_num_data, y)"
   ]
  },
  {
   "cell_type": "code",
   "execution_count": 51,
   "metadata": {},
   "outputs": [
    {
     "name": "stdout",
     "output_type": "stream",
     "text": [
      "Train MSE: 0.025440621289142477\n",
      "bruh thats small\n"
     ]
    },
    {
     "name": "stderr",
     "output_type": "stream",
     "text": [
      "C:\\Users\\13855\\Anaconda3\\lib\\site-packages\\sklearn\\model_selection\\_split.py:2053: FutureWarning: You should specify a value for 'cv' instead of relying on the default value. The default value will change from 3 to 5 in version 0.22.\n",
      "  warnings.warn(CV_WARNING, FutureWarning)\n"
     ]
    }
   ],
   "source": [
    "clf = ElasticNetCV(l1_ratio=[.1, .5, .7, .9, .95, .99, 1], alphas=[.1, 1, 10])\n",
    "#clf = ElasticNetCV(l1_ratio=[0.0001], alphas=[.1, 1, 10])\n",
    "\n",
    "#alpha is what kind of penalty I am giving a coeficients that don't do well get penalized, so when alpha = 0\n",
    "#thats basically ols because there is no penalty, \n",
    "\n",
    "## the higher alpha is, the more uncorrelated variables will \n",
    "#print(clf)\n",
    "# be closer to zero \n",
    "\n",
    "clf.fit(x_train, y_train)\n",
    "\n",
    "train_predictions = clf.predict(x_train)\n",
    "#test_predictions = clf.predict(test_vari)\n",
    "\n",
    "print(\"Train MSE: {}\".format(mean_squared_error(train_predictions, y_train)))\n",
    "\n",
    "print(\"bruh thats small\")"
   ]
  },
  {
   "cell_type": "code",
   "execution_count": 71,
   "metadata": {},
   "outputs": [
    {
     "data": {
      "image/png": "[encoded data removed]",
      "text/plain": [
       "<Figure size 720x432 with 1 Axes>"
      ]
     },
     "metadata": {},
     "output_type": "display_data"
    },
    {
     "name": "stdout",
     "output_type": "stream",
     "text": [
      "       OverallQual    GrLivArea   GarageCars   GarageArea  TotRmsAbvGrd  \\\n",
      "count  1459.000000  1459.000000  1459.000000  1459.000000   1459.000000   \n",
      "mean      6.078821  1486.045922     1.766118   472.768861      6.385195   \n",
      "std       1.436812   485.566099     0.775679   216.974165      1.508895   \n",
      "min       1.000000   407.000000     0.000000     0.000000      3.000000   \n",
      "25%       5.000000  1117.500000     1.000000   318.000000      5.000000   \n",
      "50%       6.000000  1432.000000     2.000000   480.000000      6.000000   \n",
      "75%       7.000000  1721.000000     2.000000   576.000000      7.000000   \n",
      "max      10.000000  5095.000000     5.000000  1488.000000     15.000000   \n",
      "\n",
      "       TotalBsmtSF     1stFlrSF    YearBuilt     FullBath  \n",
      "count  1459.000000  1459.000000  1459.000000  1459.000000  \n",
      "mean   1046.117970  1156.534613  1971.357779     1.570939  \n",
      "std     442.746712   398.165820    30.390071     0.555190  \n",
      "min       0.000000   407.000000  1879.000000     0.000000  \n",
      "25%     784.000000   873.500000  1953.000000     1.000000  \n",
      "50%     988.000000  1079.000000  1973.000000     2.000000  \n",
      "75%    1304.000000  1382.500000  2001.000000     2.000000  \n",
      "max    5095.000000  5095.000000  2010.000000     4.000000  \n"
     ]
    }
   ],
   "source": [
    "test_predict = clf.predict(test_vari)\n",
    "\n",
    "plt.hist(test_predict, color = \"red\")\n",
    "plt.show()\n",
    "\n",
    "pred = pd.DataFrame(test_vari)\n",
    "\n",
    "print(pred.describe())\n"
   ]
  },
  {
   "cell_type": "code",
   "execution_count": 52,
   "metadata": {},
   "outputs": [
    {
     "name": "stdout",
     "output_type": "stream",
     "text": [
      "test MSE: 0.0212831467802646\n",
      "[12.21414699 11.90059592 11.30579919 12.21220193 12.02283405 12.15715952\n",
      " 12.59932318 12.3054202  11.75808989 12.4084088  11.81090293 11.59122558\n",
      " 12.43929039 11.69551256 11.70475477 12.46672723 11.21715976 12.31882951\n",
      " 11.94018612 11.68478751 11.66940224 11.99519077 11.54244557 11.72268026\n",
      " 12.32379208 12.10574899 12.73726974 12.18731956 12.38916207 12.00038008\n",
      " 12.10528036 12.02975894 11.70621944 11.52986435 11.65957552 12.46176641\n",
      " 12.733958   11.74007055 11.69710844 11.53033543 12.45561369 12.47702986\n",
      " 12.49644552 11.40493559 11.90300864 12.48990174 11.93341215 11.74092026\n",
      " 12.21243536 11.71933972 12.16017676 12.38016578 12.11656627 12.29828708\n",
      " 11.70179051 12.6776339  12.13007134 11.34531167 11.88832371 11.43219448\n",
      " 11.66443951 11.68282165 12.24719075 11.7228735  11.69782325 12.65022442\n",
      " 11.67189753 12.62941956 11.36912608 11.57257003 11.68260121 11.84999636\n",
      " 12.16784124 12.56614735 12.45211888 11.60139197 11.72695541 12.05055844\n",
      " 11.37615716 11.93199498 12.64636122 11.46390446 12.22645277 12.51927946\n",
      " 11.8750729  11.8701975  12.06469913 11.94896032 12.50606974 11.83355012\n",
      " 12.2269067  12.12998785 11.68076328 12.53551066 11.37065642 11.94495057\n",
      " 12.12227523 12.55009686 12.22701935 12.10101566 12.13802782 11.70717382\n",
      " 11.69949622 12.26759146 11.66246322 11.35461412 11.39411636 11.50427289\n",
      " 12.17996185 11.50763555 12.02981955 11.86185827 11.54490791 12.02169511\n",
      " 11.60488163 11.78269433 12.40528702 11.79679193 11.99289266 12.33337768\n",
      " 11.56491267 11.64370899 11.71308241 12.045405   11.54668206 11.63157537\n",
      " 11.62708417 11.57293835 12.00690254 11.71638052 12.67472066 12.15794803\n",
      " 11.78652388 12.02539474 12.25432622 12.46146145 11.65047962 12.49459743\n",
      " 11.72790859 11.91014043 11.49457419 12.2024347  12.20478089 11.86505258\n",
      " 11.91912157 12.15140387 11.85825441 11.91030377 11.88388789 11.86956412\n",
      " 11.68149966 12.30053727 11.94466494 12.45639416 11.70901661 11.64361209\n",
      " 11.90803107 12.12355257 12.23585291 12.30019635 12.26247873 12.13359959\n",
      " 12.37307884 11.98824939 11.80039104 11.38419203 12.11091598 12.61023402\n",
      " 12.6590881  11.77954141 11.35090134 11.93772687 12.09889213 12.28950687\n",
      " 11.48948458 12.51540557 12.10261852 12.00038008 12.41642179 12.19936846\n",
      " 11.78512643 11.9401446  12.70108498 12.17543613 11.64936263 11.97667268\n",
      " 11.62583455 12.08684515 11.64214944 12.49242998 11.74403217 12.44852454\n",
      " 12.23415515 12.54059891 12.40417247 11.84999636 11.52991544 12.35953213\n",
      " 12.12690714 11.68628803 11.90636858 12.88848435 12.24796912 11.78988281\n",
      " 12.6635123  12.22269998 12.06879693 11.73545663 12.13203855 12.26206663\n",
      " 11.7344856  12.07302772 11.84485368 12.58707653 12.03184167 11.90363581\n",
      " 11.84145284 12.58122753 12.46164919 12.01969019 12.43667093 11.96138859\n",
      " 11.78654372 12.33194927 12.19696325 11.16499251 11.66361537 11.2812405\n",
      " 12.39071569 12.33568275 11.79517944 11.77139667 12.25476958 12.00895975\n",
      " 11.84041765 11.65193936 12.30241064 12.55218678 12.12055336 12.36695888\n",
      " 11.46522722 11.77884906 12.31903924 12.51279307 11.77404211 12.15721917\n",
      " 11.61610637 12.28926861 12.17694181 12.17315558 12.62181289 12.11709515\n",
      " 12.17822639 11.71593378 12.0777674  12.54563867 11.4974806  11.73205516\n",
      " 11.45972123 12.54293902 12.0224882  11.80184945 12.26172423 12.11163785\n",
      " 12.30494649 12.62132259 11.88808096 12.55931657 12.38111776 12.33646689\n",
      " 12.68652675 11.11310213 11.93116176 12.00405739 11.65584111 11.23226246\n",
      " 11.5272069  11.84243871 12.52556066 12.34131727 12.0176991  12.02589286\n",
      " 11.74116098 12.44390811 11.63724004 12.39483354 11.96568119 12.42248347\n",
      " 11.76411386 11.74403077 12.08747094 12.3550464  11.75631644 11.69775844\n",
      " 11.64362815 11.79938982 11.79767398 11.77368963 12.21950712 11.97785287\n",
      " 11.86670842 11.53431617 11.37372469 12.17000719 12.09755551 12.4606745\n",
      " 11.61897461 11.75550204 11.59307237 12.24128244 11.86788729 11.69920328\n",
      " 11.70186342 11.8177521  12.0492045  11.70195588 11.82025806 11.4752766\n",
      " 12.19918404 12.27477155 11.85795731 11.9502437  12.23028513 12.25455801\n",
      " 12.30632224 12.00183883 11.69618799 12.70256139 12.11589524 12.23355629\n",
      " 12.0290049  11.50793679 11.66022109 12.07987603 12.06281647 11.68358464\n",
      " 11.67462193 12.32539388 11.82153224 11.69830936 11.86249801 12.03570303\n",
      " 12.48817134 11.93144735 12.14971148 11.64902344]\n"
     ]
    }
   ],
   "source": [
    "#clf = ElasticNetCV(l1_ratio=[.1, .5, .7, .9, .95, .99, 1], alphas=[.1, 1, 10])\n",
    "## the higher alpha is, the more uncorrelated variables will \n",
    "# be closer to zero \n",
    "\n",
    "#clf.fit(c_num_data, y)\n",
    "#clf.fit(test_vari, y)\n",
    "\n",
    "prediction = clf.predict(x_test)\n",
    "print(\"test MSE: {}\".format(mean_squared_error(prediction, y_test)))\n",
    "\n",
    "print(prediction)"
   ]
  },
  {
   "cell_type": "markdown",
   "metadata": {},
   "source": [
    "These are the logs of my predictions, which look awesome, they have the basically the same mean and same standard deviation\n",
    "as the graph from the train data and these are my test predictions."
   ]
  },
  {
   "cell_type": "code",
   "execution_count": 77,
   "metadata": {},
   "outputs": [],
   "source": [
    "house_num = test.Id"
   ]
  },
  {
   "cell_type": "code",
   "execution_count": 78,
   "metadata": {},
   "outputs": [],
   "source": [
    "sub = pd.DataFrame({'id':house_num, \"SalePrice\":test_predict}) \n",
    "sub.to_csv(\"FILE\", index = False)"
   ]
  },
  {
   "cell_type": "code",
   "execution_count": 79,
   "metadata": {},
   "outputs": [
    {
     "name": "stdout",
     "output_type": "stream",
     "text": [
      "[ 7.27423471e-02  3.10329324e-04  0.00000000e+00  2.64201847e-04\n",
      " -0.00000000e+00  1.79478162e-04  2.88555292e-05  3.06827043e-03\n",
      " -0.00000000e+00]\n"
     ]
    },
    {
     "data": {
      "text/html": [
       "<div>\n",
       "<style scoped>\n",
       "    .dataframe tbody tr th:only-of-type {\n",
       "        vertical-align: middle;\n",
       "    }\n",
       "\n",
       "    .dataframe tbody tr th {\n",
       "        vertical-align: top;\n",
       "    }\n",
       "\n",
       "    .dataframe thead th {\n",
       "        text-align: right;\n",
       "    }\n",
       "</style>\n",
       "<table border=\"1\" class=\"dataframe\">\n",
       "  <thead>\n",
       "    <tr style=\"text-align: right;\">\n",
       "      <th></th>\n",
       "      <th>OverallQual</th>\n",
       "      <th>GrLivArea</th>\n",
       "      <th>GarageCars</th>\n",
       "      <th>GarageArea</th>\n",
       "      <th>TotRmsAbvGrd</th>\n",
       "      <th>TotalBsmtSF</th>\n",
       "      <th>1stFlrSF</th>\n",
       "      <th>YearBuilt</th>\n",
       "      <th>FullBath</th>\n",
       "    </tr>\n",
       "  </thead>\n",
       "  <tbody>\n",
       "    <tr>\n",
       "      <th>0</th>\n",
       "      <td>5</td>\n",
       "      <td>896</td>\n",
       "      <td>1.0</td>\n",
       "      <td>730.0</td>\n",
       "      <td>5.0</td>\n",
       "      <td>882.0</td>\n",
       "      <td>896</td>\n",
       "      <td>1961</td>\n",
       "      <td>1</td>\n",
       "    </tr>\n",
       "    <tr>\n",
       "      <th>1</th>\n",
       "      <td>6</td>\n",
       "      <td>1329</td>\n",
       "      <td>1.0</td>\n",
       "      <td>312.0</td>\n",
       "      <td>6.0</td>\n",
       "      <td>1329.0</td>\n",
       "      <td>1329</td>\n",
       "      <td>1958</td>\n",
       "      <td>1</td>\n",
       "    </tr>\n",
       "    <tr>\n",
       "      <th>2</th>\n",
       "      <td>5</td>\n",
       "      <td>1629</td>\n",
       "      <td>2.0</td>\n",
       "      <td>482.0</td>\n",
       "      <td>6.0</td>\n",
       "      <td>928.0</td>\n",
       "      <td>928</td>\n",
       "      <td>1997</td>\n",
       "      <td>2</td>\n",
       "    </tr>\n",
       "    <tr>\n",
       "      <th>3</th>\n",
       "      <td>6</td>\n",
       "      <td>1604</td>\n",
       "      <td>2.0</td>\n",
       "      <td>470.0</td>\n",
       "      <td>7.0</td>\n",
       "      <td>926.0</td>\n",
       "      <td>926</td>\n",
       "      <td>1998</td>\n",
       "      <td>2</td>\n",
       "    </tr>\n",
       "    <tr>\n",
       "      <th>4</th>\n",
       "      <td>8</td>\n",
       "      <td>1280</td>\n",
       "      <td>2.0</td>\n",
       "      <td>506.0</td>\n",
       "      <td>5.0</td>\n",
       "      <td>1280.0</td>\n",
       "      <td>1280</td>\n",
       "      <td>1992</td>\n",
       "      <td>2</td>\n",
       "    </tr>\n",
       "  </tbody>\n",
       "</table>\n",
       "</div>"
      ],
      "text/plain": [
       "   OverallQual  GrLivArea  GarageCars  GarageArea  TotRmsAbvGrd  TotalBsmtSF  \\\n",
       "0            5        896         1.0       730.0           5.0        882.0   \n",
       "1            6       1329         1.0       312.0           6.0       1329.0   \n",
       "2            5       1629         2.0       482.0           6.0        928.0   \n",
       "3            6       1604         2.0       470.0           7.0        926.0   \n",
       "4            8       1280         2.0       506.0           5.0       1280.0   \n",
       "\n",
       "   1stFlrSF  YearBuilt  FullBath  \n",
       "0       896       1961         1  \n",
       "1      1329       1958         1  \n",
       "2       928       1997         2  \n",
       "3       926       1998         2  \n",
       "4      1280       1992         2  "
      ]
     },
     "execution_count": 79,
     "metadata": {},
     "output_type": "execute_result"
    }
   ],
   "source": [
    "print(clf.coef_)\n",
    "\n",
    "test_vari.head()\n",
    "\n",
    "# these are all suprisingly very small and similary, although it looks like the biggest one is \n",
    "#overal quality year built and square footage of the first floor, and garage area. "
   ]
  },
  {
   "cell_type": "markdown",
   "metadata": {},
   "source": [
    "## Questions\n",
    "\n",
    "\n",
    "model selection:\n",
    "The Elastic Net model is a mix of the lasso and ridge, I found that the more ridge I did, the better and better my MSE became, so I set my L1 ration to be .0001 so that it would be essentially a ridge model. My hyper parameters are my alphas, the penalization rate of my coeficients that predict poorly the outcome.  Those two, L1 and alpha are my hyper perameters for this model. \n",
    "\n",
    "Model Interpretation: \n",
    "I used a train test split on my data to maximize both the amount of train data and the amount of test data.  I split it into a training data set of .75 and a test size of .25 by default. Again, I used the variables that were highly correlated, and if you look at the graph that it outputted, the mean and standard deviation of my train data were 12.02405 and 0.399452, where as the mean and std dev of my predictions were 12.018007 and 0.380050, so pretty close there.  That with a low mean squared error, tells me that my predictions are accurate to the log of the sales price with roughly the same mean and distribution. So I am confident in the results because of those tow things. \n",
    "\n",
    "Model Usefulness:\n",
    "Yes I think they are useful, the model preforms well and I would feel comfortable predicting the sales price of a home, simply raise it to the e, and that would give me the price.  The model will preform best on homes that are on the inner quartile range, but outside of that, there are obviously other variables at play so it makes it harder to trust the model. "
   ]
  },
  {
   "cell_type": "code",
   "execution_count": null,
   "metadata": {},
   "outputs": [],
   "source": []
  },
  {
   "cell_type": "code",
   "execution_count": null,
   "metadata": {},
   "outputs": [],
   "source": []
  }
 ],
 "metadata": {
  "kernelspec": {
   "display_name": "Python 3",
   "language": "python",
   "name": "python3"
  },
  "language_info": {
   "codemirror_mode": {
    "name": "ipython",
    "version": 3
   },
   "file_extension": ".py",
   "mimetype": "text/x-python",
   "name": "python",
   "nbconvert_exporter": "python",
   "pygments_lexer": "ipython3",
   "version": "3.7.1"
  }
 },
 "nbformat": 4,
 "nbformat_minor": 2
}
