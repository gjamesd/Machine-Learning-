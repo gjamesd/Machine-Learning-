{
  "nbformat": 4,
  "nbformat_minor": 0,
  "metadata": {
    "kernelspec": {
      "name": "python3",
      "display_name": "Python 3"
    },
    "language_info": {
      "codemirror_mode": {
        "name": "ipython",
        "version": 3
      },
      "file_extension": ".py",
      "mimetype": "text/x-python",
      "name": "python",
      "nbconvert_exporter": "python",
      "pygments_lexer": "ipython3",
      "version": "3.7.4"
    },
    "colab": {
      "name": "James _Griffin_problem_set_3.ipynb",
      "provenance": [],
      "collapsed_sections": [],
      "toc_visible": true
    },
    "accelerator": "GPU"
  },
  "cells": [
    {
      "cell_type": "markdown",
      "metadata": {
        "id": "pGmkaj1GMPL0",
        "colab_type": "text"
      },
      "source": [
        "# Problem Set 3"
      ]
    },
    {
      "cell_type": "code",
      "metadata": {
        "id": "r1EZUyhhMPMR",
        "colab_type": "code",
        "outputId": "0452e73b-90b1-4538-da18-c215d42c88fa",
        "colab": {
          "base_uri": "https://localhost:8080/",
          "height": 120
        }
      },
      "source": [
        "from google.colab import drive\n",
        "drive.mount('/content/drive')"
      ],
      "execution_count": 1,
      "outputs": [
        {
          "output_type": "stream",
          "text": [
            "Go to this URL in a browser: https://accounts.google.com/o/oauth2/auth?client_id=947318989803-6bn6qk8qdgf4n4g3pfee6491hc0brc4i.apps.googleusercontent.com&redirect_uri=urn%3Aietf%3Awg%3Aoauth%3A2.0%3Aoob&scope=email%20https%3A%2F%2Fwww.googleapis.com%2Fauth%2Fdocs.test%20https%3A%2F%2Fwww.googleapis.com%2Fauth%2Fdrive%20https%3A%2F%2Fwww.googleapis.com%2Fauth%2Fdrive.photos.readonly%20https%3A%2F%2Fwww.googleapis.com%2Fauth%2Fpeopleapi.readonly&response_type=code\n",
            "\n",
            "Enter your authorization code:\n",
            "··········\n",
            "Mounted at /content/drive\n"
          ],
          "name": "stdout"
        }
      ]
    },
    {
      "cell_type": "code",
      "metadata": {
        "id": "VgW1IpUqM25c",
        "colab_type": "code",
        "colab": {}
      },
      "source": [
        "## importing cuz free trade lol bad joke \n",
        "import pandas as pd\n",
        "import numpy as np\n",
        "from sklearn.ensemble import RandomForestRegressor\n",
        "from sklearn.model_selection import train_test_split, GridSearchCV\n",
        "from sklearn.metrics import f1_score, classification_report\n",
        "from collections import Counter\n",
        "from sklearn.metrics import classification_report, roc_auc_score\n",
        "from sklearn.ensemble import GradientBoostingRegressor\n",
        "from sklearn.metrics import mean_squared_error\n",
        "from pprint import pprint\n",
        "from sklearn.tree import DecisionTreeRegressor\n",
        "from sklearn import tree"
      ],
      "execution_count": 0,
      "outputs": []
    },
    {
      "cell_type": "code",
      "metadata": {
        "id": "9gmPXNkt0ndE",
        "colab_type": "code",
        "colab": {}
      },
      "source": [
        ""
      ],
      "execution_count": 0,
      "outputs": []
    },
    {
      "cell_type": "markdown",
      "metadata": {
        "id": "wH0aM1yWMPMX",
        "colab_type": "text"
      },
      "source": [
        "For the next problem we will be using the `Carseats` data set that is available on learningsuite. Load the data and convert the text variables into dummies so that we can use them in the data. Pandas has a function called `get_dummies` that you might want to use."
      ]
    },
    {
      "cell_type": "code",
      "metadata": {
        "id": "Nj5C3JUPMPMY",
        "colab_type": "code",
        "outputId": "7f38aaff-332a-4b24-a77b-955120fde392",
        "colab": {
          "base_uri": "https://localhost:8080/",
          "height": 100
        }
      },
      "source": [
        "car = pd.read_csv(\"/content/drive/My Drive/Carseats.csv\")\n",
        "car.head()\n",
        "#ok so it looks like I have dummy variables in Urban, US, ShelveLoc\n",
        "\n",
        "dummies = pd.get_dummies(car[[\"Urban\", \"US\", \"ShelveLoc\"]])\n",
        "dummies.head()\n",
        "car = pd.concat([car, dummies], axis = 1) #axis = 1 denotes columns vs rows\n",
        "car.head()\n",
        "#excelent now I can delete my orriginal shelveloc, us and urban columns \n",
        "\n",
        "car.drop(axis = 1, columns = [\"Urban\", \"US\", \"ShelveLoc\"], inplace = True)\n",
        "car.columns"
      ],
      "execution_count": 3,
      "outputs": [
        {
          "output_type": "execute_result",
          "data": {
            "text/plain": [
              "Index(['Unnamed: 0', 'Sales', 'CompPrice', 'Income', 'Advertising',\n",
              "       'Population', 'Price', 'Age', 'Education', 'Urban_No', 'Urban_Yes',\n",
              "       'US_No', 'US_Yes', 'ShelveLoc_Bad', 'ShelveLoc_Good',\n",
              "       'ShelveLoc_Medium'],\n",
              "      dtype='object')"
            ]
          },
          "metadata": {
            "tags": []
          },
          "execution_count": 3
        }
      ]
    },
    {
      "cell_type": "markdown",
      "metadata": {
        "id": "5XHW4w3gMPMb",
        "colab_type": "text"
      },
      "source": [
        "Now that the data has only numeric columns, we can proceed to the analysis.  \n",
        "Use `Sales` as the outcome variable  \n",
        "(a) Split the data set into a training set and a test set.  \n",
        "(b) Fit a regression tree to the training set.  What test MSE do you obtain?  \n",
        "(c) Use cross-validation in order to determine the optimal level of tree complexity. Does pruning the tree improve the test MSE? Plot a tree with a depth of 3, and interpret the results.  \n",
        "(d) Use the bagging approach in order to analyze this data. What test MSE do you obtain? Look at the feature importances attribute of your model object to determine which variables are most important.  \n",
        "(e) Use random forests to analyze this data. What test MSE do you obtain? Look at the feature importances attribute of your model objec function to determine which variables are most important. Describe the effect of m, the number of variables considered at each split, on the error rate obtained."
      ]
    },
    {
      "cell_type": "code",
      "metadata": {
        "id": "pSfcQAJfMPMc",
        "colab_type": "code",
        "outputId": "80dc6648-57ea-47fa-de86-e2ed3764bba7",
        "colab": {
          "base_uri": "https://localhost:8080/",
          "height": 83
        }
      },
      "source": [
        "# A)\n",
        "y = car.Sales\n",
        "#selecting all data except for Sales \n",
        "car = car.loc[:, car.columns != \"Sales\"]\n",
        "car.columns"
      ],
      "execution_count": 4,
      "outputs": [
        {
          "output_type": "execute_result",
          "data": {
            "text/plain": [
              "Index(['Unnamed: 0', 'CompPrice', 'Income', 'Advertising', 'Population',\n",
              "       'Price', 'Age', 'Education', 'Urban_No', 'Urban_Yes', 'US_No', 'US_Yes',\n",
              "       'ShelveLoc_Bad', 'ShelveLoc_Good', 'ShelveLoc_Medium'],\n",
              "      dtype='object')"
            ]
          },
          "metadata": {
            "tags": []
          },
          "execution_count": 4
        }
      ]
    },
    {
      "cell_type": "code",
      "metadata": {
        "id": "jLhfYQA0RN34",
        "colab_type": "code",
        "outputId": "1615d509-9768-44ae-944c-8dbeb3f6c502",
        "colab": {
          "base_uri": "https://localhost:8080/",
          "height": 33
        }
      },
      "source": [
        "X_train, X_test, y_train, y_test = train_test_split(car, y,\n",
        "                                                   test_size = 0.33,\n",
        "                                                   random_state = 42)\n",
        "#print(y_train)\n",
        "#decision trees -- gonna do a random forest cuz I think thats more effective.. \n",
        "# hope that is ok  \n",
        "#(b) Fit a regression tree to the training set. What test MSE do you obtain?\n",
        "'''creating an object from the class'''\n",
        "dt = DecisionTreeRegressor(random_state = 42)\n",
        "#fitting the random forest to our training \n",
        "dt.fit(X_train, y_train)\n",
        "#creating our test predictions of which node they will be under \n",
        "test_predictions = dt.predict(X_test)\n",
        "#getting test mse \n",
        "test_mse = mean_squared_error(y_test, test_predictions)\n",
        "#printing \n",
        "print(\"Test MSE: {}\".format(test_mse))"
      ],
      "execution_count": 5,
      "outputs": [
        {
          "output_type": "stream",
          "text": [
            "Test MSE: 4.335544696969697\n"
          ],
          "name": "stdout"
        }
      ]
    },
    {
      "cell_type": "code",
      "metadata": {
        "id": "U8mKiIh7nyLe",
        "colab_type": "code",
        "outputId": "886f1dca-229d-4f9a-f06e-831a77aae04f",
        "colab": {
          "base_uri": "https://localhost:8080/",
          "height": 103
        }
      },
      "source": [
        "'''c) Use cross-validation in order to determine the optimal level of tree \n",
        "complexity. Does pruning the tree improve the test MSE? Plot a tree with a \n",
        "depth of 3, and interpret the results.'''\n",
        "\n",
        "#creating a grid to search over\n",
        "                        #different scoreing types \n",
        "param_grid = {\"criterion\": [\"mse\", \"mae\"], \n",
        "              \"min_samples_split\": [10, 20, 40], #sample splits \n",
        "              \"max_depth\": [2, 6, 8, 10],\n",
        "              \"min_samples_leaf\": [20, 40, 60, 80, 100],\n",
        "              \"max_leaf_nodes\": [5, 10, 15, 20, 25],\n",
        "              }\n",
        "#creatubg grid search over the range of the tree lengths \n",
        "gs = GridSearchCV(dt, \n",
        "                  param_grid, \n",
        "                  cv=5)\n",
        "#fitting\n",
        "gs.fit(X_train, y_train)\n",
        "#finding the best parameters \n",
        "print(\"best parameters\")\n",
        "print(gs.best_params_)"
      ],
      "execution_count": 6,
      "outputs": [
        {
          "output_type": "stream",
          "text": [
            "best parameters\n",
            "{'criterion': 'mse', 'max_depth': 6, 'max_leaf_nodes': 10, 'min_samples_leaf': 20, 'min_samples_split': 10}\n"
          ],
          "name": "stdout"
        },
        {
          "output_type": "stream",
          "text": [
            "/usr/local/lib/python3.6/dist-packages/sklearn/model_selection/_search.py:814: DeprecationWarning: The default of the `iid` parameter will change from True to False in version 0.22 and will be removed in 0.24. This will change numeric results when test-set sizes are unequal.\n",
            "  DeprecationWarning)\n"
          ],
          "name": "stderr"
        }
      ]
    },
    {
      "cell_type": "code",
      "metadata": {
        "id": "SgYtJaE-kjKV",
        "colab_type": "code",
        "outputId": "787f618e-e709-446e-c847-4a10bd862d58",
        "colab": {
          "base_uri": "https://localhost:8080/",
          "height": 70
        }
      },
      "source": [
        "#getting test results \n",
        "gs_preds = gs.predict(X_test)\n",
        "gs_mse = mean_squared_error(gs_preds, y_test)\n",
        "print(\"GS MSE: {}\".format(gs_mse))\n",
        "\n",
        "'''#interesting, so our grid search did worse but only slightly, \n",
        "what probably happened is it over fitted in training so it preformed\n",
        "worse out of sample, but I am surprised that it is only a few decimal pts\n",
        "off ''' "
      ],
      "execution_count": 7,
      "outputs": [
        {
          "output_type": "stream",
          "text": [
            "GS MSE: 4.5384443125568525\n"
          ],
          "name": "stdout"
        },
        {
          "output_type": "execute_result",
          "data": {
            "text/plain": [
              "'#interesting, so our grid search did worse but only slightly, \\nwhat probably happened is it over fitted in training so it preformed\\nworse out of sample, but I am surprised that it is only a few decimal pts\\noff '"
            ]
          },
          "metadata": {
            "tags": []
          },
          "execution_count": 7
        }
      ]
    },
    {
      "cell_type": "code",
      "metadata": {
        "id": "1_Hf-WkolHWj",
        "colab_type": "code",
        "outputId": "29b46575-fae1-431b-e051-9e7078d0ca75",
        "colab": {
          "base_uri": "https://localhost:8080/",
          "height": 654
        }
      },
      "source": [
        "from sklearn.tree import export_graphviz\n",
        "export_graphviz(dt, \n",
        "                out_file=\"tree.dot\",\n",
        "                feature_names = car.columns,\n",
        "                max_depth = 3)\n",
        "\n",
        "import graphviz\n",
        "\n",
        "with open(\"tree.dot\") as f:\n",
        "    dot_graph = f.read()\n",
        "display(graphviz.Source(dot_graph))"
      ],
      "execution_count": 8,
      "outputs": [
        {
          "output_type": "display_data",
          "data": {
            "text/plain": [
              "<graphviz.files.Source at 0x7fa772490f98>"
            ],
            "image/svg+xml": "<?xml version=\"1.0\" encoding=\"UTF-8\" standalone=\"no\"?>\n<!DOCTYPE svg PUBLIC \"-//W3C//DTD SVG 1.1//EN\"\n \"http://www.w3.org/Graphics/SVG/1.1/DTD/svg11.dtd\">\n<!-- Generated by graphviz version 2.40.1 (20161225.0304)\n -->\n<!-- Title: Tree Pages: 1 -->\n<svg width=\"1210pt\" height=\"460pt\"\n viewBox=\"0.00 0.00 1210.00 460.00\" xmlns=\"http://www.w3.org/2000/svg\" xmlns:xlink=\"http://www.w3.org/1999/xlink\">\n<g id=\"graph0\" class=\"graph\" transform=\"scale(1 1) rotate(0) translate(4 456)\">\n<title>Tree</title>\n<polygon fill=\"#ffffff\" stroke=\"transparent\" points=\"-4,4 -4,-456 1206,-456 1206,4 -4,4\"/>\n<!-- 0 -->\n<g id=\"node1\" class=\"node\">\n<title>0</title>\n<polygon fill=\"none\" stroke=\"#000000\" points=\"689.5,-452 528.5,-452 528.5,-384 689.5,-384 689.5,-452\"/>\n<text text-anchor=\"middle\" x=\"609\" y=\"-436.8\" font-family=\"Times,serif\" font-size=\"14.00\" fill=\"#000000\">ShelveLoc_Good &lt;= 0.5</text>\n<text text-anchor=\"middle\" x=\"609\" y=\"-421.8\" font-family=\"Times,serif\" font-size=\"14.00\" fill=\"#000000\">mse = 7.758</text>\n<text text-anchor=\"middle\" x=\"609\" y=\"-406.8\" font-family=\"Times,serif\" font-size=\"14.00\" fill=\"#000000\">samples = 268</text>\n<text text-anchor=\"middle\" x=\"609\" y=\"-391.8\" font-family=\"Times,serif\" font-size=\"14.00\" fill=\"#000000\">value = 7.298</text>\n</g>\n<!-- 1 -->\n<g id=\"node2\" class=\"node\">\n<title>1</title>\n<polygon fill=\"none\" stroke=\"#000000\" points=\"504.5,-348 401.5,-348 401.5,-280 504.5,-280 504.5,-348\"/>\n<text text-anchor=\"middle\" x=\"453\" y=\"-332.8\" font-family=\"Times,serif\" font-size=\"14.00\" fill=\"#000000\">Price &lt;= 105.5</text>\n<text text-anchor=\"middle\" x=\"453\" y=\"-317.8\" font-family=\"Times,serif\" font-size=\"14.00\" fill=\"#000000\">mse = 6.291</text>\n<text text-anchor=\"middle\" x=\"453\" y=\"-302.8\" font-family=\"Times,serif\" font-size=\"14.00\" fill=\"#000000\">samples = 215</text>\n<text text-anchor=\"middle\" x=\"453\" y=\"-287.8\" font-family=\"Times,serif\" font-size=\"14.00\" fill=\"#000000\">value = 6.678</text>\n</g>\n<!-- 0&#45;&gt;1 -->\n<g id=\"edge1\" class=\"edge\">\n<title>0&#45;&gt;1</title>\n<path fill=\"none\" stroke=\"#000000\" d=\"M557.9198,-383.9465C543.5092,-374.3395 527.7014,-363.8009 512.8272,-353.8848\"/>\n<polygon fill=\"#000000\" stroke=\"#000000\" points=\"514.457,-350.7649 504.195,-348.13 510.574,-356.5892 514.457,-350.7649\"/>\n<text text-anchor=\"middle\" x=\"509.0979\" y=\"-368.9445\" font-family=\"Times,serif\" font-size=\"14.00\" fill=\"#000000\">True</text>\n</g>\n<!-- 430 -->\n<g id=\"node17\" class=\"node\">\n<title>430</title>\n<polygon fill=\"none\" stroke=\"#000000\" points=\"816.5,-348 713.5,-348 713.5,-280 816.5,-280 816.5,-348\"/>\n<text text-anchor=\"middle\" x=\"765\" y=\"-332.8\" font-family=\"Times,serif\" font-size=\"14.00\" fill=\"#000000\">Price &lt;= 135.0</text>\n<text text-anchor=\"middle\" x=\"765\" y=\"-317.8\" font-family=\"Times,serif\" font-size=\"14.00\" fill=\"#000000\">mse = 5.831</text>\n<text text-anchor=\"middle\" x=\"765\" y=\"-302.8\" font-family=\"Times,serif\" font-size=\"14.00\" fill=\"#000000\">samples = 53</text>\n<text text-anchor=\"middle\" x=\"765\" y=\"-287.8\" font-family=\"Times,serif\" font-size=\"14.00\" fill=\"#000000\">value = 9.812</text>\n</g>\n<!-- 0&#45;&gt;430 -->\n<g id=\"edge16\" class=\"edge\">\n<title>0&#45;&gt;430</title>\n<path fill=\"none\" stroke=\"#000000\" d=\"M660.0802,-383.9465C674.4908,-374.3395 690.2986,-363.8009 705.1728,-353.8848\"/>\n<polygon fill=\"#000000\" stroke=\"#000000\" points=\"707.426,-356.5892 713.805,-348.13 703.543,-350.7649 707.426,-356.5892\"/>\n<text text-anchor=\"middle\" x=\"708.9021\" y=\"-368.9445\" font-family=\"Times,serif\" font-size=\"14.00\" fill=\"#000000\">False</text>\n</g>\n<!-- 2 -->\n<g id=\"node3\" class=\"node\">\n<title>2</title>\n<polygon fill=\"none\" stroke=\"#000000\" points=\"277.5,-244 180.5,-244 180.5,-176 277.5,-176 277.5,-244\"/>\n<text text-anchor=\"middle\" x=\"229\" y=\"-228.8\" font-family=\"Times,serif\" font-size=\"14.00\" fill=\"#000000\">Age &lt;= 48.5</text>\n<text text-anchor=\"middle\" x=\"229\" y=\"-213.8\" font-family=\"Times,serif\" font-size=\"14.00\" fill=\"#000000\">mse = 5.562</text>\n<text text-anchor=\"middle\" x=\"229\" y=\"-198.8\" font-family=\"Times,serif\" font-size=\"14.00\" fill=\"#000000\">samples = 69</text>\n<text text-anchor=\"middle\" x=\"229\" y=\"-183.8\" font-family=\"Times,serif\" font-size=\"14.00\" fill=\"#000000\">value = 8.352</text>\n</g>\n<!-- 1&#45;&gt;2 -->\n<g id=\"edge2\" class=\"edge\">\n<title>1&#45;&gt;2</title>\n<path fill=\"none\" stroke=\"#000000\" d=\"M401.3286,-290.0097C367.1702,-274.1505 322.3406,-253.3367 286.9676,-236.9135\"/>\n<polygon fill=\"#000000\" stroke=\"#000000\" points=\"288.2695,-233.6592 277.7255,-232.6225 285.3217,-240.0082 288.2695,-233.6592\"/>\n</g>\n<!-- 139 -->\n<g id=\"node10\" class=\"node\">\n<title>139</title>\n<polygon fill=\"none\" stroke=\"#000000\" points=\"529,-244 377,-244 377,-176 529,-176 529,-244\"/>\n<text text-anchor=\"middle\" x=\"453\" y=\"-228.8\" font-family=\"Times,serif\" font-size=\"14.00\" fill=\"#000000\">ShelveLoc_Bad &lt;= 0.5</text>\n<text text-anchor=\"middle\" x=\"453\" y=\"-213.8\" font-family=\"Times,serif\" font-size=\"14.00\" fill=\"#000000\">mse = 4.685</text>\n<text text-anchor=\"middle\" x=\"453\" y=\"-198.8\" font-family=\"Times,serif\" font-size=\"14.00\" fill=\"#000000\">samples = 146</text>\n<text text-anchor=\"middle\" x=\"453\" y=\"-183.8\" font-family=\"Times,serif\" font-size=\"14.00\" fill=\"#000000\">value = 5.886</text>\n</g>\n<!-- 1&#45;&gt;139 -->\n<g id=\"edge9\" class=\"edge\">\n<title>1&#45;&gt;139</title>\n<path fill=\"none\" stroke=\"#000000\" d=\"M453,-279.9465C453,-271.776 453,-262.9318 453,-254.3697\"/>\n<polygon fill=\"#000000\" stroke=\"#000000\" points=\"456.5001,-254.13 453,-244.13 449.5001,-254.13 456.5001,-254.13\"/>\n</g>\n<!-- 3 -->\n<g id=\"node4\" class=\"node\">\n<title>3</title>\n<polygon fill=\"none\" stroke=\"#000000\" points=\"152,-140 0,-140 0,-72 152,-72 152,-140\"/>\n<text text-anchor=\"middle\" x=\"76\" y=\"-124.8\" font-family=\"Times,serif\" font-size=\"14.00\" fill=\"#000000\">ShelveLoc_Bad &lt;= 0.5</text>\n<text text-anchor=\"middle\" x=\"76\" y=\"-109.8\" font-family=\"Times,serif\" font-size=\"14.00\" fill=\"#000000\">mse = 3.224</text>\n<text text-anchor=\"middle\" x=\"76\" y=\"-94.8\" font-family=\"Times,serif\" font-size=\"14.00\" fill=\"#000000\">samples = 29</text>\n<text text-anchor=\"middle\" x=\"76\" y=\"-79.8\" font-family=\"Times,serif\" font-size=\"14.00\" fill=\"#000000\">value = 9.734</text>\n</g>\n<!-- 2&#45;&gt;3 -->\n<g id=\"edge3\" class=\"edge\">\n<title>2&#45;&gt;3</title>\n<path fill=\"none\" stroke=\"#000000\" d=\"M180.1692,-176.8078C165.7673,-167.0183 149.8533,-156.2009 134.8898,-146.0297\"/>\n<polygon fill=\"#000000\" stroke=\"#000000\" points=\"136.4459,-142.8554 126.208,-140.1283 132.5107,-148.6446 136.4459,-142.8554\"/>\n</g>\n<!-- 60 -->\n<g id=\"node7\" class=\"node\">\n<title>60</title>\n<polygon fill=\"none\" stroke=\"#000000\" points=\"287.5,-140 170.5,-140 170.5,-72 287.5,-72 287.5,-140\"/>\n<text text-anchor=\"middle\" x=\"229\" y=\"-124.8\" font-family=\"Times,serif\" font-size=\"14.00\" fill=\"#000000\">Income &lt;= 105.5</text>\n<text text-anchor=\"middle\" x=\"229\" y=\"-109.8\" font-family=\"Times,serif\" font-size=\"14.00\" fill=\"#000000\">mse = 4.867</text>\n<text text-anchor=\"middle\" x=\"229\" y=\"-94.8\" font-family=\"Times,serif\" font-size=\"14.00\" fill=\"#000000\">samples = 40</text>\n<text text-anchor=\"middle\" x=\"229\" y=\"-79.8\" font-family=\"Times,serif\" font-size=\"14.00\" fill=\"#000000\">value = 7.35</text>\n</g>\n<!-- 2&#45;&gt;60 -->\n<g id=\"edge6\" class=\"edge\">\n<title>2&#45;&gt;60</title>\n<path fill=\"none\" stroke=\"#000000\" d=\"M229,-175.9465C229,-167.776 229,-158.9318 229,-150.3697\"/>\n<polygon fill=\"#000000\" stroke=\"#000000\" points=\"232.5001,-150.13 229,-140.13 225.5001,-150.13 232.5001,-150.13\"/>\n</g>\n<!-- 4 -->\n<g id=\"node5\" class=\"node\">\n<title>4</title>\n<polygon fill=\"none\" stroke=\"#000000\" points=\"90,-36 36,-36 36,0 90,0 90,-36\"/>\n<text text-anchor=\"middle\" x=\"63\" y=\"-14.3\" font-family=\"Times,serif\" font-size=\"14.00\" fill=\"#000000\">(...)</text>\n</g>\n<!-- 3&#45;&gt;4 -->\n<g id=\"edge4\" class=\"edge\">\n<title>3&#45;&gt;4</title>\n<path fill=\"none\" stroke=\"#000000\" d=\"M70.9739,-71.9769C69.7219,-63.5023 68.393,-54.5065 67.1864,-46.3388\"/>\n<polygon fill=\"#000000\" stroke=\"#000000\" points=\"70.6114,-45.5731 65.6874,-36.192 63.6865,-46.5961 70.6114,-45.5731\"/>\n</g>\n<!-- 43 -->\n<g id=\"node6\" class=\"node\">\n<title>43</title>\n<polygon fill=\"none\" stroke=\"#000000\" points=\"162,-36 108,-36 108,0 162,0 162,-36\"/>\n<text text-anchor=\"middle\" x=\"135\" y=\"-14.3\" font-family=\"Times,serif\" font-size=\"14.00\" fill=\"#000000\">(...)</text>\n</g>\n<!-- 3&#45;&gt;43 -->\n<g id=\"edge5\" class=\"edge\">\n<title>3&#45;&gt;43</title>\n<path fill=\"none\" stroke=\"#000000\" d=\"M98.8109,-71.9769C104.8758,-62.931 111.3388,-53.2913 117.0998,-44.6986\"/>\n<polygon fill=\"#000000\" stroke=\"#000000\" points=\"120.1414,-46.447 122.8031,-36.192 114.3272,-42.5488 120.1414,-46.447\"/>\n</g>\n<!-- 61 -->\n<g id=\"node8\" class=\"node\">\n<title>61</title>\n<polygon fill=\"none\" stroke=\"#000000\" points=\"245,-36 191,-36 191,0 245,0 245,-36\"/>\n<text text-anchor=\"middle\" x=\"218\" y=\"-14.3\" font-family=\"Times,serif\" font-size=\"14.00\" fill=\"#000000\">(...)</text>\n</g>\n<!-- 60&#45;&gt;61 -->\n<g id=\"edge7\" class=\"edge\">\n<title>60&#45;&gt;61</title>\n<path fill=\"none\" stroke=\"#000000\" d=\"M224.7471,-71.9769C223.6878,-63.5023 222.5633,-54.5065 221.5423,-46.3388\"/>\n<polygon fill=\"#000000\" stroke=\"#000000\" points=\"224.9874,-45.6806 220.274,-36.192 218.0415,-46.5489 224.9874,-45.6806\"/>\n</g>\n<!-- 128 -->\n<g id=\"node9\" class=\"node\">\n<title>128</title>\n<polygon fill=\"none\" stroke=\"#000000\" points=\"317,-36 263,-36 263,0 317,0 317,-36\"/>\n<text text-anchor=\"middle\" x=\"290\" y=\"-14.3\" font-family=\"Times,serif\" font-size=\"14.00\" fill=\"#000000\">(...)</text>\n</g>\n<!-- 60&#45;&gt;128 -->\n<g id=\"edge8\" class=\"edge\">\n<title>60&#45;&gt;128</title>\n<path fill=\"none\" stroke=\"#000000\" d=\"M252.5842,-71.9769C258.9206,-62.8358 265.6775,-53.0883 271.6809,-44.4276\"/>\n<polygon fill=\"#000000\" stroke=\"#000000\" points=\"274.5692,-46.4045 277.3897,-36.192 268.8162,-42.4166 274.5692,-46.4045\"/>\n</g>\n<!-- 140 -->\n<g id=\"node11\" class=\"node\">\n<title>140</title>\n<polygon fill=\"none\" stroke=\"#000000\" points=\"444.5,-140 305.5,-140 305.5,-72 444.5,-72 444.5,-140\"/>\n<text text-anchor=\"middle\" x=\"375\" y=\"-124.8\" font-family=\"Times,serif\" font-size=\"14.00\" fill=\"#000000\">CompPrice &lt;= 124.5</text>\n<text text-anchor=\"middle\" x=\"375\" y=\"-109.8\" font-family=\"Times,serif\" font-size=\"14.00\" fill=\"#000000\">mse = 4.211</text>\n<text text-anchor=\"middle\" x=\"375\" y=\"-94.8\" font-family=\"Times,serif\" font-size=\"14.00\" fill=\"#000000\">samples = 104</text>\n<text text-anchor=\"middle\" x=\"375\" y=\"-79.8\" font-family=\"Times,serif\" font-size=\"14.00\" fill=\"#000000\">value = 6.437</text>\n</g>\n<!-- 139&#45;&gt;140 -->\n<g id=\"edge10\" class=\"edge\">\n<title>139&#45;&gt;140</title>\n<path fill=\"none\" stroke=\"#000000\" d=\"M427.4599,-175.9465C420.8607,-167.1475 413.6754,-157.5672 406.7995,-148.3993\"/>\n<polygon fill=\"#000000\" stroke=\"#000000\" points=\"409.3975,-146.03 400.5975,-140.13 403.7975,-150.23 409.3975,-146.03\"/>\n</g>\n<!-- 347 -->\n<g id=\"node14\" class=\"node\">\n<title>347</title>\n<polygon fill=\"none\" stroke=\"#000000\" points=\"601.5,-140 462.5,-140 462.5,-72 601.5,-72 601.5,-140\"/>\n<text text-anchor=\"middle\" x=\"532\" y=\"-124.8\" font-family=\"Times,serif\" font-size=\"14.00\" fill=\"#000000\">CompPrice &lt;= 151.0</text>\n<text text-anchor=\"middle\" x=\"532\" y=\"-109.8\" font-family=\"Times,serif\" font-size=\"14.00\" fill=\"#000000\">mse = 3.245</text>\n<text text-anchor=\"middle\" x=\"532\" y=\"-94.8\" font-family=\"Times,serif\" font-size=\"14.00\" fill=\"#000000\">samples = 42</text>\n<text text-anchor=\"middle\" x=\"532\" y=\"-79.8\" font-family=\"Times,serif\" font-size=\"14.00\" fill=\"#000000\">value = 4.522</text>\n</g>\n<!-- 139&#45;&gt;347 -->\n<g id=\"edge13\" class=\"edge\">\n<title>139&#45;&gt;347</title>\n<path fill=\"none\" stroke=\"#000000\" d=\"M478.8676,-175.9465C485.6196,-167.0578 492.9774,-157.3716 500.0059,-148.1188\"/>\n<polygon fill=\"#000000\" stroke=\"#000000\" points=\"502.8125,-150.2102 506.0743,-140.13 497.2383,-145.976 502.8125,-150.2102\"/>\n</g>\n<!-- 141 -->\n<g id=\"node12\" class=\"node\">\n<title>141</title>\n<polygon fill=\"none\" stroke=\"#000000\" points=\"395,-36 341,-36 341,0 395,0 395,-36\"/>\n<text text-anchor=\"middle\" x=\"368\" y=\"-14.3\" font-family=\"Times,serif\" font-size=\"14.00\" fill=\"#000000\">(...)</text>\n</g>\n<!-- 140&#45;&gt;141 -->\n<g id=\"edge11\" class=\"edge\">\n<title>140&#45;&gt;141</title>\n<path fill=\"none\" stroke=\"#000000\" d=\"M372.2936,-71.9769C371.6195,-63.5023 370.9039,-54.5065 370.2542,-46.3388\"/>\n<polygon fill=\"#000000\" stroke=\"#000000\" points=\"373.7291,-45.8829 369.4471,-36.192 366.7511,-46.438 373.7291,-45.8829\"/>\n</g>\n<!-- 220 -->\n<g id=\"node13\" class=\"node\">\n<title>220</title>\n<polygon fill=\"none\" stroke=\"#000000\" points=\"467,-36 413,-36 413,0 467,0 467,-36\"/>\n<text text-anchor=\"middle\" x=\"440\" y=\"-14.3\" font-family=\"Times,serif\" font-size=\"14.00\" fill=\"#000000\">(...)</text>\n</g>\n<!-- 140&#45;&gt;220 -->\n<g id=\"edge12\" class=\"edge\">\n<title>140&#45;&gt;220</title>\n<path fill=\"none\" stroke=\"#000000\" d=\"M400.1307,-71.9769C406.8826,-62.8358 414.0825,-53.0883 420.4796,-44.4276\"/>\n<polygon fill=\"#000000\" stroke=\"#000000\" points=\"423.4367,-46.3151 426.5628,-36.192 417.8061,-42.1561 423.4367,-46.3151\"/>\n</g>\n<!-- 348 -->\n<g id=\"node15\" class=\"node\">\n<title>348</title>\n<polygon fill=\"none\" stroke=\"#000000\" points=\"547,-36 493,-36 493,0 547,0 547,-36\"/>\n<text text-anchor=\"middle\" x=\"520\" y=\"-14.3\" font-family=\"Times,serif\" font-size=\"14.00\" fill=\"#000000\">(...)</text>\n</g>\n<!-- 347&#45;&gt;348 -->\n<g id=\"edge14\" class=\"edge\">\n<title>347&#45;&gt;348</title>\n<path fill=\"none\" stroke=\"#000000\" d=\"M527.3605,-71.9769C526.2049,-63.5023 524.9782,-54.5065 523.8644,-46.3388\"/>\n<polygon fill=\"#000000\" stroke=\"#000000\" points=\"527.2998,-45.6273 522.4807,-36.192 520.364,-46.5732 527.2998,-45.6273\"/>\n</g>\n<!-- 425 -->\n<g id=\"node16\" class=\"node\">\n<title>425</title>\n<polygon fill=\"none\" stroke=\"#000000\" points=\"619,-36 565,-36 565,0 619,0 619,-36\"/>\n<text text-anchor=\"middle\" x=\"592\" y=\"-14.3\" font-family=\"Times,serif\" font-size=\"14.00\" fill=\"#000000\">(...)</text>\n</g>\n<!-- 347&#45;&gt;425 -->\n<g id=\"edge15\" class=\"edge\">\n<title>347&#45;&gt;425</title>\n<path fill=\"none\" stroke=\"#000000\" d=\"M555.1976,-71.9769C561.3652,-62.931 567.9378,-53.2913 573.7964,-44.6986\"/>\n<polygon fill=\"#000000\" stroke=\"#000000\" points=\"576.8548,-46.4259 579.5964,-36.192 571.0712,-42.4825 576.8548,-46.4259\"/>\n</g>\n<!-- 431 -->\n<g id=\"node18\" class=\"node\">\n<title>431</title>\n<polygon fill=\"none\" stroke=\"#000000\" points=\"813.5,-244 716.5,-244 716.5,-176 813.5,-176 813.5,-244\"/>\n<text text-anchor=\"middle\" x=\"765\" y=\"-228.8\" font-family=\"Times,serif\" font-size=\"14.00\" fill=\"#000000\">Price &lt;= 74.5</text>\n<text text-anchor=\"middle\" x=\"765\" y=\"-213.8\" font-family=\"Times,serif\" font-size=\"14.00\" fill=\"#000000\">mse = 3.657</text>\n<text text-anchor=\"middle\" x=\"765\" y=\"-198.8\" font-family=\"Times,serif\" font-size=\"14.00\" fill=\"#000000\">samples = 41</text>\n<text text-anchor=\"middle\" x=\"765\" y=\"-183.8\" font-family=\"Times,serif\" font-size=\"14.00\" fill=\"#000000\">value = 10.63</text>\n</g>\n<!-- 430&#45;&gt;431 -->\n<g id=\"edge17\" class=\"edge\">\n<title>430&#45;&gt;431</title>\n<path fill=\"none\" stroke=\"#000000\" d=\"M765,-279.9465C765,-271.776 765,-262.9318 765,-254.3697\"/>\n<polygon fill=\"#000000\" stroke=\"#000000\" points=\"768.5001,-254.13 765,-244.13 761.5001,-254.13 768.5001,-254.13\"/>\n</g>\n<!-- 512 -->\n<g id=\"node25\" class=\"node\">\n<title>512</title>\n<polygon fill=\"none\" stroke=\"#000000\" points=\"1055,-244 909,-244 909,-176 1055,-176 1055,-244\"/>\n<text text-anchor=\"middle\" x=\"982\" y=\"-228.8\" font-family=\"Times,serif\" font-size=\"14.00\" fill=\"#000000\">Unnamed: 0 &lt;= 334.5</text>\n<text text-anchor=\"middle\" x=\"982\" y=\"-213.8\" font-family=\"Times,serif\" font-size=\"14.00\" fill=\"#000000\">mse = 3.155</text>\n<text text-anchor=\"middle\" x=\"982\" y=\"-198.8\" font-family=\"Times,serif\" font-size=\"14.00\" fill=\"#000000\">samples = 12</text>\n<text text-anchor=\"middle\" x=\"982\" y=\"-183.8\" font-family=\"Times,serif\" font-size=\"14.00\" fill=\"#000000\">value = 7.017</text>\n</g>\n<!-- 430&#45;&gt;512 -->\n<g id=\"edge24\" class=\"edge\">\n<title>430&#45;&gt;512</title>\n<path fill=\"none\" stroke=\"#000000\" d=\"M816.7012,-289.2215C842.1526,-277.0236 873.4111,-262.0426 901.8692,-248.4037\"/>\n<polygon fill=\"#000000\" stroke=\"#000000\" points=\"903.4943,-251.5061 910.9995,-244.0279 900.469,-245.1936 903.4943,-251.5061\"/>\n</g>\n<!-- 432 -->\n<g id=\"node19\" class=\"node\">\n<title>432</title>\n<polygon fill=\"none\" stroke=\"#000000\" points=\"756.5,-140 619.5,-140 619.5,-72 756.5,-72 756.5,-140\"/>\n<text text-anchor=\"middle\" x=\"688\" y=\"-124.8\" font-family=\"Times,serif\" font-size=\"14.00\" fill=\"#000000\">Population &lt;= 135.0</text>\n<text text-anchor=\"middle\" x=\"688\" y=\"-109.8\" font-family=\"Times,serif\" font-size=\"14.00\" fill=\"#000000\">mse = 1.171</text>\n<text text-anchor=\"middle\" x=\"688\" y=\"-94.8\" font-family=\"Times,serif\" font-size=\"14.00\" fill=\"#000000\">samples = 3</text>\n<text text-anchor=\"middle\" x=\"688\" y=\"-79.8\" font-family=\"Times,serif\" font-size=\"14.00\" fill=\"#000000\">value = 14.327</text>\n</g>\n<!-- 431&#45;&gt;432 -->\n<g id=\"edge18\" class=\"edge\">\n<title>431&#45;&gt;432</title>\n<path fill=\"none\" stroke=\"#000000\" d=\"M739.7873,-175.9465C733.2727,-167.1475 726.1795,-157.5672 719.3918,-148.3993\"/>\n<polygon fill=\"#000000\" stroke=\"#000000\" points=\"722.0327,-146.0843 713.2693,-140.13 716.4069,-150.2496 722.0327,-146.0843\"/>\n</g>\n<!-- 437 -->\n<g id=\"node22\" class=\"node\">\n<title>437</title>\n<polygon fill=\"none\" stroke=\"#000000\" points=\"909,-140 775,-140 775,-72 909,-72 909,-140\"/>\n<text text-anchor=\"middle\" x=\"842\" y=\"-124.8\" font-family=\"Times,serif\" font-size=\"14.00\" fill=\"#000000\">Advertising &lt;= 11.5</text>\n<text text-anchor=\"middle\" x=\"842\" y=\"-109.8\" font-family=\"Times,serif\" font-size=\"14.00\" fill=\"#000000\">mse = 2.69</text>\n<text text-anchor=\"middle\" x=\"842\" y=\"-94.8\" font-family=\"Times,serif\" font-size=\"14.00\" fill=\"#000000\">samples = 38</text>\n<text text-anchor=\"middle\" x=\"842\" y=\"-79.8\" font-family=\"Times,serif\" font-size=\"14.00\" fill=\"#000000\">value = 10.338</text>\n</g>\n<!-- 431&#45;&gt;437 -->\n<g id=\"edge21\" class=\"edge\">\n<title>431&#45;&gt;437</title>\n<path fill=\"none\" stroke=\"#000000\" d=\"M790.2127,-175.9465C796.7273,-167.1475 803.8205,-157.5672 810.6082,-148.3993\"/>\n<polygon fill=\"#000000\" stroke=\"#000000\" points=\"813.5931,-150.2496 816.7307,-140.13 807.9673,-146.0843 813.5931,-150.2496\"/>\n</g>\n<!-- 433 -->\n<g id=\"node20\" class=\"node\">\n<title>433</title>\n<polygon fill=\"none\" stroke=\"#000000\" points=\"695,-36 641,-36 641,0 695,0 695,-36\"/>\n<text text-anchor=\"middle\" x=\"668\" y=\"-14.3\" font-family=\"Times,serif\" font-size=\"14.00\" fill=\"#000000\">(...)</text>\n</g>\n<!-- 432&#45;&gt;433 -->\n<g id=\"edge19\" class=\"edge\">\n<title>432&#45;&gt;433</title>\n<path fill=\"none\" stroke=\"#000000\" d=\"M680.2675,-71.9769C678.3198,-63.4071 676.251,-54.3043 674.3781,-46.0638\"/>\n<polygon fill=\"#000000\" stroke=\"#000000\" points=\"677.7638,-45.1676 672.1345,-36.192 670.9379,-46.719 677.7638,-45.1676\"/>\n</g>\n<!-- 434 -->\n<g id=\"node21\" class=\"node\">\n<title>434</title>\n<polygon fill=\"none\" stroke=\"#000000\" points=\"767,-36 713,-36 713,0 767,0 767,-36\"/>\n<text text-anchor=\"middle\" x=\"740\" y=\"-14.3\" font-family=\"Times,serif\" font-size=\"14.00\" fill=\"#000000\">(...)</text>\n</g>\n<!-- 432&#45;&gt;434 -->\n<g id=\"edge20\" class=\"edge\">\n<title>432&#45;&gt;434</title>\n<path fill=\"none\" stroke=\"#000000\" d=\"M708.1046,-71.9769C713.3936,-63.0262 719.0262,-53.4941 724.063,-44.9703\"/>\n<polygon fill=\"#000000\" stroke=\"#000000\" points=\"727.1761,-46.5818 729.2502,-36.192 721.1496,-43.0207 727.1761,-46.5818\"/>\n</g>\n<!-- 438 -->\n<g id=\"node23\" class=\"node\">\n<title>438</title>\n<polygon fill=\"none\" stroke=\"#000000\" points=\"841,-36 787,-36 787,0 841,0 841,-36\"/>\n<text text-anchor=\"middle\" x=\"814\" y=\"-14.3\" font-family=\"Times,serif\" font-size=\"14.00\" fill=\"#000000\">(...)</text>\n</g>\n<!-- 437&#45;&gt;438 -->\n<g id=\"edge22\" class=\"edge\">\n<title>437&#45;&gt;438</title>\n<path fill=\"none\" stroke=\"#000000\" d=\"M831.1745,-71.9769C828.4174,-63.3119 825.487,-54.102 822.8421,-45.7894\"/>\n<polygon fill=\"#000000\" stroke=\"#000000\" points=\"826.1557,-44.66 819.7883,-36.192 819.4852,-46.7825 826.1557,-44.66\"/>\n</g>\n<!-- 487 -->\n<g id=\"node24\" class=\"node\">\n<title>487</title>\n<polygon fill=\"none\" stroke=\"#000000\" points=\"913,-36 859,-36 859,0 913,0 913,-36\"/>\n<text text-anchor=\"middle\" x=\"886\" y=\"-14.3\" font-family=\"Times,serif\" font-size=\"14.00\" fill=\"#000000\">(...)</text>\n</g>\n<!-- 437&#45;&gt;487 -->\n<g id=\"edge23\" class=\"edge\">\n<title>437&#45;&gt;487</title>\n<path fill=\"none\" stroke=\"#000000\" d=\"M859.0115,-71.9769C863.4393,-63.1215 868.1516,-53.6969 872.3787,-45.2427\"/>\n<polygon fill=\"#000000\" stroke=\"#000000\" points=\"875.5623,-46.7015 876.904,-36.192 869.3013,-43.571 875.5623,-46.7015\"/>\n</g>\n<!-- 513 -->\n<g id=\"node26\" class=\"node\">\n<title>513</title>\n<polygon fill=\"none\" stroke=\"#000000\" points=\"1037,-140 927,-140 927,-72 1037,-72 1037,-140\"/>\n<text text-anchor=\"middle\" x=\"982\" y=\"-124.8\" font-family=\"Times,serif\" font-size=\"14.00\" fill=\"#000000\">Income &lt;= 46.0</text>\n<text text-anchor=\"middle\" x=\"982\" y=\"-109.8\" font-family=\"Times,serif\" font-size=\"14.00\" fill=\"#000000\">mse = 1.8</text>\n<text text-anchor=\"middle\" x=\"982\" y=\"-94.8\" font-family=\"Times,serif\" font-size=\"14.00\" fill=\"#000000\">samples = 10</text>\n<text text-anchor=\"middle\" x=\"982\" y=\"-79.8\" font-family=\"Times,serif\" font-size=\"14.00\" fill=\"#000000\">value = 7.581</text>\n</g>\n<!-- 512&#45;&gt;513 -->\n<g id=\"edge25\" class=\"edge\">\n<title>512&#45;&gt;513</title>\n<path fill=\"none\" stroke=\"#000000\" d=\"M982,-175.9465C982,-167.776 982,-158.9318 982,-150.3697\"/>\n<polygon fill=\"#000000\" stroke=\"#000000\" points=\"985.5001,-150.13 982,-140.13 978.5001,-150.13 985.5001,-150.13\"/>\n</g>\n<!-- 532 -->\n<g id=\"node29\" class=\"node\">\n<title>532</title>\n<polygon fill=\"none\" stroke=\"#000000\" points=\"1152.5,-140 1055.5,-140 1055.5,-72 1152.5,-72 1152.5,-140\"/>\n<text text-anchor=\"middle\" x=\"1104\" y=\"-124.8\" font-family=\"Times,serif\" font-size=\"14.00\" fill=\"#000000\">Age &lt;= 75.5</text>\n<text text-anchor=\"middle\" x=\"1104\" y=\"-109.8\" font-family=\"Times,serif\" font-size=\"14.00\" fill=\"#000000\">mse = 0.378</text>\n<text text-anchor=\"middle\" x=\"1104\" y=\"-94.8\" font-family=\"Times,serif\" font-size=\"14.00\" fill=\"#000000\">samples = 2</text>\n<text text-anchor=\"middle\" x=\"1104\" y=\"-79.8\" font-family=\"Times,serif\" font-size=\"14.00\" fill=\"#000000\">value = 4.195</text>\n</g>\n<!-- 512&#45;&gt;532 -->\n<g id=\"edge28\" class=\"edge\">\n<title>512&#45;&gt;532</title>\n<path fill=\"none\" stroke=\"#000000\" d=\"M1021.9474,-175.9465C1032.9012,-166.6088 1044.8873,-156.3911 1056.232,-146.7203\"/>\n<polygon fill=\"#000000\" stroke=\"#000000\" points=\"1058.6233,-149.2809 1063.9629,-140.13 1054.0821,-143.9538 1058.6233,-149.2809\"/>\n</g>\n<!-- 514 -->\n<g id=\"node27\" class=\"node\">\n<title>514</title>\n<polygon fill=\"none\" stroke=\"#000000\" points=\"986,-36 932,-36 932,0 986,0 986,-36\"/>\n<text text-anchor=\"middle\" x=\"959\" y=\"-14.3\" font-family=\"Times,serif\" font-size=\"14.00\" fill=\"#000000\">(...)</text>\n</g>\n<!-- 513&#45;&gt;514 -->\n<g id=\"edge26\" class=\"edge\">\n<title>513&#45;&gt;514</title>\n<path fill=\"none\" stroke=\"#000000\" d=\"M973.1076,-71.9769C970.8678,-63.4071 968.4886,-54.3043 966.3349,-46.0638\"/>\n<polygon fill=\"#000000\" stroke=\"#000000\" points=\"969.6697,-44.9819 963.7547,-36.192 962.8972,-46.752 969.6697,-44.9819\"/>\n</g>\n<!-- 525 -->\n<g id=\"node28\" class=\"node\">\n<title>525</title>\n<polygon fill=\"none\" stroke=\"#000000\" points=\"1058,-36 1004,-36 1004,0 1058,0 1058,-36\"/>\n<text text-anchor=\"middle\" x=\"1031\" y=\"-14.3\" font-family=\"Times,serif\" font-size=\"14.00\" fill=\"#000000\">(...)</text>\n</g>\n<!-- 513&#45;&gt;525 -->\n<g id=\"edge27\" class=\"edge\">\n<title>513&#45;&gt;525</title>\n<path fill=\"none\" stroke=\"#000000\" d=\"M1000.9447,-71.9769C1005.9286,-63.0262 1011.2362,-53.4941 1015.9825,-44.9703\"/>\n<polygon fill=\"#000000\" stroke=\"#000000\" points=\"1019.0634,-46.6316 1020.8704,-36.192 1012.9476,-43.2261 1019.0634,-46.6316\"/>\n</g>\n<!-- 533 -->\n<g id=\"node30\" class=\"node\">\n<title>533</title>\n<polygon fill=\"none\" stroke=\"#000000\" points=\"1130,-36 1076,-36 1076,0 1130,0 1130,-36\"/>\n<text text-anchor=\"middle\" x=\"1103\" y=\"-14.3\" font-family=\"Times,serif\" font-size=\"14.00\" fill=\"#000000\">(...)</text>\n</g>\n<!-- 532&#45;&gt;533 -->\n<g id=\"edge29\" class=\"edge\">\n<title>532&#45;&gt;533</title>\n<path fill=\"none\" stroke=\"#000000\" d=\"M1103.6134,-71.9769C1103.5171,-63.5023 1103.4148,-54.5065 1103.322,-46.3388\"/>\n<polygon fill=\"#000000\" stroke=\"#000000\" points=\"1106.8202,-46.1515 1103.2067,-36.192 1099.8207,-46.2311 1106.8202,-46.1515\"/>\n</g>\n<!-- 534 -->\n<g id=\"node31\" class=\"node\">\n<title>534</title>\n<polygon fill=\"none\" stroke=\"#000000\" points=\"1202,-36 1148,-36 1148,0 1202,0 1202,-36\"/>\n<text text-anchor=\"middle\" x=\"1175\" y=\"-14.3\" font-family=\"Times,serif\" font-size=\"14.00\" fill=\"#000000\">(...)</text>\n</g>\n<!-- 532&#45;&gt;534 -->\n<g id=\"edge30\" class=\"edge\">\n<title>532&#45;&gt;534</title>\n<path fill=\"none\" stroke=\"#000000\" d=\"M1131.4505,-71.9769C1138.9025,-62.7406 1146.8541,-52.8851 1153.8958,-44.1573\"/>\n<polygon fill=\"#000000\" stroke=\"#000000\" points=\"1156.7671,-46.1725 1160.3224,-36.192 1151.3191,-41.777 1156.7671,-46.1725\"/>\n</g>\n</g>\n</svg>\n"
          },
          "metadata": {
            "tags": []
          }
        }
      ]
    },
    {
      "cell_type": "code",
      "metadata": {
        "id": "nNRGAv5rngl1",
        "colab_type": "code",
        "outputId": "2f603b82-3f79-4f82-e5c0-31bacabf2f47",
        "colab": {
          "base_uri": "https://localhost:8080/",
          "height": 33
        }
      },
      "source": [
        "'''(d) Use the bagging approach in order to analyze this data. \n",
        "What test MSE do you obtain? Look at the feature importances attribute of your\n",
        " model object to determine which variables are most important.'''\n",
        "\n",
        "from sklearn.ensemble import BaggingRegressor\n",
        "from sklearn.neighbors import KNeighborsRegressor\n",
        "\n",
        "bagging = BaggingRegressor()\n",
        "#{'criterion': 'mse', 'max_depth': 6, 'max_leaf_nodes': 10, 'min_samples_leaf': 20, 'min_samples_split': 10}\n",
        "bagging.fit(X_train, y_train)\n",
        "bagging_predictions = bagging.predict(X_test)\n",
        "bag_test_mse = mean_squared_error(y_test, bagging_predictions)\n",
        "#printing MSE\n",
        "print(\"Bag Test MSE: {}\".format(bag_test_mse))\n",
        "# cool looks like the bagging approach helps reduce some varience and get \n",
        "# more accurate test measurements "
      ],
      "execution_count": 9,
      "outputs": [
        {
          "output_type": "stream",
          "text": [
            "Bag Test MSE: 3.0698711590909094\n"
          ],
          "name": "stdout"
        }
      ]
    },
    {
      "cell_type": "code",
      "metadata": {
        "id": "gnv17t3AxgqH",
        "colab_type": "code",
        "outputId": "f57322bd-a967-4621-fd01-a30ff844c1d4",
        "colab": {
          "base_uri": "https://localhost:8080/",
          "height": 279
        }
      },
      "source": [
        "# #finding feature importance \n",
        "# feature_imp = sorted(list(zip(car.columns, \n",
        "#                               dt.feature_importances_)),\n",
        "#                       key=lambda x: x[1], reverse=True)\n",
        "\n",
        "\n",
        "# pd.Series([x[1] for x in feature_imp], \n",
        "#           index=[x[0] for x in feature_imp]).plot(kind='bar')\n",
        "import matplotlib.pyplot as plt\n",
        "\n",
        "def plot_feature_importances(model):\n",
        "    #the number of features in the column axis of my data frame\n",
        "    n_features = car.shape[1]\n",
        "    #plotting horizontal bar chart \n",
        "    plt.barh(np.arange(n_features), model.feature_importances_, align='center')\n",
        "    #column names beside the features \n",
        "    plt.yticks(np.arange(n_features), car.columns)\n",
        "    #labels \n",
        "    plt.xlabel(\"Feature importance\")\n",
        "    plt.ylabel(\"Feature\")\n",
        "    plt.ylim(-1, n_features)\n",
        "#plot \n",
        "plot_feature_importances(dt)"
      ],
      "execution_count": 10,
      "outputs": [
        {
          "output_type": "display_data",
          "data": {
            "image/png": "[encoded data removed]",
            "text/plain": [
              "<Figure size 432x288 with 1 Axes>"
            ]
          },
          "metadata": {
            "tags": []
          }
        }
      ]
    },
    {
      "cell_type": "code",
      "metadata": {
        "id": "CNm-zQ9wZ7yI",
        "colab_type": "code",
        "outputId": "823c55b0-957d-4e5c-d83c-ff5488acb057",
        "colab": {
          "base_uri": "https://localhost:8080/",
          "height": 470
        }
      },
      "source": [
        "'''(e) Use random forests to analyze this data. What test MSE do you obtain? \n",
        "Look at the feature importances attribute of your model objec function to \n",
        "determine which variables are most important.Describe the effect of m, the\n",
        "number of variables considered at each split, on the error rate obtained.'''\n",
        "\n",
        "from sklearn.ensemble import RandomForestRegressor\n",
        "\n",
        "''' to build a good random forest, you need a good max depth\n",
        "and a good number of trees, and you should also test if your \n",
        "classes are balanced or not, so we will see what are the best \n",
        "parameters for the random forest we will build'''\n",
        "\n",
        "#creating a dictionary with multiple options for the parameters, \n",
        "param_dict = {\"n_estimators\":[100,500,1000,2500,5000],\n",
        "              \"max_depth\":[1,3,5,10], \"criterion\":[\"mse\"]}\n",
        "\n",
        "#creating the random forest classifier \n",
        "rf = RandomForestRegressor()\n",
        "#creating the grid search to search over my parameters and find the best ones \n",
        "gs = GridSearchCV(rf, param_dict, \n",
        "                  n_jobs = -1, verbose = 2)\n",
        "\n",
        "gs.fit(X_train, y_train)"
      ],
      "execution_count": 11,
      "outputs": [
        {
          "output_type": "stream",
          "text": [
            "Fitting 3 folds for each of 20 candidates, totalling 60 fits\n"
          ],
          "name": "stdout"
        },
        {
          "output_type": "stream",
          "text": [
            "/usr/local/lib/python3.6/dist-packages/sklearn/model_selection/_split.py:1978: FutureWarning: The default value of cv will change from 3 to 5 in version 0.22. Specify it explicitly to silence this warning.\n",
            "  warnings.warn(CV_WARNING, FutureWarning)\n",
            "[Parallel(n_jobs=-1)]: Using backend LokyBackend with 2 concurrent workers.\n",
            "[Parallel(n_jobs=-1)]: Done  37 tasks      | elapsed:  1.2min\n",
            "[Parallel(n_jobs=-1)]: Done  60 out of  60 | elapsed:  2.6min finished\n",
            "/usr/local/lib/python3.6/dist-packages/sklearn/model_selection/_search.py:814: DeprecationWarning: The default of the `iid` parameter will change from True to False in version 0.22 and will be removed in 0.24. This will change numeric results when test-set sizes are unequal.\n",
            "  DeprecationWarning)\n"
          ],
          "name": "stderr"
        },
        {
          "output_type": "execute_result",
          "data": {
            "text/plain": [
              "GridSearchCV(cv='warn', error_score='raise-deprecating',\n",
              "             estimator=RandomForestRegressor(bootstrap=True, criterion='mse',\n",
              "                                             max_depth=None,\n",
              "                                             max_features='auto',\n",
              "                                             max_leaf_nodes=None,\n",
              "                                             min_impurity_decrease=0.0,\n",
              "                                             min_impurity_split=None,\n",
              "                                             min_samples_leaf=1,\n",
              "                                             min_samples_split=2,\n",
              "                                             min_weight_fraction_leaf=0.0,\n",
              "                                             n_estimators='warn', n_jobs=None,\n",
              "                                             oob_score=False, random_state=None,\n",
              "                                             verbose=0, warm_start=False),\n",
              "             iid='warn', n_jobs=-1,\n",
              "             param_grid={'criterion': ['mse'], 'max_depth': [1, 3, 5, 10],\n",
              "                         'n_estimators': [100, 500, 1000, 2500, 5000]},\n",
              "             pre_dispatch='2*n_jobs', refit=True, return_train_score=False,\n",
              "             scoring=None, verbose=2)"
            ]
          },
          "metadata": {
            "tags": []
          },
          "execution_count": 11
        }
      ]
    },
    {
      "cell_type": "code",
      "metadata": {
        "id": "Rm0LDJiQdY9s",
        "colab_type": "code",
        "outputId": "daa17d75-5419-4922-976d-b3bc8edbe4d5",
        "colab": {
          "base_uri": "https://localhost:8080/",
          "height": 50
        }
      },
      "source": [
        "#but interesting to see the best parameters \n",
        "print(\"Best Params: {}\".format(gs.best_params_))\n",
        "print(\"Random forest MSE: {}\".format(gs_mse))"
      ],
      "execution_count": 12,
      "outputs": [
        {
          "output_type": "stream",
          "text": [
            "Best Params: {'criterion': 'mse', 'max_depth': 10, 'n_estimators': 2500}\n",
            "Random forest MSE: 4.5384443125568525\n"
          ],
          "name": "stdout"
        }
      ]
    },
    {
      "cell_type": "code",
      "metadata": {
        "id": "kL6LQQOgd-Qy",
        "colab_type": "code",
        "outputId": "78f891ff-9d9a-4314-e585-63dad5884761",
        "colab": {
          "base_uri": "https://localhost:8080/",
          "height": 349
        }
      },
      "source": [
        "rf.fit(X_train, y_train)\n",
        "plot_feature_importances(rf)\n",
        "\n",
        "'''Cool, so this is almost model also weights price at a really high weight,\n",
        "sheveloc_good also high, but not as high as bagging, age, advertising, \n",
        "shevloc_bad, advertising, and comp price '''"
      ],
      "execution_count": 13,
      "outputs": [
        {
          "output_type": "stream",
          "text": [
            "/usr/local/lib/python3.6/dist-packages/sklearn/ensemble/forest.py:245: FutureWarning: The default value of n_estimators will change from 10 in version 0.20 to 100 in 0.22.\n",
            "  \"10 in version 0.20 to 100 in 0.22.\", FutureWarning)\n"
          ],
          "name": "stderr"
        },
        {
          "output_type": "execute_result",
          "data": {
            "text/plain": [
              "'Cool, so this is almost model also weights price at a really high weight,\\nsheveloc_good also high, but not as high as bagging, age, advertising, \\nshevloc_bad, advertising, and comp price '"
            ]
          },
          "metadata": {
            "tags": []
          },
          "execution_count": 13
        },
        {
          "output_type": "display_data",
          "data": {
            "image/png": "[encoded data removed]",
            "text/plain": [
              "<Figure size 432x288 with 1 Axes>"
            ]
          },
          "metadata": {
            "tags": []
          }
        }
      ]
    },
    {
      "cell_type": "code",
      "metadata": {
        "id": "_czxRPS4cUe9",
        "colab_type": "code",
        "outputId": "f62551b9-5d6a-4aff-fd91-9b0f3e45b8ed",
        "colab": {
          "base_uri": "https://localhost:8080/",
          "height": 234
        }
      },
      "source": [
        "X_train.head()"
      ],
      "execution_count": 14,
      "outputs": [
        {
          "output_type": "execute_result",
          "data": {
            "text/html": [
              "<div>\n",
              "<style scoped>\n",
              "    .dataframe tbody tr th:only-of-type {\n",
              "        vertical-align: middle;\n",
              "    }\n",
              "\n",
              "    .dataframe tbody tr th {\n",
              "        vertical-align: top;\n",
              "    }\n",
              "\n",
              "    .dataframe thead th {\n",
              "        text-align: right;\n",
              "    }\n",
              "</style>\n",
              "<table border=\"1\" class=\"dataframe\">\n",
              "  <thead>\n",
              "    <tr style=\"text-align: right;\">\n",
              "      <th></th>\n",
              "      <th>Unnamed: 0</th>\n",
              "      <th>CompPrice</th>\n",
              "      <th>Income</th>\n",
              "      <th>Advertising</th>\n",
              "      <th>Population</th>\n",
              "      <th>Price</th>\n",
              "      <th>Age</th>\n",
              "      <th>Education</th>\n",
              "      <th>Urban_No</th>\n",
              "      <th>Urban_Yes</th>\n",
              "      <th>US_No</th>\n",
              "      <th>US_Yes</th>\n",
              "      <th>ShelveLoc_Bad</th>\n",
              "      <th>ShelveLoc_Good</th>\n",
              "      <th>ShelveLoc_Medium</th>\n",
              "    </tr>\n",
              "  </thead>\n",
              "  <tbody>\n",
              "    <tr>\n",
              "      <th>258</th>\n",
              "      <td>259</td>\n",
              "      <td>108</td>\n",
              "      <td>38</td>\n",
              "      <td>0</td>\n",
              "      <td>251</td>\n",
              "      <td>81</td>\n",
              "      <td>72</td>\n",
              "      <td>14</td>\n",
              "      <td>1</td>\n",
              "      <td>0</td>\n",
              "      <td>1</td>\n",
              "      <td>0</td>\n",
              "      <td>1</td>\n",
              "      <td>0</td>\n",
              "      <td>0</td>\n",
              "    </tr>\n",
              "    <tr>\n",
              "      <th>177</th>\n",
              "      <td>178</td>\n",
              "      <td>138</td>\n",
              "      <td>72</td>\n",
              "      <td>0</td>\n",
              "      <td>148</td>\n",
              "      <td>94</td>\n",
              "      <td>27</td>\n",
              "      <td>17</td>\n",
              "      <td>0</td>\n",
              "      <td>1</td>\n",
              "      <td>0</td>\n",
              "      <td>1</td>\n",
              "      <td>0</td>\n",
              "      <td>0</td>\n",
              "      <td>1</td>\n",
              "    </tr>\n",
              "    <tr>\n",
              "      <th>119</th>\n",
              "      <td>120</td>\n",
              "      <td>130</td>\n",
              "      <td>94</td>\n",
              "      <td>8</td>\n",
              "      <td>137</td>\n",
              "      <td>128</td>\n",
              "      <td>64</td>\n",
              "      <td>12</td>\n",
              "      <td>0</td>\n",
              "      <td>1</td>\n",
              "      <td>0</td>\n",
              "      <td>1</td>\n",
              "      <td>0</td>\n",
              "      <td>0</td>\n",
              "      <td>1</td>\n",
              "    </tr>\n",
              "    <tr>\n",
              "      <th>194</th>\n",
              "      <td>195</td>\n",
              "      <td>112</td>\n",
              "      <td>98</td>\n",
              "      <td>18</td>\n",
              "      <td>481</td>\n",
              "      <td>128</td>\n",
              "      <td>45</td>\n",
              "      <td>11</td>\n",
              "      <td>0</td>\n",
              "      <td>1</td>\n",
              "      <td>0</td>\n",
              "      <td>1</td>\n",
              "      <td>0</td>\n",
              "      <td>0</td>\n",
              "      <td>1</td>\n",
              "    </tr>\n",
              "    <tr>\n",
              "      <th>229</th>\n",
              "      <td>230</td>\n",
              "      <td>98</td>\n",
              "      <td>104</td>\n",
              "      <td>0</td>\n",
              "      <td>404</td>\n",
              "      <td>72</td>\n",
              "      <td>27</td>\n",
              "      <td>18</td>\n",
              "      <td>1</td>\n",
              "      <td>0</td>\n",
              "      <td>1</td>\n",
              "      <td>0</td>\n",
              "      <td>0</td>\n",
              "      <td>0</td>\n",
              "      <td>1</td>\n",
              "    </tr>\n",
              "  </tbody>\n",
              "</table>\n",
              "</div>"
            ],
            "text/plain": [
              "     Unnamed: 0  CompPrice  ...  ShelveLoc_Good  ShelveLoc_Medium\n",
              "258         259        108  ...               0                 0\n",
              "177         178        138  ...               0                 1\n",
              "119         120        130  ...               0                 1\n",
              "194         195        112  ...               0                 1\n",
              "229         230         98  ...               0                 1\n",
              "\n",
              "[5 rows x 15 columns]"
            ]
          },
          "metadata": {
            "tags": []
          },
          "execution_count": 14
        }
      ]
    },
    {
      "cell_type": "markdown",
      "metadata": {
        "id": "Co1p0Fd6zocY",
        "colab_type": "text"
      },
      "source": [
        "*** price is the most important feature in the set followed by ShelveLocGood, which was a dummy variable that we got out at the beginning***"
      ]
    },
    {
      "cell_type": "markdown",
      "metadata": {
        "id": "CRn-s1F9MPMe",
        "colab_type": "text"
      },
      "source": [
        "We now use boosting to predict Log Salary in the `Hitters` data set.  \n",
        "(a) Remove the observations for whom the salary information is unknown, and then log-transform the salaries and use that as the outcome variable. Be sure to not incluide the old salary variable as a predictor  \n",
        "(b) Create a training set consisting of 200 observations, and a test set consisting of the remaining observations.  \n",
        "(c) Perform boosting on the training set with 1,000 trees for a range of values of the shrinkage parameter λ. Produce a plot with different shrinkage values on the x-axis and the corresponding training set MSE on the y-axis. Add a curve with different shrinkage values on the x-axis and the corresponding test set MSE on the y-axis. The shrinkage parameter is often referred to as the learning rate   \n",
        "(d) Compare the test MSE of boosting to the test MSE that results from applying two of the regression approaches seen in Chapters 3 and 6. Those are the chapters on OLS and penalized regression.  \n",
        "(e) Which variables appear to be the most important predictors in the boosted model?  \n",
        "(f) The default for base estimator is a Decision Tree with a maximum depth of 3. Is that the optimal depth? Justify your response.\n",
        "(g) Now apply bagging to the training set. What is the test set MSE for this approach?  "
      ]
    },
    {
      "cell_type": "code",
      "metadata": {
        "id": "x37CbLYNMPMf",
        "colab_type": "code",
        "outputId": "e16857e7-4d86-4151-a258-2a0ad6944e89",
        "colab": {
          "base_uri": "https://localhost:8080/",
          "height": 33
        }
      },
      "source": [
        "hit = pd.read_csv(\"/content/drive/My Drive/Hitters.csv\")\n",
        "hit.Salary.isnull().sum()\n",
        "#ok so we have 59 null values \n",
        "hit.shape #and that is out of 322 \n",
        "322-59\n",
        "#ok so we should have 263,20 values after we drop all of the nulls \n",
        "hit.dropna(subset = [\"Salary\"], inplace = True)\n",
        "hit.shape"
      ],
      "execution_count": 15,
      "outputs": [
        {
          "output_type": "execute_result",
          "data": {
            "text/plain": [
              "(263, 20)"
            ]
          },
          "metadata": {
            "tags": []
          },
          "execution_count": 15
        }
      ]
    },
    {
      "cell_type": "code",
      "metadata": {
        "id": "w5LMlOZ42tvp",
        "colab_type": "code",
        "outputId": "3d3a24ad-4214-4701-cd13-ab1c770f0ed2",
        "colab": {
          "base_uri": "https://localhost:8080/",
          "height": 83
        }
      },
      "source": [
        "#creating feature for log salary\n",
        "hit[\"log_sal\"] = np.log(hit[\"Salary\"])\n",
        "hit.head() #sweet \n",
        "\n",
        "#drop the salary column because it will be a perfect indicator of log salary\n",
        "hit.drop(axis = 1, columns = [\"Salary\"])\n",
        "hit.columns"
      ],
      "execution_count": 16,
      "outputs": [
        {
          "output_type": "execute_result",
          "data": {
            "text/plain": [
              "Index(['AtBat', 'Hits', 'HmRun', 'Runs', 'RBI', 'Walks', 'Years', 'CAtBat',\n",
              "       'CHits', 'CHmRun', 'CRuns', 'CRBI', 'CWalks', 'League', 'Division',\n",
              "       'PutOuts', 'Assists', 'Errors', 'Salary', 'NewLeague', 'log_sal'],\n",
              "      dtype='object')"
            ]
          },
          "metadata": {
            "tags": []
          },
          "execution_count": 16
        }
      ]
    },
    {
      "cell_type": "code",
      "metadata": {
        "id": "__8izbUT3dsd",
        "colab_type": "code",
        "outputId": "7f4ce7f1-f92f-4f97-e004-12125bcb2a7b",
        "colab": {
          "base_uri": "https://localhost:8080/",
          "height": 217
        }
      },
      "source": [
        "'''(b) Create a training set consisting of 200 observations, \n",
        "and a test set consisting of the remaining observations'''\n",
        "200/263\n",
        "hit.drop(axis = 1, columns = [\"Salary\"], inplace = True)\n",
        "\n",
        "dum = pd.get_dummies(hit[[\"NewLeague\"]])\n",
        "dum.head()\n",
        "hit = pd.concat([hit, dum], axis = 1) #axis = 1 denotes columns vs rows\n",
        "hit.head()\n",
        "\n",
        "\n",
        "#I am actually going to drop league and division from the algorithm, one \n",
        "# I don't think it will be predictive, and 2, new league variables and the \n",
        "#league variables appear to be very very multi-colinear, not that that is \n",
        "#an issue, but the grader will note that that I am thinking of it, and will\n",
        "#be mindful of the possible implications. Will drop division and league\n",
        "#variables and only keep new league variables \n",
        "hit.drop(axis = 1, columns = [\"League\", \"NewLeague\",\n",
        "                              \"Division\"], inplace = True)\n",
        "\n",
        "\n",
        "X = hit.iloc[:, :-1]\n",
        "y = hit[\"log_sal\"]\n",
        "#ok so the data size is 263, so 200.263 is 76% \n",
        "\n",
        "X_train, X_test, y_train, y_test = train_test_split(hit, y,\n",
        "                                                   test_size = 0.26,\n",
        "                                                   random_state = 42)\n",
        "X_train.head()"
      ],
      "execution_count": 17,
      "outputs": [
        {
          "output_type": "execute_result",
          "data": {
            "text/html": [
              "<div>\n",
              "<style scoped>\n",
              "    .dataframe tbody tr th:only-of-type {\n",
              "        vertical-align: middle;\n",
              "    }\n",
              "\n",
              "    .dataframe tbody tr th {\n",
              "        vertical-align: top;\n",
              "    }\n",
              "\n",
              "    .dataframe thead th {\n",
              "        text-align: right;\n",
              "    }\n",
              "</style>\n",
              "<table border=\"1\" class=\"dataframe\">\n",
              "  <thead>\n",
              "    <tr style=\"text-align: right;\">\n",
              "      <th></th>\n",
              "      <th>AtBat</th>\n",
              "      <th>Hits</th>\n",
              "      <th>HmRun</th>\n",
              "      <th>Runs</th>\n",
              "      <th>RBI</th>\n",
              "      <th>Walks</th>\n",
              "      <th>Years</th>\n",
              "      <th>CAtBat</th>\n",
              "      <th>CHits</th>\n",
              "      <th>CHmRun</th>\n",
              "      <th>CRuns</th>\n",
              "      <th>CRBI</th>\n",
              "      <th>CWalks</th>\n",
              "      <th>PutOuts</th>\n",
              "      <th>Assists</th>\n",
              "      <th>Errors</th>\n",
              "      <th>log_sal</th>\n",
              "      <th>NewLeague_A</th>\n",
              "      <th>NewLeague_N</th>\n",
              "    </tr>\n",
              "  </thead>\n",
              "  <tbody>\n",
              "    <tr>\n",
              "      <th>102</th>\n",
              "      <td>233</td>\n",
              "      <td>49</td>\n",
              "      <td>2</td>\n",
              "      <td>41</td>\n",
              "      <td>23</td>\n",
              "      <td>18</td>\n",
              "      <td>8</td>\n",
              "      <td>1350</td>\n",
              "      <td>336</td>\n",
              "      <td>7</td>\n",
              "      <td>166</td>\n",
              "      <td>122</td>\n",
              "      <td>106</td>\n",
              "      <td>102</td>\n",
              "      <td>132</td>\n",
              "      <td>10</td>\n",
              "      <td>5.926926</td>\n",
              "      <td>1</td>\n",
              "      <td>0</td>\n",
              "    </tr>\n",
              "    <tr>\n",
              "      <th>153</th>\n",
              "      <td>341</td>\n",
              "      <td>95</td>\n",
              "      <td>6</td>\n",
              "      <td>48</td>\n",
              "      <td>42</td>\n",
              "      <td>20</td>\n",
              "      <td>10</td>\n",
              "      <td>2964</td>\n",
              "      <td>808</td>\n",
              "      <td>81</td>\n",
              "      <td>379</td>\n",
              "      <td>428</td>\n",
              "      <td>221</td>\n",
              "      <td>158</td>\n",
              "      <td>4</td>\n",
              "      <td>5</td>\n",
              "      <td>4.605170</td>\n",
              "      <td>0</td>\n",
              "      <td>1</td>\n",
              "    </tr>\n",
              "    <tr>\n",
              "      <th>320</th>\n",
              "      <td>573</td>\n",
              "      <td>144</td>\n",
              "      <td>9</td>\n",
              "      <td>85</td>\n",
              "      <td>60</td>\n",
              "      <td>78</td>\n",
              "      <td>8</td>\n",
              "      <td>3198</td>\n",
              "      <td>857</td>\n",
              "      <td>97</td>\n",
              "      <td>470</td>\n",
              "      <td>420</td>\n",
              "      <td>332</td>\n",
              "      <td>1314</td>\n",
              "      <td>131</td>\n",
              "      <td>12</td>\n",
              "      <td>6.866933</td>\n",
              "      <td>1</td>\n",
              "      <td>0</td>\n",
              "    </tr>\n",
              "    <tr>\n",
              "      <th>135</th>\n",
              "      <td>185</td>\n",
              "      <td>40</td>\n",
              "      <td>4</td>\n",
              "      <td>23</td>\n",
              "      <td>11</td>\n",
              "      <td>18</td>\n",
              "      <td>3</td>\n",
              "      <td>524</td>\n",
              "      <td>125</td>\n",
              "      <td>7</td>\n",
              "      <td>58</td>\n",
              "      <td>37</td>\n",
              "      <td>47</td>\n",
              "      <td>97</td>\n",
              "      <td>2</td>\n",
              "      <td>2</td>\n",
              "      <td>4.499810</td>\n",
              "      <td>0</td>\n",
              "      <td>1</td>\n",
              "    </tr>\n",
              "    <tr>\n",
              "      <th>213</th>\n",
              "      <td>303</td>\n",
              "      <td>71</td>\n",
              "      <td>3</td>\n",
              "      <td>18</td>\n",
              "      <td>30</td>\n",
              "      <td>36</td>\n",
              "      <td>3</td>\n",
              "      <td>344</td>\n",
              "      <td>76</td>\n",
              "      <td>3</td>\n",
              "      <td>20</td>\n",
              "      <td>36</td>\n",
              "      <td>45</td>\n",
              "      <td>468</td>\n",
              "      <td>47</td>\n",
              "      <td>6</td>\n",
              "      <td>4.605170</td>\n",
              "      <td>0</td>\n",
              "      <td>1</td>\n",
              "    </tr>\n",
              "  </tbody>\n",
              "</table>\n",
              "</div>"
            ],
            "text/plain": [
              "     AtBat  Hits  HmRun  Runs  ...  Errors   log_sal  NewLeague_A  NewLeague_N\n",
              "102    233    49      2    41  ...      10  5.926926            1            0\n",
              "153    341    95      6    48  ...       5  4.605170            0            1\n",
              "320    573   144      9    85  ...      12  6.866933            1            0\n",
              "135    185    40      4    23  ...       2  4.499810            0            1\n",
              "213    303    71      3    18  ...       6  4.605170            0            1\n",
              "\n",
              "[5 rows x 19 columns]"
            ]
          },
          "metadata": {
            "tags": []
          },
          "execution_count": 17
        }
      ]
    },
    {
      "cell_type": "code",
      "metadata": {
        "id": "Id4Pho704Jji",
        "colab_type": "code",
        "outputId": "5830bb6a-5776-49f4-fe2c-4f9b0f60544d",
        "colab": {
          "base_uri": "https://localhost:8080/",
          "height": 53
        }
      },
      "source": [
        "'''(c) Perform boosting on the training set with 1,000 trees for a range of \n",
        "values of the shrinkage parameter λ. Produce a plot with different shrinkag\n",
        " values on the x-axis and the corresponding training set MSE on the y-axis.\n",
        "  Add a curve with different shrinkage values on the x-axis and the \n",
        "  corresponding test set MSE on the y-axis. The shrinkage parameter is often \n",
        "  referred to as the learning rate'''"
      ],
      "execution_count": 18,
      "outputs": [
        {
          "output_type": "execute_result",
          "data": {
            "text/plain": [
              "'(c) Perform boosting on the training set with 1,000 trees for a range of \\nvalues of the shrinkage parameter λ. Produce a plot with different shrinkag\\n values on the x-axis and the corresponding training set MSE on the y-axis.\\n  Add a curve with different shrinkage values on the x-axis and the \\n  corresponding test set MSE on the y-axis. The shrinkage parameter is often \\n  referred to as the learning rate'"
            ]
          },
          "metadata": {
            "tags": []
          },
          "execution_count": 18
        }
      ]
    },
    {
      "cell_type": "code",
      "metadata": {
        "id": "-3QC9Rzq_EV9",
        "colab_type": "code",
        "outputId": "5a192c7f-d7ee-47af-8b88-d6c48b6ccc93",
        "colab": {
          "base_uri": "https://localhost:8080/",
          "height": 567
        }
      },
      "source": [
        "#creating a list of my learning rates starting from very small and incrementally\n",
        "#getting bigger \n",
        "def learn_list(start, stop, step, inc):\n",
        "    #start at my smallest learning rate\n",
        "    i = start\n",
        "    #while less than stop \n",
        "    while i < stop:\n",
        "        #yeild when you get up to this line, keep this value of i, so that we can\n",
        "        #work with the data, kind of like appending but faster lol \n",
        "        yield i\n",
        "        #add step to i \n",
        "        i += step\n",
        "        #increase my stepping size \n",
        "        step += inc\n",
        "learn = list(learn_list(.001, .5, .001, .001))\n",
        "print(len(learn))\n",
        "\n",
        "#ok so Inow have 32 values for which are betweeo .001, and .5, that should give\n",
        "# us some good values from which we can see what different learning rates do.\n",
        "\n",
        "\n",
        "## boosting \n",
        "## I feel like Gradient boosting is the easiet boosting ensamble to understand\n",
        "# the grader will recall that the gradient is a directional derivative pointing\n",
        "# in the direction of greatest change, So gradient boosting is a way for us to \n",
        "# peanalize the things that we get wrong and put added weight on those \n",
        "# directional vectors to help the model \n",
        "\n",
        "#finding the mse at different learning rates \n",
        "\n",
        "#start by having two empty list for training and testing \n",
        "tr_mse = []\n",
        "ts_mse = []\n",
        "\n",
        "#for each of the different learning rates \n",
        "for i in range(len(learn)):\n",
        "    #goost with a different learning rate \n",
        "    gb = GradientBoostingRegressor(learning_rate=learn[i])\n",
        "    #use that as one of my parameters, holding the n_estimators constant \n",
        "    params = {'learning_rate':[learn[i]], \"n_estimators\":[1000],\n",
        "          \"criterion\":[\"mse\"]}\n",
        "    #grid sesrch that puppy       \n",
        "    gbgs = GridSearchCV(gb, params)\n",
        "    #fit it \n",
        "    gb.fit(X_train, y_train)\n",
        "    #predict \n",
        "    y_pred = gb.predict(X_test)\n",
        "    #find the mse \n",
        "    mse = mean_squared_error(y_test, y_pred)\n",
        "    #append the testing mse \n",
        "    ts_mse.append(mse)\n",
        "    tr_mse.append(gb.train_score_)\n",
        "ts_mse   \n"
      ],
      "execution_count": 19,
      "outputs": [
        {
          "output_type": "stream",
          "text": [
            "32\n"
          ],
          "name": "stdout"
        },
        {
          "output_type": "execute_result",
          "data": {
            "text/plain": [
              "[0.6165695157376515,\n",
              " 0.5078687211701748,\n",
              " 0.3444395670474103,\n",
              " 0.19297196957426185,\n",
              " 0.09008320472067537,\n",
              " 0.034813221133518625,\n",
              " 0.011154786063851898,\n",
              " 0.003090733174177704,\n",
              " 0.0008912789847329761,\n",
              " 0.00037811333800364695,\n",
              " 0.00030158821162625774,\n",
              " 0.00032917381249885215,\n",
              " 0.0002954499034382626,\n",
              " 0.00027013546595470414,\n",
              " 0.00031492918101764557,\n",
              " 0.00035559222441331205,\n",
              " 0.00034819431942551346,\n",
              " 0.00030446371709717996,\n",
              " 0.0004366710658516017,\n",
              " 0.0004606588378508595,\n",
              " 0.0004934750027246936,\n",
              " 0.0005280753553196214,\n",
              " 0.0005385730669656145,\n",
              " 0.0006994877636108355,\n",
              " 0.0008167117334516816,\n",
              " 0.0008398101849657798,\n",
              " 0.0009256246024758087,\n",
              " 0.0013732750177872248,\n",
              " 0.0014040124975702307,\n",
              " 0.001509317946710854,\n",
              " 0.0018467508669433876,\n",
              " 0.001781998169727051]"
            ]
          },
          "metadata": {
            "tags": []
          },
          "execution_count": 19
        }
      ]
    },
    {
      "cell_type": "code",
      "metadata": {
        "id": "Tmg9k4jKS9l5",
        "colab_type": "code",
        "outputId": "09e9c6da-fc2e-4631-f748-3bce3e1bf296",
        "colab": {
          "base_uri": "https://localhost:8080/",
          "height": 33
        }
      },
      "source": [
        "# gb = GradientBoostingRegressor()\n",
        "# #use that as one of my parameters, holding the n_estimators constant \n",
        "# params = {'learning_rate':[learn[i]], \"n_estimators\":[1000],\n",
        "#           \"criterion\":[\"mse\"]}\n",
        "# #grid sesrch that puppy       \n",
        "# gbgs = GridSearchCV(gb, params)\n",
        "# #fit it \n",
        "# gb.fit(X_train, y_train)\n",
        "matrix = gb.train_score_\n",
        "matrix.shape"
      ],
      "execution_count": 20,
      "outputs": [
        {
          "output_type": "execute_result",
          "data": {
            "text/plain": [
              "(100,)"
            ]
          },
          "metadata": {
            "tags": []
          },
          "execution_count": 20
        }
      ]
    },
    {
      "cell_type": "code",
      "metadata": {
        "id": "tnVpcbL6c5lh",
        "colab_type": "code",
        "outputId": "6231e5c5-665c-4c8c-c345-071082e1aada",
        "colab": {
          "base_uri": "https://localhost:8080/",
          "height": 281
        }
      },
      "source": [
        "plt.plot(ts_mse, label = \"testing\")\n",
        "plt.plot(matrix, label = \"training\")\n",
        "plt.title(\"learning curve for our testing\")\n",
        "plt.legend()\n",
        "plt.show()"
      ],
      "execution_count": 21,
      "outputs": [
        {
          "output_type": "display_data",
          "data": {
            "image/png": "[encoded data removed]",
            "text/plain": [
              "<Figure size 432x288 with 1 Axes>"
            ]
          },
          "metadata": {
            "tags": []
          }
        }
      ]
    },
    {
      "cell_type": "code",
      "metadata": {
        "id": "5-BWWOiPv-Pj",
        "colab_type": "code",
        "outputId": "f196cdfb-ed2b-4f62-f9d4-3f275b1a9213",
        "colab": {
          "base_uri": "https://localhost:8080/",
          "height": 167
        }
      },
      "source": [
        "gb = GradientBoostingRegressor(learning_rate=learn[1])\n",
        "params = {'learning_rate':[learn[1]], \"n_estimators\":[1000],\n",
        "          \"criterion\":[\"mse\"]}\n",
        "\n",
        "gbgs = GridSearchCV(gb, params)\n",
        "\n",
        "gb.fit(X_train, y_train)\n",
        "#y_pred = gb.predict(X_test)\n",
        "#mse = mean_squared_error(y_test, y_pred)\n",
        "#ts_mse.append(mse)\n",
        "\n"
      ],
      "execution_count": 22,
      "outputs": [
        {
          "output_type": "execute_result",
          "data": {
            "text/plain": [
              "GradientBoostingRegressor(alpha=0.9, criterion='friedman_mse', init=None,\n",
              "                          learning_rate=0.002, loss='ls', max_depth=3,\n",
              "                          max_features=None, max_leaf_nodes=None,\n",
              "                          min_impurity_decrease=0.0, min_impurity_split=None,\n",
              "                          min_samples_leaf=1, min_samples_split=2,\n",
              "                          min_weight_fraction_leaf=0.0, n_estimators=100,\n",
              "                          n_iter_no_change=None, presort='auto',\n",
              "                          random_state=None, subsample=1.0, tol=0.0001,\n",
              "                          validation_fraction=0.1, verbose=0, warm_start=False)"
            ]
          },
          "metadata": {
            "tags": []
          },
          "execution_count": 22
        }
      ]
    },
    {
      "cell_type": "markdown",
      "metadata": {
        "id": "DjBJXmZCMPMh",
        "colab_type": "text"
      },
      "source": [
        "In this problem, you will use support vector approaches in order to predict whether a given car gets high or low gas mileage based on the Auto data set.  \n",
        "(a) Create a binary variable that takes on a 1 for cars with gas mileage above the median, and a 0 for cars with gas mileage below the median. Should we continue using gas mileage as a predictor if this is our outcome?  \n",
        "(b) Fit a support vector classifier to the data with various values of cost, in order to predict whether a car gets high or low gas mileage. Report the cross-validation errors associated with different values of this parameter. Comment on your results.  \n",
        "(c) Now repeat (b), this time using SVMs with radial and polynomial basis kernels, with different values of gamma and degree and cost. Comment on your results. What parameters yield the best results?"
      ]
    },
    {
      "cell_type": "code",
      "metadata": {
        "id": "0HTCT_OeMPMh",
        "colab_type": "code",
        "outputId": "c33e1153-49d5-48f7-b495-18837d2eda47",
        "colab": {
          "base_uri": "https://localhost:8080/",
          "height": 67
        }
      },
      "source": [
        "auto = pd.read_csv(\"/content/drive/My Drive/Auto.csv\")\n",
        "auto.columns"
      ],
      "execution_count": 23,
      "outputs": [
        {
          "output_type": "execute_result",
          "data": {
            "text/plain": [
              "Index(['mpg', 'cylinders', 'displacement', 'horsepower', 'weight',\n",
              "       'acceleration', 'year', 'origin', 'name'],\n",
              "      dtype='object')"
            ]
          },
          "metadata": {
            "tags": []
          },
          "execution_count": 23
        }
      ]
    },
    {
      "cell_type": "code",
      "metadata": {
        "id": "MWezLCfvTGh_",
        "colab_type": "code",
        "outputId": "9c7fb816-9c57-4527-e3f7-2f337687c9ce",
        "colab": {
          "base_uri": "https://localhost:8080/",
          "height": 67
        }
      },
      "source": [
        "abv_avg = []\n",
        "for i in range(len(auto)):\n",
        "    if auto.mpg[i] >= np.median(auto.mpg):\n",
        "        abv_avg.append(1)\n",
        "    else:\n",
        "        abv_avg.append(0)\n",
        "auto['abv_avg'] = abv_avg\n",
        "\n",
        "'''should we continue to use gas mileage as a predictor?\n",
        "-- it depends on if we want an unbiased estimator.  Obviously the mpg of the \n",
        "car will be highly corrleated with being above or below average.  The model\n",
        "will preform better in prediction with MPG is included in the dataset '''\n",
        "auto.columns"
      ],
      "execution_count": 24,
      "outputs": [
        {
          "output_type": "execute_result",
          "data": {
            "text/plain": [
              "Index(['mpg', 'cylinders', 'displacement', 'horsepower', 'weight',\n",
              "       'acceleration', 'year', 'origin', 'name', 'abv_avg'],\n",
              "      dtype='object')"
            ]
          },
          "metadata": {
            "tags": []
          },
          "execution_count": 24
        }
      ]
    },
    {
      "cell_type": "code",
      "metadata": {
        "id": "96gsVBoPTMCl",
        "colab_type": "code",
        "outputId": "b7d94d96-eba8-4e9f-e413-425784dd18ab",
        "colab": {
          "base_uri": "https://localhost:8080/",
          "height": 33
        }
      },
      "source": [
        "#trying to see if it is worth using get_dummies on the auto.name column \n",
        "auto.name.nunique()\n",
        "#ok so there are 304 unique values, and I don't want to use 304 indicator variables \n",
        "#on this so I will just drop the column and only select numerical data to do\n",
        "# the SVM model \n",
        "\n",
        "#what is the orgin column?\n",
        "auto.origin.nunique()\n",
        "#there are only three outcomes, but they are ama"
      ],
      "execution_count": 25,
      "outputs": [
        {
          "output_type": "execute_result",
          "data": {
            "text/plain": [
              "3"
            ]
          },
          "metadata": {
            "tags": []
          },
          "execution_count": 25
        }
      ]
    },
    {
      "cell_type": "code",
      "metadata": {
        "id": "g-17yNMGVFpe",
        "colab_type": "code",
        "colab": {}
      },
      "source": [
        "auto.drop(axis = 1, columns = [\"name\"], inplace = True)\n",
        "\n",
        "#selecting the data we want \n",
        "data = auto.iloc[:, :-1]\n",
        "# making sure i don't get weird missing values / strings \n",
        "data = data.select_dtypes(include = [np.number])\n",
        "y = auto.abv_avg"
      ],
      "execution_count": 0,
      "outputs": []
    },
    {
      "cell_type": "code",
      "metadata": {
        "id": "icrzDHynWvn0",
        "colab_type": "code",
        "outputId": "0f40fa63-9f0e-4366-982b-4e660aa810c5",
        "colab": {
          "base_uri": "https://localhost:8080/",
          "height": 87
        }
      },
      "source": [
        "'''\n",
        "Ok, the grader will recall that the goal of Support Vector Machines, SVM, is to\n",
        "see if there are natural clusters in the data, to classify a data point based\n",
        "on its vector from the orgin.  To do so SVM creates a hyper parameter between\n",
        "the two most \"extreme\" points in a natural cluster. (the two closest data points\n",
        "to the other group).  In two dimentions, the \"hyperplane\" is a vector, splitting \n",
        "the two groups. \n",
        "\n",
        "However if you can split groups linearly and there is no cross over, 1 that\n",
        "is not very interesting and second, and they are not naturally occuring phenomina\n",
        "so to get around this, and classify what we know will be eventual cross over, we \n",
        "introduce hyper parameter C. \n",
        "\n",
        "The idea of the hyper parameter is fiding a distance between a max margin\n",
        "classifier and limiting the number of margin violations.  The smaller the value\n",
        "of C, the more margin violations, but the larger distance between the hyper\n",
        "plane and the SVM.  Inversely, the higher value, the less margin violations, but \n",
        "the the smaller the distance between the hyper pland and the SV. \n",
        "\n",
        "Dr Fransen would note the higher the C is, the more variance, and reducing C\n",
        "leads to more bias. \n",
        "\n",
        "We will find C using cross validation that follows \n",
        "-----------------------------------------------------------------------------\n",
        "Another trick for SVM\n",
        "SO mathmatically, what is going on when creating the Support Vectors is that you\n",
        "are simply taking the inner product of the observations.  A quick recap, the \n",
        "inner product is very much related to the dot product and measure similarities \n",
        "of vectores and allows for vector multiplication resulting in a scaler value. It\n",
        "must meet a few more requierments and be positive definate and stuff, like that,\n",
        "I don't remember the 4 conditions but thats the idea. \n",
        "\n",
        "The kernel trick we can use will do the following, allow the model to see if a \n",
        "linear form, polynomial form or radial form will be better in classification.  \n",
        "In essence, what we are allowing the model to do, in higher dimentions, it may \n",
        "be more efficient to raise the scaler values to a power, than to just add them \n",
        "all up, or for Radial, it might be the case that two observations are very far\n",
        "apart, so we want to get the exponent of a large negitive number which makes\n",
        "the distance scaled to a very small number, this way the observations that are \n",
        "extraneous have less weight. Think loss function but not really, but same kind\n",
        "of idea... Gamma is the radial parameter > 0 \n",
        "\n",
        "Anyway, thats what we are going to put into our param_dict, so if you got this \n",
        "far thanks for reading my novel.\n",
        "'''\n",
        "\n",
        "X_train, X_test, y_train, y_test = train_test_split(data, y, \n",
        "                                                    test_size = .33)\n",
        "from sklearn.svm import SVC\n",
        "svc = SVC(kernel = \"linear\")\n",
        "\n",
        "#creating dictionary\n",
        "sv_params = {\"C\": [0.03, 0.06, .09, .12, 0.15], \n",
        "             #\"kernel\": ['linear'], \n",
        "             'gamma': [0.3, .6, .9, 1.2, 1.5]}\n",
        "\n",
        "\n",
        "gridsearch = GridSearchCV(svc, \n",
        "                          sv_params, \n",
        "                          scoring='f1')\n",
        "\n",
        "gridsearch.fit(X_train, y_train)\n",
        "print(\"Best Params: {}\".format(gridsearch.best_params_))\n",
        "\n",
        "y_pred = gridsearch.predict(X_test)"
      ],
      "execution_count": 27,
      "outputs": [
        {
          "output_type": "stream",
          "text": [
            "/usr/local/lib/python3.6/dist-packages/sklearn/model_selection/_split.py:1978: FutureWarning: The default value of cv will change from 3 to 5 in version 0.22. Specify it explicitly to silence this warning.\n",
            "  warnings.warn(CV_WARNING, FutureWarning)\n"
          ],
          "name": "stderr"
        },
        {
          "output_type": "stream",
          "text": [
            "Best Params: {'C': 0.03, 'gamma': 0.3}\n"
          ],
          "name": "stdout"
        }
      ]
    },
    {
      "cell_type": "code",
      "metadata": {
        "id": "AJpNAawiXLVx",
        "colab_type": "code",
        "outputId": "276d3e70-e197-41a1-83c1-afbc62f7fbb0",
        "colab": {
          "base_uri": "https://localhost:8080/",
          "height": 200
        }
      },
      "source": [
        "#getting accuracy metrics \n",
        "from sklearn.metrics import f1_score, classification_report\n",
        "report = classification_report(y_test, y_pred)\n",
        "print(report)\n",
        "\n",
        "from sklearn.metrics import confusion_matrix\n",
        "\n",
        "\n",
        "\n",
        "cm = confusion_matrix(y_test, y_pred)\n",
        "print(cm)\n",
        "\n",
        "# cool so this is classifying very well, high precision and accuracy, only one\n",
        "#miss, that's not bad "
      ],
      "execution_count": 28,
      "outputs": [
        {
          "output_type": "stream",
          "text": [
            "              precision    recall  f1-score   support\n",
            "\n",
            "           0       1.00      1.00      1.00        60\n",
            "           1       1.00      1.00      1.00        72\n",
            "\n",
            "    accuracy                           1.00       132\n",
            "   macro avg       1.00      1.00      1.00       132\n",
            "weighted avg       1.00      1.00      1.00       132\n",
            "\n",
            "[[60  0]\n",
            " [ 0 72]]\n"
          ],
          "name": "stdout"
        }
      ]
    },
    {
      "cell_type": "code",
      "metadata": {
        "id": "4taoLqEgH5i-",
        "colab_type": "code",
        "outputId": "dd714b38-0e51-4de4-c91a-2a23e4c450e3",
        "colab": {
          "base_uri": "https://localhost:8080/",
          "height": 1000
        }
      },
      "source": [
        "#repeating for RBF kernel \n",
        "\n",
        "svc = SVC(kernel = \"rbf\")\n",
        "sv_params = {\"C\": [0.03, 0.06, .09, .12, 0.15], \n",
        "             #\"kernel\": ['rbf'],\n",
        "             'gamma': [0.3, .6, .9, 1.2, 1.5]}\n",
        "\n",
        "\n",
        "gridsearch = GridSearchCV(svc, \n",
        "                          sv_params, \n",
        "                          scoring='f1'\n",
        "                          )\n",
        "\n",
        "gridsearch.fit(X_train, y_train)\n",
        "print(\"Best Params: {}\".format(gridsearch.best_params_))\n",
        "#getting accuracy metrics \n",
        "\n",
        "y_pred = gridsearch.predict(X_test)\n",
        "report = classification_report(y_test, y_pred)\n",
        "print(report)\n",
        "\n",
        "from sklearn.metrics import confusion_matrix\n",
        "\n",
        "cm = confusion_matrix(y_test, y_pred)\n",
        "print(cm)\n",
        "\n",
        "#Not so good, not one positive was picked correctly, and every one was picked \n",
        "#incorrectly,... At first I thought I was doing something wrong, but the more \n",
        "# i look at it the more it makes sense. We expect there to be a linear relationship\n",
        "#between the mpg and the other components of a car, weight, acceleration, mpg, \n",
        "# so usint radians or circles to classify the data is not likely to translate \n",
        "# well because the nature of the data is inherantly linear. "
      ],
      "execution_count": 29,
      "outputs": [
        {
          "output_type": "stream",
          "text": [
            "/usr/local/lib/python3.6/dist-packages/sklearn/model_selection/_split.py:1978: FutureWarning: The default value of cv will change from 3 to 5 in version 0.22. Specify it explicitly to silence this warning.\n",
            "  warnings.warn(CV_WARNING, FutureWarning)\n",
            "/usr/local/lib/python3.6/dist-packages/sklearn/metrics/classification.py:1437: UndefinedMetricWarning: F-score is ill-defined and being set to 0.0 due to no predicted samples.\n",
            "  'precision', 'predicted', average, warn_for)\n",
            "/usr/local/lib/python3.6/dist-packages/sklearn/metrics/classification.py:1437: UndefinedMetricWarning: F-score is ill-defined and being set to 0.0 due to no predicted samples.\n",
            "  'precision', 'predicted', average, warn_for)\n",
            "/usr/local/lib/python3.6/dist-packages/sklearn/metrics/classification.py:1437: UndefinedMetricWarning: F-score is ill-defined and being set to 0.0 due to no predicted samples.\n",
            "  'precision', 'predicted', average, warn_for)\n",
            "/usr/local/lib/python3.6/dist-packages/sklearn/metrics/classification.py:1437: UndefinedMetricWarning: F-score is ill-defined and being set to 0.0 due to no predicted samples.\n",
            "  'precision', 'predicted', average, warn_for)\n",
            "/usr/local/lib/python3.6/dist-packages/sklearn/metrics/classification.py:1437: UndefinedMetricWarning: F-score is ill-defined and being set to 0.0 due to no predicted samples.\n",
            "  'precision', 'predicted', average, warn_for)\n",
            "/usr/local/lib/python3.6/dist-packages/sklearn/metrics/classification.py:1437: UndefinedMetricWarning: F-score is ill-defined and being set to 0.0 due to no predicted samples.\n",
            "  'precision', 'predicted', average, warn_for)\n",
            "/usr/local/lib/python3.6/dist-packages/sklearn/metrics/classification.py:1437: UndefinedMetricWarning: F-score is ill-defined and being set to 0.0 due to no predicted samples.\n",
            "  'precision', 'predicted', average, warn_for)\n",
            "/usr/local/lib/python3.6/dist-packages/sklearn/metrics/classification.py:1437: UndefinedMetricWarning: F-score is ill-defined and being set to 0.0 due to no predicted samples.\n",
            "  'precision', 'predicted', average, warn_for)\n",
            "/usr/local/lib/python3.6/dist-packages/sklearn/metrics/classification.py:1437: UndefinedMetricWarning: F-score is ill-defined and being set to 0.0 due to no predicted samples.\n",
            "  'precision', 'predicted', average, warn_for)\n",
            "/usr/local/lib/python3.6/dist-packages/sklearn/metrics/classification.py:1437: UndefinedMetricWarning: F-score is ill-defined and being set to 0.0 due to no predicted samples.\n",
            "  'precision', 'predicted', average, warn_for)\n",
            "/usr/local/lib/python3.6/dist-packages/sklearn/metrics/classification.py:1437: UndefinedMetricWarning: F-score is ill-defined and being set to 0.0 due to no predicted samples.\n",
            "  'precision', 'predicted', average, warn_for)\n",
            "/usr/local/lib/python3.6/dist-packages/sklearn/metrics/classification.py:1437: UndefinedMetricWarning: F-score is ill-defined and being set to 0.0 due to no predicted samples.\n",
            "  'precision', 'predicted', average, warn_for)\n",
            "/usr/local/lib/python3.6/dist-packages/sklearn/metrics/classification.py:1437: UndefinedMetricWarning: F-score is ill-defined and being set to 0.0 due to no predicted samples.\n",
            "  'precision', 'predicted', average, warn_for)\n",
            "/usr/local/lib/python3.6/dist-packages/sklearn/metrics/classification.py:1437: UndefinedMetricWarning: F-score is ill-defined and being set to 0.0 due to no predicted samples.\n",
            "  'precision', 'predicted', average, warn_for)\n",
            "/usr/local/lib/python3.6/dist-packages/sklearn/metrics/classification.py:1437: UndefinedMetricWarning: F-score is ill-defined and being set to 0.0 due to no predicted samples.\n",
            "  'precision', 'predicted', average, warn_for)\n",
            "/usr/local/lib/python3.6/dist-packages/sklearn/metrics/classification.py:1437: UndefinedMetricWarning: F-score is ill-defined and being set to 0.0 due to no predicted samples.\n",
            "  'precision', 'predicted', average, warn_for)\n",
            "/usr/local/lib/python3.6/dist-packages/sklearn/metrics/classification.py:1437: UndefinedMetricWarning: F-score is ill-defined and being set to 0.0 due to no predicted samples.\n",
            "  'precision', 'predicted', average, warn_for)\n",
            "/usr/local/lib/python3.6/dist-packages/sklearn/metrics/classification.py:1437: UndefinedMetricWarning: F-score is ill-defined and being set to 0.0 due to no predicted samples.\n",
            "  'precision', 'predicted', average, warn_for)\n",
            "/usr/local/lib/python3.6/dist-packages/sklearn/metrics/classification.py:1437: UndefinedMetricWarning: F-score is ill-defined and being set to 0.0 due to no predicted samples.\n",
            "  'precision', 'predicted', average, warn_for)\n",
            "/usr/local/lib/python3.6/dist-packages/sklearn/metrics/classification.py:1437: UndefinedMetricWarning: F-score is ill-defined and being set to 0.0 due to no predicted samples.\n",
            "  'precision', 'predicted', average, warn_for)\n",
            "/usr/local/lib/python3.6/dist-packages/sklearn/metrics/classification.py:1437: UndefinedMetricWarning: F-score is ill-defined and being set to 0.0 due to no predicted samples.\n",
            "  'precision', 'predicted', average, warn_for)\n",
            "/usr/local/lib/python3.6/dist-packages/sklearn/metrics/classification.py:1437: UndefinedMetricWarning: F-score is ill-defined and being set to 0.0 due to no predicted samples.\n",
            "  'precision', 'predicted', average, warn_for)\n",
            "/usr/local/lib/python3.6/dist-packages/sklearn/metrics/classification.py:1437: UndefinedMetricWarning: F-score is ill-defined and being set to 0.0 due to no predicted samples.\n",
            "  'precision', 'predicted', average, warn_for)\n",
            "/usr/local/lib/python3.6/dist-packages/sklearn/metrics/classification.py:1437: UndefinedMetricWarning: F-score is ill-defined and being set to 0.0 due to no predicted samples.\n",
            "  'precision', 'predicted', average, warn_for)\n",
            "/usr/local/lib/python3.6/dist-packages/sklearn/metrics/classification.py:1437: UndefinedMetricWarning: F-score is ill-defined and being set to 0.0 due to no predicted samples.\n",
            "  'precision', 'predicted', average, warn_for)\n",
            "/usr/local/lib/python3.6/dist-packages/sklearn/metrics/classification.py:1437: UndefinedMetricWarning: F-score is ill-defined and being set to 0.0 due to no predicted samples.\n",
            "  'precision', 'predicted', average, warn_for)\n",
            "/usr/local/lib/python3.6/dist-packages/sklearn/metrics/classification.py:1437: UndefinedMetricWarning: F-score is ill-defined and being set to 0.0 due to no predicted samples.\n",
            "  'precision', 'predicted', average, warn_for)\n",
            "/usr/local/lib/python3.6/dist-packages/sklearn/metrics/classification.py:1437: UndefinedMetricWarning: F-score is ill-defined and being set to 0.0 due to no predicted samples.\n",
            "  'precision', 'predicted', average, warn_for)\n",
            "/usr/local/lib/python3.6/dist-packages/sklearn/metrics/classification.py:1437: UndefinedMetricWarning: F-score is ill-defined and being set to 0.0 due to no predicted samples.\n",
            "  'precision', 'predicted', average, warn_for)\n",
            "/usr/local/lib/python3.6/dist-packages/sklearn/metrics/classification.py:1437: UndefinedMetricWarning: F-score is ill-defined and being set to 0.0 due to no predicted samples.\n",
            "  'precision', 'predicted', average, warn_for)\n",
            "/usr/local/lib/python3.6/dist-packages/sklearn/metrics/classification.py:1437: UndefinedMetricWarning: F-score is ill-defined and being set to 0.0 due to no predicted samples.\n",
            "  'precision', 'predicted', average, warn_for)\n",
            "/usr/local/lib/python3.6/dist-packages/sklearn/metrics/classification.py:1437: UndefinedMetricWarning: F-score is ill-defined and being set to 0.0 due to no predicted samples.\n",
            "  'precision', 'predicted', average, warn_for)\n",
            "/usr/local/lib/python3.6/dist-packages/sklearn/metrics/classification.py:1437: UndefinedMetricWarning: F-score is ill-defined and being set to 0.0 due to no predicted samples.\n",
            "  'precision', 'predicted', average, warn_for)\n",
            "/usr/local/lib/python3.6/dist-packages/sklearn/metrics/classification.py:1437: UndefinedMetricWarning: F-score is ill-defined and being set to 0.0 due to no predicted samples.\n",
            "  'precision', 'predicted', average, warn_for)\n",
            "/usr/local/lib/python3.6/dist-packages/sklearn/metrics/classification.py:1437: UndefinedMetricWarning: F-score is ill-defined and being set to 0.0 due to no predicted samples.\n",
            "  'precision', 'predicted', average, warn_for)\n",
            "/usr/local/lib/python3.6/dist-packages/sklearn/metrics/classification.py:1437: UndefinedMetricWarning: F-score is ill-defined and being set to 0.0 due to no predicted samples.\n",
            "  'precision', 'predicted', average, warn_for)\n",
            "/usr/local/lib/python3.6/dist-packages/sklearn/metrics/classification.py:1437: UndefinedMetricWarning: F-score is ill-defined and being set to 0.0 due to no predicted samples.\n",
            "  'precision', 'predicted', average, warn_for)\n",
            "/usr/local/lib/python3.6/dist-packages/sklearn/metrics/classification.py:1437: UndefinedMetricWarning: F-score is ill-defined and being set to 0.0 due to no predicted samples.\n",
            "  'precision', 'predicted', average, warn_for)\n",
            "/usr/local/lib/python3.6/dist-packages/sklearn/metrics/classification.py:1437: UndefinedMetricWarning: F-score is ill-defined and being set to 0.0 due to no predicted samples.\n",
            "  'precision', 'predicted', average, warn_for)\n",
            "/usr/local/lib/python3.6/dist-packages/sklearn/metrics/classification.py:1437: UndefinedMetricWarning: F-score is ill-defined and being set to 0.0 due to no predicted samples.\n",
            "  'precision', 'predicted', average, warn_for)\n",
            "/usr/local/lib/python3.6/dist-packages/sklearn/metrics/classification.py:1437: UndefinedMetricWarning: F-score is ill-defined and being set to 0.0 due to no predicted samples.\n",
            "  'precision', 'predicted', average, warn_for)\n",
            "/usr/local/lib/python3.6/dist-packages/sklearn/metrics/classification.py:1437: UndefinedMetricWarning: F-score is ill-defined and being set to 0.0 due to no predicted samples.\n",
            "  'precision', 'predicted', average, warn_for)\n",
            "/usr/local/lib/python3.6/dist-packages/sklearn/metrics/classification.py:1437: UndefinedMetricWarning: F-score is ill-defined and being set to 0.0 due to no predicted samples.\n",
            "  'precision', 'predicted', average, warn_for)\n",
            "/usr/local/lib/python3.6/dist-packages/sklearn/metrics/classification.py:1437: UndefinedMetricWarning: F-score is ill-defined and being set to 0.0 due to no predicted samples.\n",
            "  'precision', 'predicted', average, warn_for)\n",
            "/usr/local/lib/python3.6/dist-packages/sklearn/metrics/classification.py:1437: UndefinedMetricWarning: F-score is ill-defined and being set to 0.0 due to no predicted samples.\n",
            "  'precision', 'predicted', average, warn_for)\n",
            "/usr/local/lib/python3.6/dist-packages/sklearn/metrics/classification.py:1437: UndefinedMetricWarning: F-score is ill-defined and being set to 0.0 due to no predicted samples.\n",
            "  'precision', 'predicted', average, warn_for)\n",
            "/usr/local/lib/python3.6/dist-packages/sklearn/metrics/classification.py:1437: UndefinedMetricWarning: F-score is ill-defined and being set to 0.0 due to no predicted samples.\n",
            "  'precision', 'predicted', average, warn_for)\n",
            "/usr/local/lib/python3.6/dist-packages/sklearn/metrics/classification.py:1437: UndefinedMetricWarning: F-score is ill-defined and being set to 0.0 due to no predicted samples.\n",
            "  'precision', 'predicted', average, warn_for)\n",
            "/usr/local/lib/python3.6/dist-packages/sklearn/metrics/classification.py:1437: UndefinedMetricWarning: F-score is ill-defined and being set to 0.0 due to no predicted samples.\n",
            "  'precision', 'predicted', average, warn_for)\n",
            "/usr/local/lib/python3.6/dist-packages/sklearn/metrics/classification.py:1437: UndefinedMetricWarning: F-score is ill-defined and being set to 0.0 due to no predicted samples.\n",
            "  'precision', 'predicted', average, warn_for)\n",
            "/usr/local/lib/python3.6/dist-packages/sklearn/metrics/classification.py:1437: UndefinedMetricWarning: F-score is ill-defined and being set to 0.0 due to no predicted samples.\n",
            "  'precision', 'predicted', average, warn_for)\n",
            "/usr/local/lib/python3.6/dist-packages/sklearn/metrics/classification.py:1437: UndefinedMetricWarning: F-score is ill-defined and being set to 0.0 due to no predicted samples.\n",
            "  'precision', 'predicted', average, warn_for)\n",
            "/usr/local/lib/python3.6/dist-packages/sklearn/metrics/classification.py:1437: UndefinedMetricWarning: F-score is ill-defined and being set to 0.0 due to no predicted samples.\n",
            "  'precision', 'predicted', average, warn_for)\n",
            "/usr/local/lib/python3.6/dist-packages/sklearn/metrics/classification.py:1437: UndefinedMetricWarning: F-score is ill-defined and being set to 0.0 due to no predicted samples.\n",
            "  'precision', 'predicted', average, warn_for)\n",
            "/usr/local/lib/python3.6/dist-packages/sklearn/metrics/classification.py:1437: UndefinedMetricWarning: F-score is ill-defined and being set to 0.0 due to no predicted samples.\n",
            "  'precision', 'predicted', average, warn_for)\n",
            "/usr/local/lib/python3.6/dist-packages/sklearn/metrics/classification.py:1437: UndefinedMetricWarning: F-score is ill-defined and being set to 0.0 due to no predicted samples.\n",
            "  'precision', 'predicted', average, warn_for)\n",
            "/usr/local/lib/python3.6/dist-packages/sklearn/metrics/classification.py:1437: UndefinedMetricWarning: F-score is ill-defined and being set to 0.0 due to no predicted samples.\n",
            "  'precision', 'predicted', average, warn_for)\n",
            "/usr/local/lib/python3.6/dist-packages/sklearn/metrics/classification.py:1437: UndefinedMetricWarning: F-score is ill-defined and being set to 0.0 due to no predicted samples.\n",
            "  'precision', 'predicted', average, warn_for)\n",
            "/usr/local/lib/python3.6/dist-packages/sklearn/metrics/classification.py:1437: UndefinedMetricWarning: F-score is ill-defined and being set to 0.0 due to no predicted samples.\n",
            "  'precision', 'predicted', average, warn_for)\n",
            "/usr/local/lib/python3.6/dist-packages/sklearn/metrics/classification.py:1437: UndefinedMetricWarning: F-score is ill-defined and being set to 0.0 due to no predicted samples.\n",
            "  'precision', 'predicted', average, warn_for)\n",
            "/usr/local/lib/python3.6/dist-packages/sklearn/metrics/classification.py:1437: UndefinedMetricWarning: F-score is ill-defined and being set to 0.0 due to no predicted samples.\n",
            "  'precision', 'predicted', average, warn_for)\n",
            "/usr/local/lib/python3.6/dist-packages/sklearn/metrics/classification.py:1437: UndefinedMetricWarning: F-score is ill-defined and being set to 0.0 due to no predicted samples.\n",
            "  'precision', 'predicted', average, warn_for)\n",
            "/usr/local/lib/python3.6/dist-packages/sklearn/metrics/classification.py:1437: UndefinedMetricWarning: F-score is ill-defined and being set to 0.0 due to no predicted samples.\n",
            "  'precision', 'predicted', average, warn_for)\n",
            "/usr/local/lib/python3.6/dist-packages/sklearn/metrics/classification.py:1437: UndefinedMetricWarning: F-score is ill-defined and being set to 0.0 due to no predicted samples.\n",
            "  'precision', 'predicted', average, warn_for)\n",
            "/usr/local/lib/python3.6/dist-packages/sklearn/metrics/classification.py:1437: UndefinedMetricWarning: F-score is ill-defined and being set to 0.0 due to no predicted samples.\n",
            "  'precision', 'predicted', average, warn_for)\n",
            "/usr/local/lib/python3.6/dist-packages/sklearn/metrics/classification.py:1437: UndefinedMetricWarning: F-score is ill-defined and being set to 0.0 due to no predicted samples.\n",
            "  'precision', 'predicted', average, warn_for)\n",
            "/usr/local/lib/python3.6/dist-packages/sklearn/metrics/classification.py:1437: UndefinedMetricWarning: F-score is ill-defined and being set to 0.0 due to no predicted samples.\n",
            "  'precision', 'predicted', average, warn_for)\n",
            "/usr/local/lib/python3.6/dist-packages/sklearn/metrics/classification.py:1437: UndefinedMetricWarning: F-score is ill-defined and being set to 0.0 due to no predicted samples.\n",
            "  'precision', 'predicted', average, warn_for)\n",
            "/usr/local/lib/python3.6/dist-packages/sklearn/metrics/classification.py:1437: UndefinedMetricWarning: F-score is ill-defined and being set to 0.0 due to no predicted samples.\n",
            "  'precision', 'predicted', average, warn_for)\n",
            "/usr/local/lib/python3.6/dist-packages/sklearn/metrics/classification.py:1437: UndefinedMetricWarning: F-score is ill-defined and being set to 0.0 due to no predicted samples.\n",
            "  'precision', 'predicted', average, warn_for)\n",
            "/usr/local/lib/python3.6/dist-packages/sklearn/metrics/classification.py:1437: UndefinedMetricWarning: F-score is ill-defined and being set to 0.0 due to no predicted samples.\n",
            "  'precision', 'predicted', average, warn_for)\n",
            "/usr/local/lib/python3.6/dist-packages/sklearn/metrics/classification.py:1437: UndefinedMetricWarning: F-score is ill-defined and being set to 0.0 due to no predicted samples.\n",
            "  'precision', 'predicted', average, warn_for)\n",
            "/usr/local/lib/python3.6/dist-packages/sklearn/metrics/classification.py:1437: UndefinedMetricWarning: F-score is ill-defined and being set to 0.0 due to no predicted samples.\n",
            "  'precision', 'predicted', average, warn_for)\n",
            "/usr/local/lib/python3.6/dist-packages/sklearn/metrics/classification.py:1437: UndefinedMetricWarning: F-score is ill-defined and being set to 0.0 due to no predicted samples.\n",
            "  'precision', 'predicted', average, warn_for)\n",
            "/usr/local/lib/python3.6/dist-packages/sklearn/metrics/classification.py:1437: UndefinedMetricWarning: F-score is ill-defined and being set to 0.0 due to no predicted samples.\n",
            "  'precision', 'predicted', average, warn_for)\n"
          ],
          "name": "stderr"
        },
        {
          "output_type": "stream",
          "text": [
            "Best Params: {'C': 0.03, 'gamma': 0.3}\n",
            "              precision    recall  f1-score   support\n",
            "\n",
            "           0       0.45      1.00      0.62        60\n",
            "           1       0.00      0.00      0.00        72\n",
            "\n",
            "    accuracy                           0.45       132\n",
            "   macro avg       0.23      0.50      0.31       132\n",
            "weighted avg       0.21      0.45      0.28       132\n",
            "\n",
            "[[60  0]\n",
            " [72  0]]\n"
          ],
          "name": "stdout"
        },
        {
          "output_type": "stream",
          "text": [
            "/usr/local/lib/python3.6/dist-packages/sklearn/metrics/classification.py:1437: UndefinedMetricWarning: Precision and F-score are ill-defined and being set to 0.0 in labels with no predicted samples.\n",
            "  'precision', 'predicted', average, warn_for)\n"
          ],
          "name": "stderr"
        }
      ]
    },
    {
      "cell_type": "code",
      "metadata": {
        "id": "MtYWrGrCH9bw",
        "colab_type": "code",
        "outputId": "e6b92252-5531-4c89-da98-113a798b0b50",
        "colab": {
          "base_uri": "https://localhost:8080/",
          "height": 200
        }
      },
      "source": [
        "#repeating for polynomial kernel \n",
        "\n",
        "svc = SVC(kernel = \"poly\", degree = 2)\n",
        "sv_params = {\"C\": [0.03, 0.06, .09, .12, 0.15], \n",
        "             #\"kernel\": ['precomputed'],\n",
        "             'gamma': [0.3, .6, .9, 1.2, 1.5]}\n",
        "\n",
        "\n",
        "gridsearch = GridSearchCV(svc, \n",
        "                          sv_params, \n",
        "                          scoring='f1',\n",
        "                          cv = 3\n",
        "                          )\n",
        "\n",
        "gridsearch.fit(X_train, y_train)\n",
        "\n",
        "y_pred = gridsearch.predict(X_test)\n",
        "#print(\"Best Params: {}\".format(gridsearch.best_params_))\n",
        "#getting accuracy metrics \n",
        "from sklearn.metrics import f1_score, classification_report\n",
        "report = classification_report(y_test, y_pred)\n",
        "print(report)\n",
        "\n",
        "from sklearn.metrics import confusion_matrix\n",
        "\n",
        "cm = confusion_matrix(y_test, y_pred)\n",
        "print(cm)\n",
        "\n",
        "#also classifying very accurately. Just two wrong, so it looks like there is a \n",
        "# very linear relationship between the clusters of above and below average MPG\n",
        "# this one just got one extra wrong than the linear model, but still really good\n"
      ],
      "execution_count": 30,
      "outputs": [
        {
          "output_type": "stream",
          "text": [
            "              precision    recall  f1-score   support\n",
            "\n",
            "           0       0.97      0.98      0.98        60\n",
            "           1       0.99      0.97      0.98        72\n",
            "\n",
            "    accuracy                           0.98       132\n",
            "   macro avg       0.98      0.98      0.98       132\n",
            "weighted avg       0.98      0.98      0.98       132\n",
            "\n",
            "[[59  1]\n",
            " [ 2 70]]\n"
          ],
          "name": "stdout"
        }
      ]
    },
    {
      "cell_type": "code",
      "metadata": {
        "id": "miowIkbBPcUs",
        "colab_type": "code",
        "colab": {
          "base_uri": "https://localhost:8080/",
          "height": 287
        },
        "outputId": "f3550bac-2089-4e2b-ea74-a402ab5ab85f"
      },
      "source": [
        "## Questions about the project \n",
        "\n",
        "#whith hom are you colaberating \n",
        "'''nobody'''\n",
        "#what is the research question your project will be answering?\n",
        "'''Can we effectively teach the computer to preduct NCAA march madness and \n",
        "what are the most important variables if we can do so'''\n",
        "#what data are you using?\n",
        "''' data primarily from Kaggle, they did a competition to do this a year ago'''\n",
        "teams = pd.read_csv(\"/content/drive/My Drive/Teams.csv\")\n",
        "teams.describe()"
      ],
      "execution_count": 31,
      "outputs": [
        {
          "output_type": "execute_result",
          "data": {
            "text/html": [
              "<div>\n",
              "<style scoped>\n",
              "    .dataframe tbody tr th:only-of-type {\n",
              "        vertical-align: middle;\n",
              "    }\n",
              "\n",
              "    .dataframe tbody tr th {\n",
              "        vertical-align: top;\n",
              "    }\n",
              "\n",
              "    .dataframe thead th {\n",
              "        text-align: right;\n",
              "    }\n",
              "</style>\n",
              "<table border=\"1\" class=\"dataframe\">\n",
              "  <thead>\n",
              "    <tr style=\"text-align: right;\">\n",
              "      <th></th>\n",
              "      <th>TeamID</th>\n",
              "      <th>FirstD1Season</th>\n",
              "      <th>LastD1Season</th>\n",
              "    </tr>\n",
              "  </thead>\n",
              "  <tbody>\n",
              "    <tr>\n",
              "      <th>count</th>\n",
              "      <td>364.000000</td>\n",
              "      <td>364.000000</td>\n",
              "      <td>364.000000</td>\n",
              "    </tr>\n",
              "    <tr>\n",
              "      <th>mean</th>\n",
              "      <td>1282.500000</td>\n",
              "      <td>1988.192308</td>\n",
              "      <td>2017.184066</td>\n",
              "    </tr>\n",
              "    <tr>\n",
              "      <th>std</th>\n",
              "      <td>105.221988</td>\n",
              "      <td>7.126666</td>\n",
              "      <td>4.573449</td>\n",
              "    </tr>\n",
              "    <tr>\n",
              "      <th>min</th>\n",
              "      <td>1101.000000</td>\n",
              "      <td>1985.000000</td>\n",
              "      <td>1985.000000</td>\n",
              "    </tr>\n",
              "    <tr>\n",
              "      <th>25%</th>\n",
              "      <td>1191.750000</td>\n",
              "      <td>1985.000000</td>\n",
              "      <td>2018.000000</td>\n",
              "    </tr>\n",
              "    <tr>\n",
              "      <th>50%</th>\n",
              "      <td>1282.500000</td>\n",
              "      <td>1985.000000</td>\n",
              "      <td>2018.000000</td>\n",
              "    </tr>\n",
              "    <tr>\n",
              "      <th>75%</th>\n",
              "      <td>1373.250000</td>\n",
              "      <td>1985.000000</td>\n",
              "      <td>2018.000000</td>\n",
              "    </tr>\n",
              "    <tr>\n",
              "      <th>max</th>\n",
              "      <td>1464.000000</td>\n",
              "      <td>2014.000000</td>\n",
              "      <td>2018.000000</td>\n",
              "    </tr>\n",
              "  </tbody>\n",
              "</table>\n",
              "</div>"
            ],
            "text/plain": [
              "            TeamID  FirstD1Season  LastD1Season\n",
              "count   364.000000     364.000000    364.000000\n",
              "mean   1282.500000    1988.192308   2017.184066\n",
              "std     105.221988       7.126666      4.573449\n",
              "min    1101.000000    1985.000000   1985.000000\n",
              "25%    1191.750000    1985.000000   2018.000000\n",
              "50%    1282.500000    1985.000000   2018.000000\n",
              "75%    1373.250000    1985.000000   2018.000000\n",
              "max    1464.000000    2014.000000   2018.000000"
            ]
          },
          "metadata": {
            "tags": []
          },
          "execution_count": 31
        }
      ]
    },
    {
      "cell_type": "code",
      "metadata": {
        "id": "HGV1PWdui2CD",
        "colab_type": "code",
        "colab": {
          "base_uri": "https://localhost:8080/",
          "height": 287
        },
        "outputId": "114fc71f-f375-43ec-ee60-ddb676391814"
      },
      "source": [
        "\n",
        "power_seed = pd.read_csv(\"/content/drive/My Drive/PowerSeeds.csv\")\n",
        "power_seed.describe()\n",
        "#will have to merge these tables and various others in the future "
      ],
      "execution_count": 32,
      "outputs": [
        {
          "output_type": "execute_result",
          "data": {
            "text/html": [
              "<div>\n",
              "<style scoped>\n",
              "    .dataframe tbody tr th:only-of-type {\n",
              "        vertical-align: middle;\n",
              "    }\n",
              "\n",
              "    .dataframe tbody tr th {\n",
              "        vertical-align: top;\n",
              "    }\n",
              "\n",
              "    .dataframe thead th {\n",
              "        text-align: right;\n",
              "    }\n",
              "</style>\n",
              "<table border=\"1\" class=\"dataframe\">\n",
              "  <thead>\n",
              "    <tr style=\"text-align: right;\">\n",
              "      <th></th>\n",
              "      <th>Season</th>\n",
              "      <th>PowerSeed</th>\n",
              "    </tr>\n",
              "  </thead>\n",
              "  <tbody>\n",
              "    <tr>\n",
              "      <th>count</th>\n",
              "      <td>960.000000</td>\n",
              "      <td>960.000000</td>\n",
              "    </tr>\n",
              "    <tr>\n",
              "      <th>mean</th>\n",
              "      <td>2010.000000</td>\n",
              "      <td>32.500000</td>\n",
              "    </tr>\n",
              "    <tr>\n",
              "      <th>std</th>\n",
              "      <td>4.322746</td>\n",
              "      <td>18.482582</td>\n",
              "    </tr>\n",
              "    <tr>\n",
              "      <th>min</th>\n",
              "      <td>2003.000000</td>\n",
              "      <td>1.000000</td>\n",
              "    </tr>\n",
              "    <tr>\n",
              "      <th>25%</th>\n",
              "      <td>2006.000000</td>\n",
              "      <td>16.750000</td>\n",
              "    </tr>\n",
              "    <tr>\n",
              "      <th>50%</th>\n",
              "      <td>2010.000000</td>\n",
              "      <td>32.500000</td>\n",
              "    </tr>\n",
              "    <tr>\n",
              "      <th>75%</th>\n",
              "      <td>2014.000000</td>\n",
              "      <td>48.250000</td>\n",
              "    </tr>\n",
              "    <tr>\n",
              "      <th>max</th>\n",
              "      <td>2017.000000</td>\n",
              "      <td>64.000000</td>\n",
              "    </tr>\n",
              "  </tbody>\n",
              "</table>\n",
              "</div>"
            ],
            "text/plain": [
              "            Season  PowerSeed \n",
              "count   960.000000  960.000000\n",
              "mean   2010.000000   32.500000\n",
              "std       4.322746   18.482582\n",
              "min    2003.000000    1.000000\n",
              "25%    2006.000000   16.750000\n",
              "50%    2010.000000   32.500000\n",
              "75%    2014.000000   48.250000\n",
              "max    2017.000000   64.000000"
            ]
          },
          "metadata": {
            "tags": []
          },
          "execution_count": 32
        }
      ]
    },
    {
      "cell_type": "code",
      "metadata": {
        "id": "aPMhErlMj8_n",
        "colab_type": "code",
        "colab": {
          "base_uri": "https://localhost:8080/",
          "height": 53
        },
        "outputId": "4e4083c9-6563-4ef7-d57a-a5e10aca18ab"
      },
      "source": [
        "#what machine learning methods will you use?\n",
        "\n",
        "'''\n",
        "off the top of my head I think I will use a random forest and a gradient boosting \n",
        "to figure out to see if the higher seed won or lost. We will use dummy variables for \n",
        "power 5 conference, it is widely accepted that power 5 conferences are stronger, because \n",
        "they get better recruits, have more money, so we can use a conference dummy \n",
        "variable to show the effect of being in a power 5 conference on the effect of\n",
        "winning in march. \n",
        "''' "
      ],
      "execution_count": 37,
      "outputs": [
        {
          "output_type": "execute_result",
          "data": {
            "text/plain": [
              "'\\noff the top of my head I think I will use a random forest and a gradient boosting \\nto figure out to see if the higher seed won or lost. We will use dummy variables for \\npower 5 conference, it is widely accepted that power 5 conferences are stronger, because \\nthey get better recruits, have more money, so we can use a conference dummy \\nvariable to show the effect of being in a power 5 conference on the effect of\\nwinning in march. \\n'"
            ]
          },
          "metadata": {
            "tags": []
          },
          "execution_count": 37
        }
      ]
    },
    {
      "cell_type": "code",
      "metadata": {
        "id": "_8PPb3DrkNkP",
        "colab_type": "code",
        "colab": {}
      },
      "source": [
        ""
      ],
      "execution_count": 0,
      "outputs": []
    }
  ]
}